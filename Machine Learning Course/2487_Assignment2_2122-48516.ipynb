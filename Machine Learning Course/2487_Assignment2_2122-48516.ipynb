{
 "cells": [
  {
   "cell_type": "markdown",
   "metadata": {},
   "source": [
    "# 2487-2122 Machine Learning Assignment 2 \n",
    "\n",
    "The assignment will contain 1 questions with subquestions for 100% of the total points. \n",
    "\n",
    "# STUDENT NAME: ISABEL MORA LABARCA (48516)\n",
    " \n",
    "\n",
    "## Call Me Maybe? (100 points)\n",
    "\n",
    "\n",
    "\n",
    "![telemarketing](https://neilpatel.com/wp-content/uploads/2019/08/profissional-de-telemarketing-sorridente.jpeg)\n",
    "\n",
    "Telemarketing is a method of direct marketing in which a salesperson solicits prospective customers to buy products or services over the phone. It has become one of the most widely used marketing campaign methods to engage with customers with product and service opportunity. We have collected real data from a Portuguese retail bank, from May 2008 to June 2013 with thousands of phone contacts. \n",
    "\n",
    "\n",
    "\n",
    "\n",
    "The current practice of many data teams is to build such propensity models and predict customer's probability to adopt the product and target them from the highest probability to the lowest probability. Note that telemarketing may incur some costs for contacting the customer, thus the success (i.e., the generated profit) of using machine learning model requries further inspection.  As the data scientist, you are asked to build a propensity model to evaluate the effectiveness of their telemarketing campaigns, i.e. whether the customer subscribed to the term deposit.  \n",
    "\n",
    "**Telemarketing Dataset (bank.csv)**\n",
    "All customers are contained in the file bank.csv. Each line of this file after the header row represents one customer of the Portuguese bank, and has the following format:\n",
    "\n",
    "### bank client data:\n",
    "- age (numeric)\n",
    "- job : type of job (categorical: 'admin.','blue-collar','entrepreneur','housemaid','management','retired','self-employed','services','student','technician','unemployed','unknown')\n",
    "- marital : marital status (categorical: 'divorced','married','single','unknown'; note: 'divorced' means divorced or widowed)\n",
    "- education (categorical: 'primary', 'secondary', 'tertiary')\n",
    "- balance: amcount of bank account balance\n",
    "- default: has credit in default? (categorical: 'no','yes','unknown')\n",
    "- housing: has housing loan? (categorical: 'no','yes','unknown')\n",
    "- loan: has personal loan? (categorical: 'no','yes','unknown')\n",
    "\n",
    "### related with the last contact of the current campaign:\n",
    "- contact: contact communication type (categorical: 'cellular','telephone', 'unknown')\n",
    "- day: last contact day of month\n",
    "- month: last contact month of year (categorical: 'jan', 'feb', 'mar', ..., 'nov', 'dec')\n",
    "- duration: last contact duration, in seconds (numeric). Important note: this attribute highly affects the output target (e.g., if duration=0 then y='no'). Yet, the duration is not known before a call is performed. \n",
    "\n",
    "### other attributes:\n",
    "- campaign: number of contacts performed during this campaign and for this client (numeric, includes last contact)\n",
    "- pdays: number of days that passed by after the client was last contacted from a previous campaign (numeric; -1 means client was not previously contacted)\n",
    "- previous: number of contacts performed before this campaign and for this client (numeric)\n",
    "- poutcome: outcome of the previous marketing campaign (categorical: 'failure','nonexistent','success')\n",
    "- y - has the client subscribed a term deposit? (binary: 'yes','no')\n",
    "\n",
    "\n",
    "Answer the following questions using the provided dataset. You can write down intermediate results towards the final answers. If any model invovles random_state, set it to be 42."
   ]
  },
  {
   "cell_type": "code",
   "execution_count": 1,
   "metadata": {},
   "outputs": [],
   "source": [
    "import pandas as pd\n",
    "import numpy as np"
   ]
  },
  {
   "cell_type": "code",
   "execution_count": 2,
   "metadata": {},
   "outputs": [
    {
     "data": {
      "text/html": [
       "<div>\n",
       "<style scoped>\n",
       "    .dataframe tbody tr th:only-of-type {\n",
       "        vertical-align: middle;\n",
       "    }\n",
       "\n",
       "    .dataframe tbody tr th {\n",
       "        vertical-align: top;\n",
       "    }\n",
       "\n",
       "    .dataframe thead th {\n",
       "        text-align: right;\n",
       "    }\n",
       "</style>\n",
       "<table border=\"1\" class=\"dataframe\">\n",
       "  <thead>\n",
       "    <tr style=\"text-align: right;\">\n",
       "      <th></th>\n",
       "      <th>age</th>\n",
       "      <th>job</th>\n",
       "      <th>marital</th>\n",
       "      <th>education</th>\n",
       "      <th>default</th>\n",
       "      <th>balance</th>\n",
       "      <th>housing</th>\n",
       "      <th>loan</th>\n",
       "      <th>contact</th>\n",
       "      <th>day</th>\n",
       "      <th>month</th>\n",
       "      <th>duration</th>\n",
       "      <th>campaign</th>\n",
       "      <th>pdays</th>\n",
       "      <th>previous</th>\n",
       "      <th>poutcome</th>\n",
       "      <th>y</th>\n",
       "    </tr>\n",
       "  </thead>\n",
       "  <tbody>\n",
       "    <tr>\n",
       "      <th>0</th>\n",
       "      <td>30</td>\n",
       "      <td>unemployed</td>\n",
       "      <td>married</td>\n",
       "      <td>primary</td>\n",
       "      <td>no</td>\n",
       "      <td>1787</td>\n",
       "      <td>no</td>\n",
       "      <td>no</td>\n",
       "      <td>cellular</td>\n",
       "      <td>19</td>\n",
       "      <td>oct</td>\n",
       "      <td>79</td>\n",
       "      <td>1</td>\n",
       "      <td>-1</td>\n",
       "      <td>0</td>\n",
       "      <td>unknown</td>\n",
       "      <td>no</td>\n",
       "    </tr>\n",
       "    <tr>\n",
       "      <th>1</th>\n",
       "      <td>33</td>\n",
       "      <td>services</td>\n",
       "      <td>married</td>\n",
       "      <td>secondary</td>\n",
       "      <td>no</td>\n",
       "      <td>4789</td>\n",
       "      <td>yes</td>\n",
       "      <td>yes</td>\n",
       "      <td>cellular</td>\n",
       "      <td>11</td>\n",
       "      <td>may</td>\n",
       "      <td>220</td>\n",
       "      <td>1</td>\n",
       "      <td>339</td>\n",
       "      <td>4</td>\n",
       "      <td>failure</td>\n",
       "      <td>no</td>\n",
       "    </tr>\n",
       "    <tr>\n",
       "      <th>2</th>\n",
       "      <td>35</td>\n",
       "      <td>management</td>\n",
       "      <td>single</td>\n",
       "      <td>tertiary</td>\n",
       "      <td>no</td>\n",
       "      <td>1350</td>\n",
       "      <td>yes</td>\n",
       "      <td>no</td>\n",
       "      <td>cellular</td>\n",
       "      <td>16</td>\n",
       "      <td>apr</td>\n",
       "      <td>185</td>\n",
       "      <td>1</td>\n",
       "      <td>330</td>\n",
       "      <td>1</td>\n",
       "      <td>failure</td>\n",
       "      <td>no</td>\n",
       "    </tr>\n",
       "    <tr>\n",
       "      <th>3</th>\n",
       "      <td>30</td>\n",
       "      <td>management</td>\n",
       "      <td>married</td>\n",
       "      <td>tertiary</td>\n",
       "      <td>no</td>\n",
       "      <td>1476</td>\n",
       "      <td>yes</td>\n",
       "      <td>yes</td>\n",
       "      <td>unknown</td>\n",
       "      <td>3</td>\n",
       "      <td>jun</td>\n",
       "      <td>199</td>\n",
       "      <td>4</td>\n",
       "      <td>-1</td>\n",
       "      <td>0</td>\n",
       "      <td>unknown</td>\n",
       "      <td>no</td>\n",
       "    </tr>\n",
       "    <tr>\n",
       "      <th>4</th>\n",
       "      <td>59</td>\n",
       "      <td>blue-collar</td>\n",
       "      <td>married</td>\n",
       "      <td>secondary</td>\n",
       "      <td>no</td>\n",
       "      <td>0</td>\n",
       "      <td>yes</td>\n",
       "      <td>no</td>\n",
       "      <td>unknown</td>\n",
       "      <td>5</td>\n",
       "      <td>may</td>\n",
       "      <td>226</td>\n",
       "      <td>1</td>\n",
       "      <td>-1</td>\n",
       "      <td>0</td>\n",
       "      <td>unknown</td>\n",
       "      <td>no</td>\n",
       "    </tr>\n",
       "  </tbody>\n",
       "</table>\n",
       "</div>"
      ],
      "text/plain": [
       "   age          job  marital  education default  balance housing loan  \\\n",
       "0   30   unemployed  married    primary      no     1787      no   no   \n",
       "1   33     services  married  secondary      no     4789     yes  yes   \n",
       "2   35   management   single   tertiary      no     1350     yes   no   \n",
       "3   30   management  married   tertiary      no     1476     yes  yes   \n",
       "4   59  blue-collar  married  secondary      no        0     yes   no   \n",
       "\n",
       "    contact  day month  duration  campaign  pdays  previous poutcome   y  \n",
       "0  cellular   19   oct        79         1     -1         0  unknown  no  \n",
       "1  cellular   11   may       220         1    339         4  failure  no  \n",
       "2  cellular   16   apr       185         1    330         1  failure  no  \n",
       "3   unknown    3   jun       199         4     -1         0  unknown  no  \n",
       "4   unknown    5   may       226         1     -1         0  unknown  no  "
      ]
     },
     "execution_count": 2,
     "metadata": {},
     "output_type": "execute_result"
    }
   ],
   "source": [
    "bank = pd.read_csv('bank.csv', sep=';')\n",
    "bank.head()"
   ]
  },
  {
   "cell_type": "code",
   "execution_count": 3,
   "metadata": {},
   "outputs": [
    {
     "data": {
      "text/plain": [
       "age           int64\n",
       "job          object\n",
       "marital      object\n",
       "education    object\n",
       "default      object\n",
       "balance       int64\n",
       "housing      object\n",
       "loan         object\n",
       "contact      object\n",
       "day           int64\n",
       "month        object\n",
       "duration      int64\n",
       "campaign      int64\n",
       "pdays         int64\n",
       "previous      int64\n",
       "poutcome     object\n",
       "y            object\n",
       "dtype: object"
      ]
     },
     "execution_count": 3,
     "metadata": {},
     "output_type": "execute_result"
    }
   ],
   "source": [
    "bank.dtypes"
   ]
  },
  {
   "cell_type": "code",
   "execution_count": 4,
   "metadata": {},
   "outputs": [
    {
     "data": {
      "text/html": [
       "<div>\n",
       "<style scoped>\n",
       "    .dataframe tbody tr th:only-of-type {\n",
       "        vertical-align: middle;\n",
       "    }\n",
       "\n",
       "    .dataframe tbody tr th {\n",
       "        vertical-align: top;\n",
       "    }\n",
       "\n",
       "    .dataframe thead th {\n",
       "        text-align: right;\n",
       "    }\n",
       "</style>\n",
       "<table border=\"1\" class=\"dataframe\">\n",
       "  <thead>\n",
       "    <tr style=\"text-align: right;\">\n",
       "      <th></th>\n",
       "      <th>age</th>\n",
       "      <th>balance</th>\n",
       "      <th>day</th>\n",
       "      <th>duration</th>\n",
       "      <th>campaign</th>\n",
       "      <th>pdays</th>\n",
       "      <th>previous</th>\n",
       "    </tr>\n",
       "  </thead>\n",
       "  <tbody>\n",
       "    <tr>\n",
       "      <th>count</th>\n",
       "      <td>4521.000000</td>\n",
       "      <td>4521.000000</td>\n",
       "      <td>4521.000000</td>\n",
       "      <td>4521.000000</td>\n",
       "      <td>4521.000000</td>\n",
       "      <td>4521.000000</td>\n",
       "      <td>4521.000000</td>\n",
       "    </tr>\n",
       "    <tr>\n",
       "      <th>mean</th>\n",
       "      <td>41.170095</td>\n",
       "      <td>1422.657819</td>\n",
       "      <td>15.915284</td>\n",
       "      <td>263.961292</td>\n",
       "      <td>2.793630</td>\n",
       "      <td>39.766645</td>\n",
       "      <td>0.542579</td>\n",
       "    </tr>\n",
       "    <tr>\n",
       "      <th>std</th>\n",
       "      <td>10.576211</td>\n",
       "      <td>3009.638142</td>\n",
       "      <td>8.247667</td>\n",
       "      <td>259.856633</td>\n",
       "      <td>3.109807</td>\n",
       "      <td>100.121124</td>\n",
       "      <td>1.693562</td>\n",
       "    </tr>\n",
       "    <tr>\n",
       "      <th>min</th>\n",
       "      <td>19.000000</td>\n",
       "      <td>-3313.000000</td>\n",
       "      <td>1.000000</td>\n",
       "      <td>4.000000</td>\n",
       "      <td>1.000000</td>\n",
       "      <td>-1.000000</td>\n",
       "      <td>0.000000</td>\n",
       "    </tr>\n",
       "    <tr>\n",
       "      <th>25%</th>\n",
       "      <td>33.000000</td>\n",
       "      <td>69.000000</td>\n",
       "      <td>9.000000</td>\n",
       "      <td>104.000000</td>\n",
       "      <td>1.000000</td>\n",
       "      <td>-1.000000</td>\n",
       "      <td>0.000000</td>\n",
       "    </tr>\n",
       "    <tr>\n",
       "      <th>50%</th>\n",
       "      <td>39.000000</td>\n",
       "      <td>444.000000</td>\n",
       "      <td>16.000000</td>\n",
       "      <td>185.000000</td>\n",
       "      <td>2.000000</td>\n",
       "      <td>-1.000000</td>\n",
       "      <td>0.000000</td>\n",
       "    </tr>\n",
       "    <tr>\n",
       "      <th>75%</th>\n",
       "      <td>49.000000</td>\n",
       "      <td>1480.000000</td>\n",
       "      <td>21.000000</td>\n",
       "      <td>329.000000</td>\n",
       "      <td>3.000000</td>\n",
       "      <td>-1.000000</td>\n",
       "      <td>0.000000</td>\n",
       "    </tr>\n",
       "    <tr>\n",
       "      <th>max</th>\n",
       "      <td>87.000000</td>\n",
       "      <td>71188.000000</td>\n",
       "      <td>31.000000</td>\n",
       "      <td>3025.000000</td>\n",
       "      <td>50.000000</td>\n",
       "      <td>871.000000</td>\n",
       "      <td>25.000000</td>\n",
       "    </tr>\n",
       "  </tbody>\n",
       "</table>\n",
       "</div>"
      ],
      "text/plain": [
       "               age       balance          day     duration     campaign  \\\n",
       "count  4521.000000   4521.000000  4521.000000  4521.000000  4521.000000   \n",
       "mean     41.170095   1422.657819    15.915284   263.961292     2.793630   \n",
       "std      10.576211   3009.638142     8.247667   259.856633     3.109807   \n",
       "min      19.000000  -3313.000000     1.000000     4.000000     1.000000   \n",
       "25%      33.000000     69.000000     9.000000   104.000000     1.000000   \n",
       "50%      39.000000    444.000000    16.000000   185.000000     2.000000   \n",
       "75%      49.000000   1480.000000    21.000000   329.000000     3.000000   \n",
       "max      87.000000  71188.000000    31.000000  3025.000000    50.000000   \n",
       "\n",
       "             pdays     previous  \n",
       "count  4521.000000  4521.000000  \n",
       "mean     39.766645     0.542579  \n",
       "std     100.121124     1.693562  \n",
       "min      -1.000000     0.000000  \n",
       "25%      -1.000000     0.000000  \n",
       "50%      -1.000000     0.000000  \n",
       "75%      -1.000000     0.000000  \n",
       "max     871.000000    25.000000  "
      ]
     },
     "execution_count": 4,
     "metadata": {},
     "output_type": "execute_result"
    }
   ],
   "source": [
    "bank.describe()"
   ]
  },
  {
   "cell_type": "code",
   "execution_count": 5,
   "metadata": {},
   "outputs": [
    {
     "data": {
      "text/plain": [
       "no     4000\n",
       "yes     521\n",
       "Name: y, dtype: int64"
      ]
     },
     "execution_count": 5,
     "metadata": {},
     "output_type": "execute_result"
    }
   ],
   "source": [
    "bank.y.value_counts()"
   ]
  },
  {
   "cell_type": "markdown",
   "metadata": {},
   "source": [
    "The customer adoption behavior is quite unbalanced, with only 12% of customers subscriber the term deposit."
   ]
  },
  {
   "cell_type": "markdown",
   "metadata": {},
   "source": [
    "### Question 1 (30 points)\n",
    "\n",
    "Split the data into 80% training set and 20% test set. **Build a pipeline to preprocess the indicated numerical features and categorical features separately**. For numerical features 'balance', 'campaign', standardize these features. For categorical features 'job', 'marital', 'education', 'default', transform them through one-hot encoding. For the numeric feature 'age', convert it into the quartile categorical variable and transform it through one-hot encoding. \n",
    "\n",
    "Train a Logistic regression model with L2 regularization using 5-fold cross validation (default hyperparameter) on the train set and show the accuracy, precision, recall on the train set. Explain whether the model is useful for the bank to identify the customer propensity."
   ]
  },
  {
   "cell_type": "markdown",
   "metadata": {},
   "source": [
    "#### Imports\n",
    "Note: If not installed, it might be required to install sklearn-pandas"
   ]
  },
  {
   "cell_type": "code",
   "execution_count": 6,
   "metadata": {},
   "outputs": [],
   "source": [
    "from sklearn.model_selection import StratifiedShuffleSplit\n",
    "from sklearn.model_selection import train_test_split\n",
    "from sklearn.base import BaseEstimator, TransformerMixin\n",
    "from sklearn.pipeline import Pipeline\n",
    "from sklearn.preprocessing import StandardScaler\n",
    "from sklearn.pipeline import FeatureUnion\n",
    "from sklearn.preprocessing import KBinsDiscretizer\n",
    "from sklearn.preprocessing import OneHotEncoder\n",
    "from sklearn_pandas import DataFrameMapper\n",
    "import sklearn.preprocessing, sklearn.decomposition, \\\n",
    "sklearn.linear_model, sklearn.pipeline, sklearn.metrics\n",
    "from sklearn.feature_extraction.text import CountVectorizer\n",
    "from sklearn.linear_model import LogisticRegression\n",
    "from sklearn.model_selection import cross_validate\n",
    "import numpy as np\n",
    "from sklearn.metrics import confusion_matrix\n"
   ]
  },
  {
   "cell_type": "code",
   "execution_count": 8,
   "metadata": {
    "scrolled": true
   },
   "outputs": [
    {
     "name": "stdout",
     "output_type": "stream",
     "text": [
      "Requirement already satisfied: sklearn-pandas in c:\\users\\isabel\\anaconda3\\lib\\site-packages (2.2.0)\n",
      "Requirement already satisfied: pandas>=1.1.4 in c:\\users\\isabel\\anaconda3\\lib\\site-packages (from sklearn-pandas) (1.2.4)\n",
      "Requirement already satisfied: scikit-learn>=0.23.0 in c:\\users\\isabel\\anaconda3\\lib\\site-packages (from sklearn-pandas) (1.0.2)\n",
      "Requirement already satisfied: scipy>=1.5.1 in c:\\users\\isabel\\anaconda3\\lib\\site-packages (from sklearn-pandas) (1.6.2)\n",
      "Requirement already satisfied: numpy>=1.18.1 in c:\\users\\isabel\\anaconda3\\lib\\site-packages (from sklearn-pandas) (1.20.1)\n",
      "Requirement already satisfied: pytz>=2017.3 in c:\\users\\isabel\\anaconda3\\lib\\site-packages (from pandas>=1.1.4->sklearn-pandas) (2021.1)\n",
      "Requirement already satisfied: python-dateutil>=2.7.3 in c:\\users\\isabel\\anaconda3\\lib\\site-packages (from pandas>=1.1.4->sklearn-pandas) (2.8.1)\n",
      "Requirement already satisfied: six>=1.5 in c:\\users\\isabel\\anaconda3\\lib\\site-packages (from python-dateutil>=2.7.3->pandas>=1.1.4->sklearn-pandas) (1.15.0)\n",
      "Requirement already satisfied: threadpoolctl>=2.0.0 in c:\\users\\isabel\\anaconda3\\lib\\site-packages (from scikit-learn>=0.23.0->sklearn-pandas) (2.1.0)\n",
      "Requirement already satisfied: joblib>=0.11 in c:\\users\\isabel\\anaconda3\\lib\\site-packages (from scikit-learn>=0.23.0->sklearn-pandas) (1.0.1)\n",
      "Note: you may need to restart the kernel to use updated packages.\n"
     ]
    }
   ],
   "source": [
    "pip install sklearn-pandas"
   ]
  },
  {
   "cell_type": "code",
   "execution_count": 9,
   "metadata": {},
   "outputs": [],
   "source": [
    "np.random.seed(42) # to guarantee consistent results if run multiple times"
   ]
  },
  {
   "cell_type": "code",
   "execution_count": 10,
   "metadata": {},
   "outputs": [
    {
     "data": {
      "text/plain": [
       "(4521, 17)"
      ]
     },
     "execution_count": 10,
     "metadata": {},
     "output_type": "execute_result"
    }
   ],
   "source": [
    "bank.shape # data size influences how we split the data"
   ]
  },
  {
   "cell_type": "code",
   "execution_count": 86,
   "metadata": {},
   "outputs": [
    {
     "data": {
      "text/html": [
       "<div>\n",
       "<style scoped>\n",
       "    .dataframe tbody tr th:only-of-type {\n",
       "        vertical-align: middle;\n",
       "    }\n",
       "\n",
       "    .dataframe tbody tr th {\n",
       "        vertical-align: top;\n",
       "    }\n",
       "\n",
       "    .dataframe thead th {\n",
       "        text-align: right;\n",
       "    }\n",
       "</style>\n",
       "<table border=\"1\" class=\"dataframe\">\n",
       "  <thead>\n",
       "    <tr style=\"text-align: right;\">\n",
       "      <th></th>\n",
       "      <th>age</th>\n",
       "      <th>job</th>\n",
       "      <th>marital</th>\n",
       "      <th>education</th>\n",
       "      <th>default</th>\n",
       "      <th>balance</th>\n",
       "      <th>housing</th>\n",
       "      <th>loan</th>\n",
       "      <th>contact</th>\n",
       "      <th>day</th>\n",
       "      <th>month</th>\n",
       "      <th>duration</th>\n",
       "      <th>campaign</th>\n",
       "      <th>pdays</th>\n",
       "      <th>previous</th>\n",
       "      <th>poutcome</th>\n",
       "      <th>y</th>\n",
       "    </tr>\n",
       "  </thead>\n",
       "  <tbody>\n",
       "    <tr>\n",
       "      <th>0</th>\n",
       "      <td>30</td>\n",
       "      <td>unemployed</td>\n",
       "      <td>married</td>\n",
       "      <td>primary</td>\n",
       "      <td>no</td>\n",
       "      <td>1787</td>\n",
       "      <td>no</td>\n",
       "      <td>no</td>\n",
       "      <td>cellular</td>\n",
       "      <td>19</td>\n",
       "      <td>oct</td>\n",
       "      <td>79</td>\n",
       "      <td>1</td>\n",
       "      <td>-1</td>\n",
       "      <td>0</td>\n",
       "      <td>unknown</td>\n",
       "      <td>no</td>\n",
       "    </tr>\n",
       "    <tr>\n",
       "      <th>1</th>\n",
       "      <td>33</td>\n",
       "      <td>services</td>\n",
       "      <td>married</td>\n",
       "      <td>secondary</td>\n",
       "      <td>no</td>\n",
       "      <td>4789</td>\n",
       "      <td>yes</td>\n",
       "      <td>yes</td>\n",
       "      <td>cellular</td>\n",
       "      <td>11</td>\n",
       "      <td>may</td>\n",
       "      <td>220</td>\n",
       "      <td>1</td>\n",
       "      <td>339</td>\n",
       "      <td>4</td>\n",
       "      <td>failure</td>\n",
       "      <td>no</td>\n",
       "    </tr>\n",
       "    <tr>\n",
       "      <th>2</th>\n",
       "      <td>35</td>\n",
       "      <td>management</td>\n",
       "      <td>single</td>\n",
       "      <td>tertiary</td>\n",
       "      <td>no</td>\n",
       "      <td>1350</td>\n",
       "      <td>yes</td>\n",
       "      <td>no</td>\n",
       "      <td>cellular</td>\n",
       "      <td>16</td>\n",
       "      <td>apr</td>\n",
       "      <td>185</td>\n",
       "      <td>1</td>\n",
       "      <td>330</td>\n",
       "      <td>1</td>\n",
       "      <td>failure</td>\n",
       "      <td>no</td>\n",
       "    </tr>\n",
       "    <tr>\n",
       "      <th>3</th>\n",
       "      <td>30</td>\n",
       "      <td>management</td>\n",
       "      <td>married</td>\n",
       "      <td>tertiary</td>\n",
       "      <td>no</td>\n",
       "      <td>1476</td>\n",
       "      <td>yes</td>\n",
       "      <td>yes</td>\n",
       "      <td>unknown</td>\n",
       "      <td>3</td>\n",
       "      <td>jun</td>\n",
       "      <td>199</td>\n",
       "      <td>4</td>\n",
       "      <td>-1</td>\n",
       "      <td>0</td>\n",
       "      <td>unknown</td>\n",
       "      <td>no</td>\n",
       "    </tr>\n",
       "    <tr>\n",
       "      <th>4</th>\n",
       "      <td>59</td>\n",
       "      <td>blue-collar</td>\n",
       "      <td>married</td>\n",
       "      <td>secondary</td>\n",
       "      <td>no</td>\n",
       "      <td>0</td>\n",
       "      <td>yes</td>\n",
       "      <td>no</td>\n",
       "      <td>unknown</td>\n",
       "      <td>5</td>\n",
       "      <td>may</td>\n",
       "      <td>226</td>\n",
       "      <td>1</td>\n",
       "      <td>-1</td>\n",
       "      <td>0</td>\n",
       "      <td>unknown</td>\n",
       "      <td>no</td>\n",
       "    </tr>\n",
       "    <tr>\n",
       "      <th>...</th>\n",
       "      <td>...</td>\n",
       "      <td>...</td>\n",
       "      <td>...</td>\n",
       "      <td>...</td>\n",
       "      <td>...</td>\n",
       "      <td>...</td>\n",
       "      <td>...</td>\n",
       "      <td>...</td>\n",
       "      <td>...</td>\n",
       "      <td>...</td>\n",
       "      <td>...</td>\n",
       "      <td>...</td>\n",
       "      <td>...</td>\n",
       "      <td>...</td>\n",
       "      <td>...</td>\n",
       "      <td>...</td>\n",
       "      <td>...</td>\n",
       "    </tr>\n",
       "    <tr>\n",
       "      <th>4516</th>\n",
       "      <td>33</td>\n",
       "      <td>services</td>\n",
       "      <td>married</td>\n",
       "      <td>secondary</td>\n",
       "      <td>no</td>\n",
       "      <td>-333</td>\n",
       "      <td>yes</td>\n",
       "      <td>no</td>\n",
       "      <td>cellular</td>\n",
       "      <td>30</td>\n",
       "      <td>jul</td>\n",
       "      <td>329</td>\n",
       "      <td>5</td>\n",
       "      <td>-1</td>\n",
       "      <td>0</td>\n",
       "      <td>unknown</td>\n",
       "      <td>no</td>\n",
       "    </tr>\n",
       "    <tr>\n",
       "      <th>4517</th>\n",
       "      <td>57</td>\n",
       "      <td>self-employed</td>\n",
       "      <td>married</td>\n",
       "      <td>tertiary</td>\n",
       "      <td>yes</td>\n",
       "      <td>-3313</td>\n",
       "      <td>yes</td>\n",
       "      <td>yes</td>\n",
       "      <td>unknown</td>\n",
       "      <td>9</td>\n",
       "      <td>may</td>\n",
       "      <td>153</td>\n",
       "      <td>1</td>\n",
       "      <td>-1</td>\n",
       "      <td>0</td>\n",
       "      <td>unknown</td>\n",
       "      <td>no</td>\n",
       "    </tr>\n",
       "    <tr>\n",
       "      <th>4518</th>\n",
       "      <td>57</td>\n",
       "      <td>technician</td>\n",
       "      <td>married</td>\n",
       "      <td>secondary</td>\n",
       "      <td>no</td>\n",
       "      <td>295</td>\n",
       "      <td>no</td>\n",
       "      <td>no</td>\n",
       "      <td>cellular</td>\n",
       "      <td>19</td>\n",
       "      <td>aug</td>\n",
       "      <td>151</td>\n",
       "      <td>11</td>\n",
       "      <td>-1</td>\n",
       "      <td>0</td>\n",
       "      <td>unknown</td>\n",
       "      <td>no</td>\n",
       "    </tr>\n",
       "    <tr>\n",
       "      <th>4519</th>\n",
       "      <td>28</td>\n",
       "      <td>blue-collar</td>\n",
       "      <td>married</td>\n",
       "      <td>secondary</td>\n",
       "      <td>no</td>\n",
       "      <td>1137</td>\n",
       "      <td>no</td>\n",
       "      <td>no</td>\n",
       "      <td>cellular</td>\n",
       "      <td>6</td>\n",
       "      <td>feb</td>\n",
       "      <td>129</td>\n",
       "      <td>4</td>\n",
       "      <td>211</td>\n",
       "      <td>3</td>\n",
       "      <td>other</td>\n",
       "      <td>no</td>\n",
       "    </tr>\n",
       "    <tr>\n",
       "      <th>4520</th>\n",
       "      <td>44</td>\n",
       "      <td>entrepreneur</td>\n",
       "      <td>single</td>\n",
       "      <td>tertiary</td>\n",
       "      <td>no</td>\n",
       "      <td>1136</td>\n",
       "      <td>yes</td>\n",
       "      <td>yes</td>\n",
       "      <td>cellular</td>\n",
       "      <td>3</td>\n",
       "      <td>apr</td>\n",
       "      <td>345</td>\n",
       "      <td>2</td>\n",
       "      <td>249</td>\n",
       "      <td>7</td>\n",
       "      <td>other</td>\n",
       "      <td>no</td>\n",
       "    </tr>\n",
       "  </tbody>\n",
       "</table>\n",
       "<p>4521 rows × 17 columns</p>\n",
       "</div>"
      ],
      "text/plain": [
       "      age            job  marital  education default  balance housing loan  \\\n",
       "0      30     unemployed  married    primary      no     1787      no   no   \n",
       "1      33       services  married  secondary      no     4789     yes  yes   \n",
       "2      35     management   single   tertiary      no     1350     yes   no   \n",
       "3      30     management  married   tertiary      no     1476     yes  yes   \n",
       "4      59    blue-collar  married  secondary      no        0     yes   no   \n",
       "...   ...            ...      ...        ...     ...      ...     ...  ...   \n",
       "4516   33       services  married  secondary      no     -333     yes   no   \n",
       "4517   57  self-employed  married   tertiary     yes    -3313     yes  yes   \n",
       "4518   57     technician  married  secondary      no      295      no   no   \n",
       "4519   28    blue-collar  married  secondary      no     1137      no   no   \n",
       "4520   44   entrepreneur   single   tertiary      no     1136     yes  yes   \n",
       "\n",
       "       contact  day month  duration  campaign  pdays  previous poutcome   y  \n",
       "0     cellular   19   oct        79         1     -1         0  unknown  no  \n",
       "1     cellular   11   may       220         1    339         4  failure  no  \n",
       "2     cellular   16   apr       185         1    330         1  failure  no  \n",
       "3      unknown    3   jun       199         4     -1         0  unknown  no  \n",
       "4      unknown    5   may       226         1     -1         0  unknown  no  \n",
       "...        ...  ...   ...       ...       ...    ...       ...      ...  ..  \n",
       "4516  cellular   30   jul       329         5     -1         0  unknown  no  \n",
       "4517   unknown    9   may       153         1     -1         0  unknown  no  \n",
       "4518  cellular   19   aug       151        11     -1         0  unknown  no  \n",
       "4519  cellular    6   feb       129         4    211         3    other  no  \n",
       "4520  cellular    3   apr       345         2    249         7    other  no  \n",
       "\n",
       "[4521 rows x 17 columns]"
      ]
     },
     "execution_count": 86,
     "metadata": {},
     "output_type": "execute_result"
    }
   ],
   "source": [
    "bank.drop_duplicates() # no duplicates in dataset"
   ]
  },
  {
   "cell_type": "code",
   "execution_count": 88,
   "metadata": {},
   "outputs": [
    {
     "name": "stdout",
     "output_type": "stream",
     "text": [
      "<class 'pandas.core.frame.DataFrame'>\n",
      "RangeIndex: 4521 entries, 0 to 4520\n",
      "Data columns (total 17 columns):\n",
      " #   Column     Non-Null Count  Dtype \n",
      "---  ------     --------------  ----- \n",
      " 0   age        4521 non-null   int64 \n",
      " 1   job        4521 non-null   object\n",
      " 2   marital    4521 non-null   object\n",
      " 3   education  4521 non-null   object\n",
      " 4   default    4521 non-null   object\n",
      " 5   balance    4521 non-null   int64 \n",
      " 6   housing    4521 non-null   object\n",
      " 7   loan       4521 non-null   object\n",
      " 8   contact    4521 non-null   object\n",
      " 9   day        4521 non-null   int64 \n",
      " 10  month      4521 non-null   object\n",
      " 11  duration   4521 non-null   int64 \n",
      " 12  campaign   4521 non-null   int64 \n",
      " 13  pdays      4521 non-null   int64 \n",
      " 14  previous   4521 non-null   int64 \n",
      " 15  poutcome   4521 non-null   object\n",
      " 16  y          4521 non-null   object\n",
      "dtypes: int64(7), object(10)\n",
      "memory usage: 600.6+ KB\n"
     ]
    }
   ],
   "source": [
    "# Check for NA values\n",
    "bank.info()"
   ]
  },
  {
   "cell_type": "code",
   "execution_count": 11,
   "metadata": {},
   "outputs": [],
   "source": [
    "# Split the data \n",
    "from sklearn.model_selection import train_test_split\n",
    "train_set, test_set = train_test_split(bank, test_size=0.2, random_state=42)"
   ]
  },
  {
   "cell_type": "code",
   "execution_count": 12,
   "metadata": {},
   "outputs": [
    {
     "data": {
      "text/plain": [
       "no     0.88302\n",
       "yes    0.11698\n",
       "Name: y, dtype: float64"
      ]
     },
     "execution_count": 12,
     "metadata": {},
     "output_type": "execute_result"
    }
   ],
   "source": [
    "# We can check proportions to see whether  we should use a stratified split instead\n",
    "\n",
    "train_set[\"y\"].value_counts(normalize = True)"
   ]
  },
  {
   "cell_type": "code",
   "execution_count": 13,
   "metadata": {},
   "outputs": [
    {
     "data": {
      "text/plain": [
       "no     0.891713\n",
       "yes    0.108287\n",
       "Name: y, dtype: float64"
      ]
     },
     "execution_count": 13,
     "metadata": {},
     "output_type": "execute_result"
    }
   ],
   "source": [
    "test_set[\"y\"].value_counts(normalize = True)"
   ]
  },
  {
   "cell_type": "code",
   "execution_count": 14,
   "metadata": {},
   "outputs": [
    {
     "data": {
      "text/plain": [
       "no     0.88476\n",
       "yes    0.11524\n",
       "Name: y, dtype: float64"
      ]
     },
     "execution_count": 14,
     "metadata": {},
     "output_type": "execute_result"
    }
   ],
   "source": [
    "bank[\"y\"].value_counts(normalize = True)"
   ]
  },
  {
   "cell_type": "markdown",
   "metadata": {},
   "source": [
    "There doesnt seem to be a need to use strattified shuffling since the target values are proportional to the original set in both train and test set. However, Géron (2017) recommends this process for cases where our dataset is not large enough, especially when compared with the number of attributes, because we \"run the risk of introducing a significant sampling bias\". (p. 51). In his example, this process is done for categories that are considered relevant to predict the target variable, however in our case we still don't have that information. It can be helpful to guarantee identical proportions of our subscribers in both train and test set to assure that the test set is also representative of our whole population, but the random split was not that far off."
   ]
  },
  {
   "cell_type": "code",
   "execution_count": 15,
   "metadata": {},
   "outputs": [],
   "source": [
    "# We could still use to guarantee *identical* proportions\n",
    "\n",
    "from sklearn.model_selection import StratifiedShuffleSplit\n",
    "split = StratifiedShuffleSplit(n_splits=1, test_size=0.2, random_state=42)\n",
    "for train_index, test_index in split.split(bank, bank[\"y\"]):\n",
    "    strat_train_set = bank.loc[train_index]\n",
    "    strat_test_set = bank.loc[test_index]"
   ]
  },
  {
   "cell_type": "code",
   "execution_count": 16,
   "metadata": {},
   "outputs": [
    {
     "data": {
      "text/plain": [
       "no     0.884679\n",
       "yes    0.115321\n",
       "Name: y, dtype: float64"
      ]
     },
     "execution_count": 16,
     "metadata": {},
     "output_type": "execute_result"
    }
   ],
   "source": [
    "strat_train_set[\"y\"].value_counts(normalize = True)"
   ]
  },
  {
   "cell_type": "code",
   "execution_count": 17,
   "metadata": {
    "scrolled": true
   },
   "outputs": [
    {
     "data": {
      "text/plain": [
       "no     0.885083\n",
       "yes    0.114917\n",
       "Name: y, dtype: float64"
      ]
     },
     "execution_count": 17,
     "metadata": {},
     "output_type": "execute_result"
    }
   ],
   "source": [
    "strat_test_set[\"y\"].value_counts(normalize = True)"
   ]
  },
  {
   "cell_type": "code",
   "execution_count": 18,
   "metadata": {},
   "outputs": [
    {
     "data": {
      "text/plain": [
       "no     0.88476\n",
       "yes    0.11524\n",
       "Name: y, dtype: float64"
      ]
     },
     "execution_count": 18,
     "metadata": {},
     "output_type": "execute_result"
    }
   ],
   "source": [
    "bank[\"y\"].value_counts(normalize = True)"
   ]
  },
  {
   "cell_type": "code",
   "execution_count": 19,
   "metadata": {},
   "outputs": [],
   "source": [
    "# Revert to a clean training set (by copying strat_train_set once again),\n",
    "# and separate the predictors and the labels since we don’t necessarily want to apply\n",
    "# the same transformations to the predictors and the target values (p.60)\n",
    "\n",
    "bank_train = strat_train_set.drop(\"y\", axis=1)\n",
    "bank_train_labels = strat_train_set[\"y\"].copy()\n",
    "\n",
    "bank_test = strat_test_set.drop(\"y\", axis=1)\n",
    "bank_test_labels = strat_test_set[\"y\"].copy()"
   ]
  },
  {
   "cell_type": "code",
   "execution_count": 20,
   "metadata": {},
   "outputs": [],
   "source": [
    "# Change our target variable to binary variable (helpful for further analysis with sklearn)\n",
    "\n",
    "bank_train_y = bank_train_labels.map({'yes': 1, 'no': 0}).astype(int)\n",
    "bank_test_y = bank_test_labels.map({'yes': 1, 'no': 0}).astype(int)"
   ]
  },
  {
   "cell_type": "markdown",
   "metadata": {},
   "source": [
    "#### Build a pipeline to preprocess the indicated numerical features and categorical features separately. For numerical features 'balance', 'campaign', standardize these features. For categorical features 'job', 'marital', 'education', 'default', transform them through one-hot encoding. For the numeric feature 'age', convert it into the quartile categorical variable and transform it through one-hot encoding."
   ]
  },
  {
   "cell_type": "code",
   "execution_count": 21,
   "metadata": {},
   "outputs": [],
   "source": [
    "# Select desired columns for processing\n",
    "\n",
    "num_attribs = ['balance', 'campaign'] # standardize\n",
    "cat_attribs = ['job', 'marital', 'education', 'default']  # one-hot\n",
    "age_attrib = [\"age\"] # quartile categorical variable and transform it through one-hot encoding"
   ]
  },
  {
   "cell_type": "code",
   "execution_count": 22,
   "metadata": {},
   "outputs": [],
   "source": [
    "# Following code is adapted from book:\n",
    "\n",
    "# Each subpipeline starts with a selector transformer: it simply transforms the data by\n",
    "# selecting the desired attributes (numerical or categorical), dropping the rest, and con‐\n",
    "# verting the resulting DataFrame to a NumPy array (p.67):\n",
    "\n",
    "from sklearn.base import BaseEstimator, TransformerMixin\n",
    "from sklearn.pipeline import Pipeline\n",
    "from sklearn.preprocessing import StandardScaler\n",
    "from sklearn.pipeline import FeatureUnion\n",
    "from sklearn.preprocessing import KBinsDiscretizer\n",
    "from sklearn.preprocessing import OneHotEncoder\n",
    "\n",
    "class DataFrameSelector(BaseEstimator, TransformerMixin):\n",
    "    def __init__(self, attribute_names):\n",
    "        self.attribute_names = attribute_names\n",
    "    def fit(self, X, y=None):\n",
    "        return self\n",
    "    def transform(self, X):\n",
    "        return X[self.attribute_names].values\n",
    "\n",
    "age_pipeline = Pipeline([\n",
    " ('selector', DataFrameSelector(age_attrib)),\n",
    " ('bins_discretizer', KBinsDiscretizer(n_bins = 4)), #strategy is quantile and encoder is onehot by default\n",
    " ])\n",
    "\n",
    "num_pipeline = Pipeline([\n",
    " ('selector', DataFrameSelector(num_attribs)),\n",
    " ('std_scaler', StandardScaler()),\n",
    " ])\n",
    "\n",
    "cat_pipeline = Pipeline([\n",
    " ('selector', DataFrameSelector(cat_attribs)),\n",
    " ('encoder', OneHotEncoder()),\n",
    " ])\n",
    "\n",
    "full_pipeline = FeatureUnion(transformer_list=[\n",
    "    (\"age_pipeline\", age_pipeline),\n",
    "    (\"num_pipeline\", num_pipeline),\n",
    "    (\"cat_pipeline\", cat_pipeline),\n",
    "    ])"
   ]
  },
  {
   "cell_type": "code",
   "execution_count": 23,
   "metadata": {},
   "outputs": [
    {
     "data": {
      "text/plain": [
       "(3616, 27)"
      ]
     },
     "execution_count": 23,
     "metadata": {},
     "output_type": "execute_result"
    }
   ],
   "source": [
    "# Run full pipeline only on train data to avoid data snooping bias\n",
    "bank_train_1 = full_pipeline.fit_transform(bank_train)\n",
    "\n",
    "# Columns should be 27 total (age:4, job:12, marital:3, education:4, default:2 + 2 numerical)\n",
    "bank_train_1.shape "
   ]
  },
  {
   "cell_type": "markdown",
   "metadata": {},
   "source": [
    "When trying to retrieve feature names from pipeline above, the following error arises:\n",
    "\"Estimator selector does not provide get_feature_names_out. Did you mean to call pipeline[:-1].get_feature_names_out()?\" Even after trying to select [:-1] from pipeline, the get_feature_names_out method seems to not work, presumably because of the dataframe selector class. Thus, I decided to build another pipeline that would allow me to see the feature names."
   ]
  },
  {
   "cell_type": "code",
   "execution_count": 24,
   "metadata": {},
   "outputs": [],
   "source": [
    "# Second method to process features\n",
    "\n",
    "from sklearn_pandas import DataFrameMapper\n",
    "import sklearn.preprocessing, sklearn.decomposition, \\\n",
    "sklearn.linear_model, sklearn.pipeline, sklearn.metrics\n",
    "from sklearn.feature_extraction.text import CountVectorizer\n",
    "\n",
    "full_pipeline_2 = DataFrameMapper([\n",
    "    ((age_attrib), sklearn.preprocessing.KBinsDiscretizer(n_bins = 4)),#strategy is quantile and encoder is onehot by default\n",
    "    ((num_attribs), sklearn.preprocessing.StandardScaler()),\n",
    "    ((cat_attribs), sklearn.preprocessing.OneHotEncoder())\n",
    "    ]) "
   ]
  },
  {
   "cell_type": "code",
   "execution_count": 25,
   "metadata": {},
   "outputs": [
    {
     "name": "stderr",
     "output_type": "stream",
     "text": [
      "C:\\Users\\Isabel\\anaconda3\\lib\\site-packages\\sklearn\\utils\\deprecation.py:87: FutureWarning: Function get_feature_names is deprecated; get_feature_names is deprecated in 1.0 and will be removed in 1.2. Please use get_feature_names_out instead.\n",
      "  warnings.warn(msg, category=FutureWarning)\n"
     ]
    }
   ],
   "source": [
    "bank_train_2 = full_pipeline_2.fit_transform(bank_train)"
   ]
  },
  {
   "cell_type": "code",
   "execution_count": 26,
   "metadata": {},
   "outputs": [
    {
     "data": {
      "text/plain": [
       "(3616, 27)"
      ]
     },
     "execution_count": 26,
     "metadata": {},
     "output_type": "execute_result"
    }
   ],
   "source": [
    "bank_train_2.shape"
   ]
  },
  {
   "cell_type": "code",
   "execution_count": 27,
   "metadata": {
    "scrolled": true
   },
   "outputs": [
    {
     "data": {
      "text/plain": [
       "['age_0',\n",
       " 'age_1',\n",
       " 'age_2',\n",
       " 'age_3',\n",
       " 'balance_campaign_0',\n",
       " 'balance_campaign_1',\n",
       " 'job_marital_education_default_x0_admin.',\n",
       " 'job_marital_education_default_x0_blue-collar',\n",
       " 'job_marital_education_default_x0_entrepreneur',\n",
       " 'job_marital_education_default_x0_housemaid',\n",
       " 'job_marital_education_default_x0_management',\n",
       " 'job_marital_education_default_x0_retired',\n",
       " 'job_marital_education_default_x0_self-employed',\n",
       " 'job_marital_education_default_x0_services',\n",
       " 'job_marital_education_default_x0_student',\n",
       " 'job_marital_education_default_x0_technician',\n",
       " 'job_marital_education_default_x0_unemployed',\n",
       " 'job_marital_education_default_x0_unknown',\n",
       " 'job_marital_education_default_x1_divorced',\n",
       " 'job_marital_education_default_x1_married',\n",
       " 'job_marital_education_default_x1_single',\n",
       " 'job_marital_education_default_x2_primary',\n",
       " 'job_marital_education_default_x2_secondary',\n",
       " 'job_marital_education_default_x2_tertiary',\n",
       " 'job_marital_education_default_x2_unknown',\n",
       " 'job_marital_education_default_x3_no',\n",
       " 'job_marital_education_default_x3_yes']"
      ]
     },
     "execution_count": 27,
     "metadata": {},
     "output_type": "execute_result"
    }
   ],
   "source": [
    "# Check that we can get the names\n",
    "full_pipeline_2.transformed_names_"
   ]
  },
  {
   "cell_type": "code",
   "execution_count": 28,
   "metadata": {},
   "outputs": [
    {
     "data": {
      "text/plain": [
       "True"
      ]
     },
     "execution_count": 28,
     "metadata": {},
     "output_type": "execute_result"
    }
   ],
   "source": [
    "# Compare that 2 pipelines are retrieving the exact same array\n",
    "comparison_1 = bank_train_1.toarray()\n",
    "\n",
    "np.array_equal(comparison_1, bank_train_2)"
   ]
  },
  {
   "cell_type": "markdown",
   "metadata": {},
   "source": [
    "#### Train a Logistic regression model with L2 regularization using 5-fold cross validation (default hyperparameter) on the train set and show the accuracy, precision, recall on the train set. Explain whether the model is useful for the bank to identify the customer propensity."
   ]
  },
  {
   "cell_type": "code",
   "execution_count": 29,
   "metadata": {},
   "outputs": [],
   "source": [
    "# I will first instantiate the model and then fit with cross_validate to be able to return train scores\n",
    "# Just out of curiosity, I looked at the scores with a balanced dataset since our original data is highly unbalanced\n",
    "# Depending on what we use, it will affect what score we select to evaluate our model\n",
    "\n",
    "from sklearn.linear_model import LogisticRegression\n",
    "log_reg = LogisticRegression(random_state=42)\n",
    "\n",
    "# Balanced\n",
    "log_reg_balanced = LogisticRegression(random_state=42, class_weight = \"balanced\")"
   ]
  },
  {
   "cell_type": "code",
   "execution_count": 30,
   "metadata": {
    "scrolled": true
   },
   "outputs": [
    {
     "name": "stderr",
     "output_type": "stream",
     "text": [
      "C:\\Users\\Isabel\\anaconda3\\lib\\site-packages\\sklearn\\metrics\\_classification.py:1318: UndefinedMetricWarning: Precision is ill-defined and being set to 0.0 due to no predicted samples. Use `zero_division` parameter to control this behavior.\n",
      "  _warn_prf(average, modifier, msg_start, len(result))\n",
      "C:\\Users\\Isabel\\anaconda3\\lib\\site-packages\\sklearn\\metrics\\_classification.py:1318: UndefinedMetricWarning: Precision is ill-defined and being set to 0.0 due to no predicted samples. Use `zero_division` parameter to control this behavior.\n",
      "  _warn_prf(average, modifier, msg_start, len(result))\n",
      "C:\\Users\\Isabel\\anaconda3\\lib\\site-packages\\sklearn\\metrics\\_classification.py:1318: UndefinedMetricWarning: Precision is ill-defined and being set to 0.0 due to no predicted samples. Use `zero_division` parameter to control this behavior.\n",
      "  _warn_prf(average, modifier, msg_start, len(result))\n",
      "C:\\Users\\Isabel\\anaconda3\\lib\\site-packages\\sklearn\\metrics\\_classification.py:1318: UndefinedMetricWarning: Precision is ill-defined and being set to 0.0 due to no predicted samples. Use `zero_division` parameter to control this behavior.\n",
      "  _warn_prf(average, modifier, msg_start, len(result))\n",
      "C:\\Users\\Isabel\\anaconda3\\lib\\site-packages\\sklearn\\metrics\\_classification.py:1318: UndefinedMetricWarning: Precision is ill-defined and being set to 0.0 due to no predicted samples. Use `zero_division` parameter to control this behavior.\n",
      "  _warn_prf(average, modifier, msg_start, len(result))\n",
      "C:\\Users\\Isabel\\anaconda3\\lib\\site-packages\\sklearn\\metrics\\_classification.py:1318: UndefinedMetricWarning: Precision is ill-defined and being set to 0.0 due to no predicted samples. Use `zero_division` parameter to control this behavior.\n",
      "  _warn_prf(average, modifier, msg_start, len(result))\n",
      "C:\\Users\\Isabel\\anaconda3\\lib\\site-packages\\sklearn\\metrics\\_classification.py:1318: UndefinedMetricWarning: Precision is ill-defined and being set to 0.0 due to no predicted samples. Use `zero_division` parameter to control this behavior.\n",
      "  _warn_prf(average, modifier, msg_start, len(result))\n"
     ]
    },
    {
     "name": "stdout",
     "output_type": "stream",
     "text": [
      "   fit_time  score_time  test_accuracy  train_accuracy  test_precision  \\\n",
      "0  0.032999    0.003000       0.883978        0.884855             0.0   \n",
      "1  0.026001    0.001999       0.885201        0.884549             0.0   \n",
      "2  0.020001    0.003000       0.885201        0.884549             0.0   \n",
      "3  0.018012    0.003989       0.885201        0.884549             0.0   \n",
      "4  0.028000    0.001999       0.883817        0.884895             0.0   \n",
      "\n",
      "   train_precision  test_recall  train_recall  \n",
      "0              0.0          0.0           0.0  \n",
      "1              0.0          0.0           0.0  \n",
      "2              0.0          0.0           0.0  \n",
      "3              0.0          0.0           0.0  \n",
      "4              0.0          0.0           0.0  \n",
      "The cross-validation average Accuracy Score for the train set is: 0.8846792156772751\n",
      "The cross-validation average Precision Score for the train set is: 0.0\n",
      "The cross-validation average Recall Score for the train set is: 0.0\n"
     ]
    },
    {
     "name": "stderr",
     "output_type": "stream",
     "text": [
      "C:\\Users\\Isabel\\anaconda3\\lib\\site-packages\\sklearn\\metrics\\_classification.py:1318: UndefinedMetricWarning: Precision is ill-defined and being set to 0.0 due to no predicted samples. Use `zero_division` parameter to control this behavior.\n",
      "  _warn_prf(average, modifier, msg_start, len(result))\n",
      "C:\\Users\\Isabel\\anaconda3\\lib\\site-packages\\sklearn\\metrics\\_classification.py:1318: UndefinedMetricWarning: Precision is ill-defined and being set to 0.0 due to no predicted samples. Use `zero_division` parameter to control this behavior.\n",
      "  _warn_prf(average, modifier, msg_start, len(result))\n",
      "C:\\Users\\Isabel\\anaconda3\\lib\\site-packages\\sklearn\\metrics\\_classification.py:1318: UndefinedMetricWarning: Precision is ill-defined and being set to 0.0 due to no predicted samples. Use `zero_division` parameter to control this behavior.\n",
      "  _warn_prf(average, modifier, msg_start, len(result))\n"
     ]
    }
   ],
   "source": [
    "# Unbalanced data scores\n",
    "\n",
    "from sklearn.model_selection import cross_validate\n",
    "import numpy as np\n",
    "\n",
    "cv_scores = cross_validate(log_reg, bank_train_2, bank_train_y, scoring=[\"accuracy\", \"precision\", \"recall\"], cv=5, return_train_score = True)\n",
    "\n",
    "# Display scores on train and test set at each fold\n",
    "cv_scores_df = pd.DataFrame(cv_scores) \n",
    "print(cv_scores_df)\n",
    "\n",
    "# Calculate averaged scores for both train and test sets\n",
    "avg_train_acc = (np.mean(cv_scores[\"train_accuracy\"]))\n",
    "avg_train_prec = (np.mean(cv_scores[\"train_precision\"]))\n",
    "avg_train_recall = (np.mean(cv_scores[\"train_recall\"]))\n",
    "\n",
    "# Test scores (not required by question but might be helpful for analysis)\n",
    "avg_test_acc = (np.mean(cv_scores_df[\"test_accuracy\"]))\n",
    "avg_test_prec = (np.mean(cv_scores_df[\"test_precision\"]))\n",
    "avg_test_recall = (np.mean(cv_scores_df[\"test_recall\"]))\n",
    "                  \n",
    "print(f\"The cross-validation average Accuracy Score for the train set is: {avg_train_acc}\")\n",
    "print(f\"The cross-validation average Precision Score for the train set is: {avg_train_prec}\")\n",
    "print(f\"The cross-validation average Recall Score for the train set is: {avg_train_recall}\")"
   ]
  },
  {
   "cell_type": "code",
   "execution_count": 31,
   "metadata": {
    "scrolled": false
   },
   "outputs": [
    {
     "name": "stdout",
     "output_type": "stream",
     "text": [
      "   fit_time  score_time  test_accuracy  train_accuracy  test_precision  \\\n",
      "0  0.031984    0.002000       0.600829        0.584025        0.166124   \n",
      "1  0.026999    0.004001       0.546335        0.595230        0.120743   \n",
      "2  0.034001    0.003999       0.561549        0.591082        0.138889   \n",
      "3  0.028000    0.004003       0.575380        0.591082        0.138710   \n",
      "4  0.018000    0.001999       0.596127        0.594193        0.146259   \n",
      "\n",
      "   train_precision  test_recall  train_recall  \n",
      "0         0.153662     0.607143      0.579580  \n",
      "1         0.160032     0.469880      0.589820  \n",
      "2         0.160128     0.542169      0.598802  \n",
      "3         0.160671     0.518072      0.601796  \n",
      "4         0.158408     0.511905      0.585586  \n",
      "The cross-validation average Accuracy Score for the train set (with balanced classes) is: 0.5911222969164374\n",
      "The cross-validation average Precision Score for the train (with balanced classes) set is: 0.1585804556278108\n",
      "The cross-validation average Recall Score for the train set (with balanced classes) is: 0.5911168653683623\n"
     ]
    }
   ],
   "source": [
    "# Balanced dataset\n",
    "\n",
    "cv_scores_balanced = cross_validate(log_reg_balanced, bank_train_2, bank_train_y, scoring=[\"accuracy\", \"precision\", \"recall\"], cv=5, return_train_score = True)\n",
    "\n",
    "# Display scores on train and test set at each fold\n",
    "cv_scores_balanced_df = pd.DataFrame(cv_scores_balanced) \n",
    "print(cv_scores_balanced_df)\n",
    "\n",
    "# Calculate averaged scores for both train and test sets\n",
    "avg_train_acc_balanced = (np.mean(cv_scores_balanced_df[\"train_accuracy\"]))\n",
    "avg_train_prec_balanced = (np.mean(cv_scores_balanced_df[\"train_precision\"]))\n",
    "avg_train_recall_balanced = (np.mean(cv_scores_balanced_df[\"train_recall\"]))\n",
    "\n",
    "# Test scores (not required by question but might be helpful for analysis)\n",
    "avg_test_acc_balanced = (np.mean(cv_scores_balanced_df[\"test_accuracy\"]))\n",
    "avg_test_prec_balanced = (np.mean(cv_scores_balanced_df[\"test_precision\"]))\n",
    "avg_test_recall_balanced = (np.mean(cv_scores_balanced_df[\"test_recall\"]))\n",
    "                  \n",
    "print(f\"The cross-validation average Accuracy Score for the train set (with balanced classes) is: {avg_train_acc_balanced}\")\n",
    "print(f\"The cross-validation average Precision Score for the train (with balanced classes) set is: {avg_train_prec_balanced}\")\n",
    "print(f\"The cross-validation average Recall Score for the train set (with balanced classes) is: {avg_train_recall_balanced}\")"
   ]
  },
  {
   "cell_type": "code",
   "execution_count": 32,
   "metadata": {
    "scrolled": true
   },
   "outputs": [
    {
     "name": "stdout",
     "output_type": "stream",
     "text": [
      "Unbalanced set:\n",
      "\n",
      "Accuracy:\n",
      "\tTrain set: 0.88\n",
      "\tTest set: 0.88\n",
      "\n",
      "Precision:\n",
      "\tTrain set: 0.0\n",
      "\tTest set: 0.0\n",
      "\n",
      "Recall:\n",
      "\tTrain set: 0.0\n",
      "\tTest set: 0.0\n",
      "\n",
      "Balanced set:\n",
      "\n",
      "Accuracy:\n",
      "\tTrain set: 0.59\n",
      "\tTest set: 0.58\n",
      "\n",
      "Precision:\n",
      "\tTrain set: 0.16\n",
      "\tTest set: 0.14\n",
      "\n",
      "Recall:\n",
      "\tTrain set: 0.59\n",
      "\tTest set: 0.53\n"
     ]
    }
   ],
   "source": [
    "# Summary of results\n",
    "\n",
    "print('Unbalanced set:')\n",
    "print(\"\\nAccuracy:\")\n",
    "print(f\"\\tTrain set: {round(avg_train_acc, 2)}\")\n",
    "print(f\"\\tTest set: {round(avg_test_acc, 2)}\")\n",
    "\n",
    "print(\"\\nPrecision:\")\n",
    "print(f\"\\tTrain set: {round(avg_train_prec, 2)}\")\n",
    "print(f\"\\tTest set: {round(avg_test_prec, 2)}\")\n",
    "\n",
    "print(\"\\nRecall:\")\n",
    "print(f\"\\tTrain set: {round(avg_train_recall, 2)}\")\n",
    "print(f\"\\tTest set: {round(avg_test_recall, 2)}\")\n",
    "\n",
    "print('\\nBalanced set:')\n",
    "print(\"\\nAccuracy:\")\n",
    "print(f\"\\tTrain set: {round(avg_train_acc_balanced, 2)}\")\n",
    "print(f\"\\tTest set: {round(avg_test_acc_balanced, 2)}\")\n",
    "\n",
    "print(\"\\nPrecision:\")\n",
    "print(f\"\\tTrain set: {round(avg_train_prec_balanced, 2)}\")\n",
    "print(f\"\\tTest set: {round(avg_test_prec_balanced, 2)}\")\n",
    "\n",
    "print(\"\\nRecall:\")\n",
    "print(f\"\\tTrain set: {round(avg_train_recall_balanced, 2)}\")\n",
    "print(f\"\\tTest set: {round(avg_test_recall_balanced, 2)}\")"
   ]
  },
  {
   "cell_type": "code",
   "execution_count": 33,
   "metadata": {},
   "outputs": [
    {
     "data": {
      "text/plain": [
       "array([[3199,    0],\n",
       "       [ 417,    0]], dtype=int64)"
      ]
     },
     "execution_count": 33,
     "metadata": {},
     "output_type": "execute_result"
    }
   ],
   "source": [
    "# Helpful for analysis to plot confusion matrix (understand why recall and precision are 0 in the unbalanced dataset)\n",
    "from sklearn.metrics import confusion_matrix\n",
    "from sklearn.model_selection import cross_val_predict\n",
    "\n",
    "y_train_pred = cross_val_predict(log_reg, bank_train_2, y = bank_train_y, cv = 5)\n",
    "\n",
    "confusion_matrix(bank_train_y, y_train_pred)"
   ]
  },
  {
   "cell_type": "code",
   "execution_count": 34,
   "metadata": {
    "scrolled": false
   },
   "outputs": [
    {
     "data": {
      "text/plain": [
       "array([[1862, 1337],\n",
       "       [ 196,  221]], dtype=int64)"
      ]
     },
     "execution_count": 34,
     "metadata": {},
     "output_type": "execute_result"
    }
   ],
   "source": [
    "y_train_pred_balanced = cross_val_predict(log_reg_balanced, bank_train_2, y = bank_train_y, cv = 5)\n",
    "confusion_matrix(bank_train_y, y_train_pred_balanced)"
   ]
  },
  {
   "cell_type": "code",
   "execution_count": null,
   "metadata": {},
   "outputs": [],
   "source": []
  },
  {
   "cell_type": "markdown",
   "metadata": {},
   "source": [
    "***Findings & Analysis***\n",
    "- Unbalanced dataset has precision and recall 0 because there were no classes predicted as 1 (\"yes\", in other words, those that would subscribe to long term deposits). This happened because our model didn't have enough information about this class since it is an unbalanced dataset, and the very few features that are present might not be very helpful in predicting subscribers.\n",
    "- It is important to emphasize that in data terms, because there were no true positives in our model our precision and recall is automatically 0.\n",
    "- Unbalanced dataset accuracy seems \"good\" (0.88), but this does not mean model is perfromring well becasue our dataset is unbalanced. We get high accuracy because even if our model predicts every instance as 0 (\"no\", so non-subscribers), since only a total of 11% of our data are subscribers, the model would automatically have almost 90 % of accuracy (which is exactly what happened in this case).\n",
    "- The balanced dataset performed better, yet model overall does not seem great, might be helpful to either add more features, change regularization strength or try another model such as decision tree or random forest. In this case the accuracy drops to 0.59 in the train set, which is more understandable.\n",
    "- The precision in the balanced dataset is very low (0.16), while the recall is 0.59. This is because the false negatives (considered for recall) were not that many since there is a lot of information about the negative class. Yet, on the other hand, because the weights towards the positive class increased, now the model predicts way more instances as positive even if they are not, just because the model *thinks* that these classes should have equal weights and thus predicts the more dubious negative cases as positive.\n",
    "\n",
    "***Code explained***\n",
    "1. When splitting the data, I realized that there was not a big difference between using the stratified sampling method versus the random sampling one from sklearn. However, to guarantee identical proportions of our target variable in both sets, I opted for stratified sampling.\n",
    "2. I decided to only fit the training data on the preprocessing pipelines rather than the whole data. Later in the assignment I will only \"transform\" the test data with the already built pipeline. This was done after following the book's suggestions and to avoid \"data snooping bias\" - that is, to not learn anything from the test set and leave it untouched up until the very end.  Otherwise, even if it's just a quick glance at the data, our brains are prone to overfitting and might \"stumble upon some seemingly interesting pattern in the test data that leads you to select a particular kind of machine learning model\" (p.49).\n",
    "3. When using the Dataframe selector, Pipeline and Feature Union, there was an issue when getting the feature names. Because I consider it important for the analysis in a business context, I decided to select an alternative that would work - sklearn-pandas. I used Dataframe Mapper after running pip3 install sklearn-pandas, which in my opinion was easier to handle.\n",
    "4. For the age, instead of first converting to quantiles categories and then to binary, I found that KBins Binarizer did the same thing in only one step, which I deeemed more efficient.(alternatively we could use pd.qcut(bank_train[\"age\"], q=4)) and get the quartiles. "
   ]
  },
  {
   "cell_type": "markdown",
   "metadata": {},
   "source": [
    "### Question 2 (20 points)\n",
    "\n",
    "Now add more features to the model to see if we can improve the performance (categorical features: 'housing', 'loan' and numerical features: 'day', 'duration'). Use the preprocess pipeline built previously to transform the data. Train a Logistic regression model with L1 regularization using 5-fold cross validation on the train set, by fine-tuning the hyperparameter alpha, i.e. the regularization strength from [0.001, 0.01, 0.1, 1]. Choose the correct score function that reflect the current data team's practice. Report the average score with the best hyperparameter. Does model performance improve, and if so, how?\n",
    "\n",
    "Expalin whether all features are useful for making prediction and why. List top 5 features that contribute to the prediction the most. If not all features are useful, list those unuseful features.\n"
   ]
  },
  {
   "cell_type": "markdown",
   "metadata": {},
   "source": [
    "#### Add more features to the model to see if we can improve the performance (categorical features: 'housing', 'loan' and numerical features: 'day', 'duration'). Use the preprocess pipeline built previously to transform the data."
   ]
  },
  {
   "cell_type": "code",
   "execution_count": 35,
   "metadata": {},
   "outputs": [],
   "source": [
    "# Redefine attributes needed for the pipeline by adding the requested features\n",
    "num_attribs = ['balance', 'campaign', \"day\", \"duration\"] # standardize\n",
    "cat_attribs = ['job', 'marital', 'education', 'default', \"housing\", \"loan\"]  #one-hot\n",
    "age_attrib = [\"age\"] #quartile categorical variable and transform it through one-hot encoding\n",
    "\n",
    "full_pipeline_2 = DataFrameMapper([\n",
    "    ((age_attrib), sklearn.preprocessing.KBinsDiscretizer(n_bins = 4)),#strategy is quantile and encoder is onehot by default\n",
    "    ((num_attribs), sklearn.preprocessing.StandardScaler()),\n",
    "    ((cat_attribs), sklearn.preprocessing.OneHotEncoder())\n",
    "    ]) "
   ]
  },
  {
   "cell_type": "code",
   "execution_count": 36,
   "metadata": {},
   "outputs": [
    {
     "name": "stderr",
     "output_type": "stream",
     "text": [
      "C:\\Users\\Isabel\\anaconda3\\lib\\site-packages\\sklearn\\utils\\deprecation.py:87: FutureWarning: Function get_feature_names is deprecated; get_feature_names is deprecated in 1.0 and will be removed in 1.2. Please use get_feature_names_out instead.\n",
      "  warnings.warn(msg, category=FutureWarning)\n"
     ]
    },
    {
     "data": {
      "text/plain": [
       "(3616, 33)"
      ]
     },
     "execution_count": 36,
     "metadata": {},
     "output_type": "execute_result"
    }
   ],
   "source": [
    "# Run full pipeline with new features\n",
    "bank_train_q2 = full_pipeline_2.fit_transform(bank_train)\n",
    "bank_train_q2.shape # should have 33 columns"
   ]
  },
  {
   "cell_type": "markdown",
   "metadata": {},
   "source": [
    "#### Train a Logistic regression model with L1 regularization using 5-fold cross validation on the train set by fine-tuning the hyperparameter alpha, i.e. the regularization strength from [0.001, 0.01, 0.1, 1]. Choose the correct score function that reflect the current data team's practice."
   ]
  },
  {
   "cell_type": "code",
   "execution_count": 37,
   "metadata": {},
   "outputs": [
    {
     "data": {
      "text/plain": [
       "GridSearchCV(cv=5,\n",
       "             estimator=LogisticRegression(penalty='l1', random_state=42,\n",
       "                                          solver='liblinear'),\n",
       "             param_grid=[{'C': [0.001, 0.01, 0.1, 1]},\n",
       "                         {'class_weight': [None, 'balanced', {0: 8, 1: 2},\n",
       "                                           {0: 7, 1: 3}]}],\n",
       "             return_train_score=True, scoring='accuracy')"
      ]
     },
     "execution_count": 37,
     "metadata": {},
     "output_type": "execute_result"
    }
   ],
   "source": [
    "from sklearn.model_selection import GridSearchCV\n",
    "\n",
    "# Instantiate the model, then look for best parameters with cross-validation\n",
    "log_reg_q2 = LogisticRegression(solver = \"liblinear\", random_state=42, penalty = \"l1\") #dataset not big, liblinear might be better option than saga\n",
    "parameters = {'C':[0.001, 0.01, 0.1, 1]}\n",
    "clf_f1 = GridSearchCV(log_reg_q2, param_grid = parameters, scoring = \"f1\", return_train_score = True, cv = 5)\n",
    "clf_f1.fit(bank_train_q2, bank_train_y)\n",
    "\n",
    "clf_auc = GridSearchCV(log_reg_q2, param_grid = parameters, scoring = \"roc_auc\", return_train_score = True, cv = 5)\n",
    "clf_auc.fit(bank_train_q2, bank_train_y)\n",
    "\n",
    "# Not required by assignment, but I could double check how model does with balanced dataset\n",
    "parameters_weights = [{'C':[0.001, 0.01, 0.1, 1]}, {\"class_weight\" : [None, \"balanced\", {0:8, 1:2}, {0:7, 1:3}]}]\n",
    "clf_weights = GridSearchCV(log_reg_q2, parameters_weights, scoring = \"accuracy\", return_train_score = True, cv = 5)\n",
    "clf_weights.fit(bank_train_q2, bank_train_y)"
   ]
  },
  {
   "cell_type": "markdown",
   "metadata": {},
   "source": [
    "#### Choose the correct score function that reflect the current data team's practice.\n",
    "**From prompt:**\n",
    "*The current practice of many data teams is to build such propensity models and predict customer's probability to adopt the product and target them from the highest probability to the lowest probability. Note that telemarketing may incur some costs for contacting the customer, thus the success (i.e., the generated profit) of using machine learning model requries further inspection. As the data scientist, you are asked to build a propensity model to evaluate the effectiveness of their telemarketing campaigns, i.e. whether the customer subscribed to the term deposit*\n",
    "\n",
    "***Analysis***\n",
    "- One of the most common scores is accuracy. However, because we are dealing with a naturally unbalanced dataset, as explained in question 1, using accuracy will not give the most optimal results since it is prone to predict all customers as non-subscribers (thus we wouldn't target anyone, probably not incur in costs, but also not generate revenues).\n",
    "- Thus, we can look at precision and/or recall. In this case, there is a cost for contacting the customer, which until now is not known. If we have a cost for contacting the customer it means that there is a cost associated with the false positives (those that are predicted to subscribe and we would contact, but end up not subscribing). This way, precision would be a good score to look at. \n",
    "- Yet, we also want to avoid the false negatives in targeted campaigns, that is, those that would subscribe if contacted, but we don't contact them. This is because the potential revenue that we could receive from the customer is way higher than the cost of contacting them. For this metric, recall is a good option.\n",
    "- Overall, if we compare the cost of targeting a customer that results in departure vs. with the cost of losing a customer because there was no incentive offered, the costs are unlikley to be equal. Ideally, the estimates of cost and benefits should be done to properly estimate each classifier. This is why the expetced value computation framework is helpful in this type of analyses: \"it decomposes data-analytic thinking into (i) the structure of the problem, (ii) the elements of the analysis that can be extracted from the data, and (iii) the elements of the analysis that need to be acquired from other sources (e.g., business knowledge of subject matter experts).\" (Data Science for Business, YEAR).\n",
    "- Moreover, in marketing campaigns might have different budgets and costs, and labor force may be limited. If there is a limited budget or workforce, the goal is to give the top ranked cases of potential cusotmer subsription (those for which our model has a high probability).\n",
    "- Because both precision and recall seem to have some importance, one good metric to use to find the best hyperparameter would be the f1 score. This score would give us the harmonic mean of precision and recall of the positive class.\n",
    "- Another option which will also be helpful for following question is the AUC score. According to Provost & Fawcett (2013), an \"approach is to use a method that can accomodate uncertainty by showing the entire space of performance possibilities. One such method is the Receiver Operating Characteristics (ROC) graph ...a two-dimensional plot of a classifier with false positive rate on the x axis against true positive rate on the y axis. As such, a ROC graph depicts relative trade-offs that a classifier makes between benefits (true positives) and costs (false positives).\"\n",
    "- Using AUC would then represent that we correclty classify positives more often than we incorrectly classify them.\n",
    "- Another advantage of using AUC is that it allows us to compare multiple models by a single number and its independence of the decision threshold of the classifier."
   ]
  },
  {
   "cell_type": "markdown",
   "metadata": {},
   "source": [
    "#### Report the average score with the best hyperparameter. Does model performance improve, and if so, how?"
   ]
  },
  {
   "cell_type": "code",
   "execution_count": 38,
   "metadata": {},
   "outputs": [
    {
     "data": {
      "text/plain": [
       "{'C': 1}"
      ]
     },
     "execution_count": 38,
     "metadata": {},
     "output_type": "execute_result"
    }
   ],
   "source": [
    "# Best hyperparameter when considering F1 score\n",
    "\n",
    "clf_f1.best_params_"
   ]
  },
  {
   "cell_type": "code",
   "execution_count": 39,
   "metadata": {},
   "outputs": [
    {
     "data": {
      "text/plain": [
       "0.2910710633404073"
      ]
     },
     "execution_count": 39,
     "metadata": {},
     "output_type": "execute_result"
    }
   ],
   "source": [
    "clf_f1.best_score_"
   ]
  },
  {
   "cell_type": "code",
   "execution_count": 40,
   "metadata": {},
   "outputs": [
    {
     "data": {
      "text/plain": [
       "{'mean_fit_time': array([0.00380068, 0.00760031, 0.01900001, 0.04499912]),\n",
       " 'std_fit_time': array([0.00074949, 0.00101946, 0.00357788, 0.00675331]),\n",
       " 'mean_score_time': array([0.00139894, 0.00120001, 0.00120082, 0.00180049]),\n",
       " 'std_score_time': array([0.00079899, 0.00039992, 0.00039928, 0.00074844]),\n",
       " 'param_C': masked_array(data=[0.001, 0.01, 0.1, 1],\n",
       "              mask=[False, False, False, False],\n",
       "        fill_value='?',\n",
       "             dtype=object),\n",
       " 'params': [{'C': 0.001}, {'C': 0.01}, {'C': 0.1}, {'C': 1}],\n",
       " 'split0_test_score': array([0.        , 0.12631579, 0.27522936, 0.28828829]),\n",
       " 'split1_test_score': array([0.        , 0.16326531, 0.25925926, 0.27027027]),\n",
       " 'split2_test_score': array([0.        , 0.20408163, 0.2962963 , 0.33027523]),\n",
       " 'split3_test_score': array([0.        , 0.12765957, 0.26666667, 0.35897436]),\n",
       " 'split4_test_score': array([0.        , 0.12765957, 0.21568627, 0.20754717]),\n",
       " 'mean_test_score': array([0.        , 0.14979638, 0.26262757, 0.29107106]),\n",
       " 'std_test_score': array([0.        , 0.03052774, 0.02654631, 0.05208547]),\n",
       " 'rank_test_score': array([4, 3, 2, 1]),\n",
       " 'split0_train_score': array([0.        , 0.16494845, 0.28770302, 0.30872483]),\n",
       " 'split1_train_score': array([0.        , 0.14698163, 0.28306265, 0.30769231]),\n",
       " 'split2_train_score': array([0.        , 0.13648294, 0.28372093, 0.29545455]),\n",
       " 'split3_train_score': array([0.        , 0.15183246, 0.26229508, 0.27002288]),\n",
       " 'split4_train_score': array([0.        , 0.15544041, 0.2817552 , 0.31292517]),\n",
       " 'mean_train_score': array([0.        , 0.15113718, 0.27970737, 0.29896395]),\n",
       " 'std_train_score': array([0.        , 0.00939966, 0.00892948, 0.01559664])}"
      ]
     },
     "execution_count": 40,
     "metadata": {},
     "output_type": "execute_result"
    }
   ],
   "source": [
    "clf_f1.cv_results_"
   ]
  },
  {
   "cell_type": "code",
   "execution_count": 41,
   "metadata": {},
   "outputs": [
    {
     "data": {
      "text/plain": [
       "{'C': 0.1}"
      ]
     },
     "execution_count": 41,
     "metadata": {},
     "output_type": "execute_result"
    }
   ],
   "source": [
    "# Best hyperparameter when considering ROC-AUC score\n",
    "\n",
    "clf_auc.best_params_"
   ]
  },
  {
   "cell_type": "code",
   "execution_count": 42,
   "metadata": {},
   "outputs": [
    {
     "data": {
      "text/plain": [
       "0.8444436706837412"
      ]
     },
     "execution_count": 42,
     "metadata": {},
     "output_type": "execute_result"
    }
   ],
   "source": [
    "clf_auc.best_score_"
   ]
  },
  {
   "cell_type": "code",
   "execution_count": 43,
   "metadata": {},
   "outputs": [
    {
     "data": {
      "text/plain": [
       "{'mean_fit_time': array([0.00319963, 0.00779824, 0.02139955, 0.04521365]),\n",
       " 'std_fit_time': array([0.00039957, 0.0011666 , 0.00546377, 0.00365508]),\n",
       " 'mean_score_time': array([0.00100031, 0.00140076, 0.00140052, 0.00140028]),\n",
       " 'std_score_time': array([4.15696997e-07, 4.89844427e-04, 4.90330502e-04, 4.89453853e-04]),\n",
       " 'param_C': masked_array(data=[0.001, 0.01, 0.1, 1],\n",
       "              mask=[False, False, False, False],\n",
       "        fill_value='?',\n",
       "             dtype=object),\n",
       " 'params': [{'C': 0.001}, {'C': 0.01}, {'C': 0.1}, {'C': 1}],\n",
       " 'split0_test_score': array([0.5       , 0.82240513, 0.84317336, 0.8436756 ]),\n",
       " 'split1_test_score': array([0.5       , 0.83774473, 0.85619352, 0.83062877]),\n",
       " 'split2_test_score': array([0.5       , 0.81326242, 0.83271837, 0.84540663]),\n",
       " 'split3_test_score': array([0.5       , 0.84349586, 0.85176958, 0.83072289]),\n",
       " 'split4_test_score': array([0.5       , 0.82538751, 0.83836351, 0.84842388]),\n",
       " 'mean_test_score': array([0.5       , 0.82845913, 0.84444367, 0.83977155]),\n",
       " 'std_test_score': array([0.        , 0.01085681, 0.00857663, 0.0075806 ]),\n",
       " 'rank_test_score': array([4, 3, 1, 2]),\n",
       " 'split0_train_score': array([0.5       , 0.82781609, 0.85109142, 0.85926489]),\n",
       " 'split1_train_score': array([0.5       , 0.82638182, 0.8507089 , 0.8601835 ]),\n",
       " 'split2_train_score': array([0.5       , 0.83178777, 0.85117456, 0.85722108]),\n",
       " 'split3_train_score': array([0.5       , 0.82618994, 0.85003498, 0.85739424]),\n",
       " 'split4_train_score': array([0.5       , 0.8304359 , 0.84994956, 0.85691981]),\n",
       " 'mean_train_score': array([0.5       , 0.82852231, 0.85059188, 0.8581967 ]),\n",
       " 'std_train_score': array([0.        , 0.00222915, 0.00051487, 0.00128955])}"
      ]
     },
     "execution_count": 43,
     "metadata": {},
     "output_type": "execute_result"
    }
   ],
   "source": [
    "clf_auc.cv_results_"
   ]
  },
  {
   "cell_type": "code",
   "execution_count": 44,
   "metadata": {
    "scrolled": true
   },
   "outputs": [
    {
     "name": "stdout",
     "output_type": "stream",
     "text": [
      "   fit_time  score_time  test_accuracy  train_accuracy  test_precision  \\\n",
      "0  0.054000    0.018999       0.890884        0.893154        0.592593   \n",
      "1  0.046997    0.006999       0.887967        0.894227        0.535714   \n",
      "2  0.041002    0.005998       0.899032        0.892845        0.692308   \n",
      "3  0.049001    0.004001       0.896266        0.889734        0.617647   \n",
      "4  0.038000    0.006997       0.883817        0.895264        0.500000   \n",
      "\n",
      "   train_precision  test_recall  train_recall   test_f1  train_f1  \\\n",
      "0         0.605263     0.190476      0.207207  0.288288  0.308725   \n",
      "1         0.629630     0.180723      0.203593  0.270270  0.307692   \n",
      "2         0.613208     0.216867      0.194611  0.330275  0.295455   \n",
      "3         0.572816     0.253012      0.176647  0.358974  0.270023   \n",
      "4         0.638889     0.130952      0.207207  0.207547  0.312925   \n",
      "\n",
      "   test_roc_auc  train_roc_auc  \n",
      "0      0.843676       0.859265  \n",
      "1      0.830629       0.860184  \n",
      "2      0.845407       0.857221  \n",
      "3      0.830723       0.857394  \n",
      "4      0.848424       0.856920  \n",
      "The cross-validation average F1 Score for the train set is: 0.29896394774496804\n",
      "The cross-validation average ROC-AUC Score for the train set is: 0.858196704447351\n",
      "The cross-validation average Accuracy Score for the train set is: 0.8930448084014498\n",
      "The cross-validation average Precision Score for the train set is: 0.6119609515127299\n",
      "The cross-validation average Recall Score for the train set is: 0.1978529427631224\n"
     ]
    }
   ],
   "source": [
    "# Average scores with the best hyperparameter for f1 score\n",
    "\n",
    "from sklearn.model_selection import cross_validate\n",
    "import numpy as np\n",
    "cv_scores = cross_validate(clf_f1.best_estimator_, bank_train_q2, bank_train_y, scoring=[\"accuracy\", \"precision\", \"recall\", \"f1\", \"roc_auc\"], cv=5, return_train_score = True)\n",
    "\n",
    "# Display scores on train and test set at each fold\n",
    "cv_scores_df = pd.DataFrame(cv_scores) \n",
    "print(cv_scores_df)\n",
    "\n",
    "# Calculate averaged scores for both train and test sets\n",
    "avg_train_acc = (np.mean(cv_scores[\"train_accuracy\"]))\n",
    "avg_train_prec = (np.mean(cv_scores[\"train_precision\"]))\n",
    "avg_train_recall = (np.mean(cv_scores[\"train_recall\"]))\n",
    "avg_train_f1 = (np.mean(cv_scores[\"train_f1\"]))\n",
    "avg_train_auc = (np.mean(cv_scores[\"train_roc_auc\"]))\n",
    "\n",
    "print(f\"The cross-validation average F1 Score for the train set is: {avg_train_f1}\")\n",
    "print(f\"The cross-validation average ROC-AUC Score for the train set is: {avg_train_auc}\")    \n",
    "print(f\"The cross-validation average Accuracy Score for the train set is: {avg_train_acc}\")\n",
    "print(f\"The cross-validation average Precision Score for the train set is: {avg_train_prec}\")\n",
    "print(f\"The cross-validation average Recall Score for the train set is: {avg_train_recall}\")"
   ]
  },
  {
   "cell_type": "code",
   "execution_count": 45,
   "metadata": {},
   "outputs": [
    {
     "name": "stdout",
     "output_type": "stream",
     "text": [
      "   fit_time  score_time  test_accuracy  train_accuracy  test_precision  \\\n",
      "0  0.025998    0.004001       0.890884        0.893845        0.600000   \n",
      "1  0.012981    0.005002       0.889350        0.893190        0.560000   \n",
      "2  0.029999    0.003999       0.894882        0.893536        0.640000   \n",
      "3  0.025999    0.006000       0.893499        0.891116        0.636364   \n",
      "4  0.019000    0.003999       0.889350        0.892499        0.611111   \n",
      "\n",
      "   train_precision  test_recall  train_recall   test_f1  train_f1  \\\n",
      "0         0.632653     0.178571      0.186186  0.275229  0.287703   \n",
      "1         0.628866     0.168675      0.182635  0.259259  0.283063   \n",
      "2         0.635417     0.192771      0.182635  0.296296  0.283721   \n",
      "3         0.602151     0.168675      0.167665  0.266667  0.262295   \n",
      "4         0.610000     0.130952      0.183183  0.215686  0.281755   \n",
      "\n",
      "   test_roc_auc  train_roc_auc  \n",
      "0      0.843173       0.851091  \n",
      "1      0.856194       0.850709  \n",
      "2      0.832718       0.851175  \n",
      "3      0.851770       0.850035  \n",
      "4      0.838364       0.849950  \n",
      "The cross-validation average F1 Score for the train set is: 0.27970737395150425\n",
      "The cross-validation average ROC-AUC Score for the train set is: 0.8505918832115675\n",
      "The cross-validation average Accuracy Score for the train set is: 0.892837459045275\n",
      "The cross-validation average Precision Score for the train set is: 0.6218172489814016\n",
      "The cross-validation average Recall Score for the train set is: 0.18046070022117924\n"
     ]
    }
   ],
   "source": [
    "# Average scores with the best hyperparameter for AUC score\n",
    "\n",
    "from sklearn.model_selection import cross_validate\n",
    "import numpy as np\n",
    "cv_scores = cross_validate(clf_auc.best_estimator_, bank_train_q2, bank_train_y, scoring=[\"accuracy\", \"precision\", \"recall\", \"f1\", \"roc_auc\"], cv=5, return_train_score = True)\n",
    "\n",
    "# Display scores on train and test set at each fold\n",
    "cv_scores_df = pd.DataFrame(cv_scores) \n",
    "print(cv_scores_df)\n",
    "\n",
    "# Calculate averaged scores for both train and test sets\n",
    "avg_train_acc = (np.mean(cv_scores[\"train_accuracy\"]))\n",
    "avg_train_prec = (np.mean(cv_scores[\"train_precision\"]))\n",
    "avg_train_recall = (np.mean(cv_scores[\"train_recall\"]))\n",
    "avg_train_f1 = (np.mean(cv_scores[\"train_f1\"]))\n",
    "avg_train_auc = (np.mean(cv_scores[\"train_roc_auc\"]))\n",
    "\n",
    "print(f\"The cross-validation average F1 Score for the train set is: {avg_train_f1}\")\n",
    "print(f\"The cross-validation average ROC-AUC Score for the train set is: {avg_train_auc}\")    \n",
    "print(f\"The cross-validation average Accuracy Score for the train set is: {avg_train_acc}\")\n",
    "print(f\"The cross-validation average Precision Score for the train set is: {avg_train_prec}\")\n",
    "print(f\"The cross-validation average Recall Score for the train set is: {avg_train_recall}\")"
   ]
  },
  {
   "cell_type": "code",
   "execution_count": 46,
   "metadata": {},
   "outputs": [
    {
     "name": "stdout",
     "output_type": "stream",
     "text": [
      "Confusion matrix for best model using F1 score\n"
     ]
    },
    {
     "data": {
      "text/plain": [
       "array([[3143,   56],\n",
       "       [ 336,   81]], dtype=int64)"
      ]
     },
     "execution_count": 46,
     "metadata": {},
     "output_type": "execute_result"
    }
   ],
   "source": [
    "# Confusion matrix for analysis\n",
    "\n",
    "print(\"Confusion matrix for best model using F1 score\")\n",
    "y_train_pred_q2_f1 = cross_val_predict(clf_f1.best_estimator_, bank_train_q2, y = bank_train_y, cv = 5)\n",
    "confusion_matrix(bank_train_y, y_train_pred_q2_f1)"
   ]
  },
  {
   "cell_type": "code",
   "execution_count": 47,
   "metadata": {},
   "outputs": [
    {
     "name": "stdout",
     "output_type": "stream",
     "text": [
      "Confusion matrix for best model using AUC score\n"
     ]
    },
    {
     "data": {
      "text/plain": [
       "array([[3154,   45],\n",
       "       [ 347,   70]], dtype=int64)"
      ]
     },
     "execution_count": 47,
     "metadata": {},
     "output_type": "execute_result"
    }
   ],
   "source": [
    "print(\"Confusion matrix for best model using AUC score\")\n",
    "y_train_pred_q2_auc = cross_val_predict(clf_auc.best_estimator_, bank_train_q2, y = bank_train_y, cv = 5)\n",
    "confusion_matrix(bank_train_y, y_train_pred_q2_auc)"
   ]
  },
  {
   "cell_type": "markdown",
   "metadata": {},
   "source": [
    "#### Does model performance improve, and if so, how?"
   ]
  },
  {
   "cell_type": "markdown",
   "metadata": {},
   "source": [
    "***Analysis***\n",
    "- Overall, the model improves significantly with the l1 regularization and the best hyperparameter according to our desired score.\n",
    "- If we compare with the results of our first model (unbalanced), we see that all metrics are better (Precision and Recall were 0), now precision has an average score on training set of 0.62, and recall of 0.18. Accuracy remained high with an average of 0.89 on training set.\n",
    "- Moreover, if we take a glance over the test scores at each fold, we see that they are very similar to the train ones, which is a good indicator that our model is not overfitting.\n",
    "- The main reason of improvement comes because of 3 main changes: the hyperparamter tuning, the regularization used and the addition of features. L1 regularization (lasso regularization) has a stronger effect because it drives to 0 the weights of those features that are deemed non-relevant for our prediction. This helps the model in avoid \"noise\" in the data and only consider the features that are relevant for prediction. \n",
    "- Furthermore, our previous model might have had very few features, or the features that it contained might not have been that important to understand positive classes. Thus, by adding features such as housing, loan, day and duration, we increase a lot the performance of our model. We might investigate this further in the next section of this question.\n",
    "- When looking at both confusion matrices below, we see that now not only we predict some customers that will subscribe, but that we do so more often correctly than not, which is what we were aiming for."
   ]
  },
  {
   "cell_type": "markdown",
   "metadata": {},
   "source": [
    "#### Expalin whether all features are useful for making prediction and why. "
   ]
  },
  {
   "cell_type": "markdown",
   "metadata": {},
   "source": [
    "***Answer***:\n",
    "Because we are using L1 regularization, we know that this type of regularization automatically performs feature selection by giving a weight of 0 to those features that does not consider important. Thus, we can look at which features have a higher coefficient, and those that have a coefficient of 0 to determine which are helping more our model.\n",
    "\n",
    "Another possibility to retrieve feature importance would be to train a tree classifier (such as Random Forest), which provides us with the feature importance since those features closer to the \"main\" node will be generally more important, while those closer to the bottom are considered of less importance."
   ]
  },
  {
   "cell_type": "code",
   "execution_count": 48,
   "metadata": {},
   "outputs": [
    {
     "data": {
      "text/plain": [
       "array([[ 0.        , -0.05121723, -0.19224028,  0.        ,  0.06630694,\n",
       "        -0.28932095, -0.04945673,  1.04199715,  0.4095094 , -0.34623246,\n",
       "        -0.1115824 , -0.18712008,  0.22952975,  0.71163608, -0.20328263,\n",
       "         0.        ,  0.90341106,  0.        , -0.37779082,  0.62802591,\n",
       "         0.        , -0.35969777, -0.17309097, -0.11747827,  0.        ,\n",
       "         0.17377413, -0.37328017, -0.38281694,  0.        ,  0.        ,\n",
       "        -0.76053207,  0.        , -0.84879931]])"
      ]
     },
     "execution_count": 48,
     "metadata": {},
     "output_type": "execute_result"
    }
   ],
   "source": [
    "# Check coefficients\n",
    "clf_f1.best_estimator_.coef_"
   ]
  },
  {
   "cell_type": "code",
   "execution_count": 49,
   "metadata": {
    "scrolled": true
   },
   "outputs": [
    {
     "data": {
      "text/plain": [
       "['age_0',\n",
       " 'age_1',\n",
       " 'age_2',\n",
       " 'age_3',\n",
       " 'balance_campaign_day_duration_0',\n",
       " 'balance_campaign_day_duration_1',\n",
       " 'balance_campaign_day_duration_2',\n",
       " 'balance_campaign_day_duration_3',\n",
       " 'job_marital_education_default_housing_loan_x0_admin.',\n",
       " 'job_marital_education_default_housing_loan_x0_blue-collar',\n",
       " 'job_marital_education_default_housing_loan_x0_entrepreneur',\n",
       " 'job_marital_education_default_housing_loan_x0_housemaid',\n",
       " 'job_marital_education_default_housing_loan_x0_management',\n",
       " 'job_marital_education_default_housing_loan_x0_retired',\n",
       " 'job_marital_education_default_housing_loan_x0_self-employed',\n",
       " 'job_marital_education_default_housing_loan_x0_services',\n",
       " 'job_marital_education_default_housing_loan_x0_student',\n",
       " 'job_marital_education_default_housing_loan_x0_technician',\n",
       " 'job_marital_education_default_housing_loan_x0_unemployed',\n",
       " 'job_marital_education_default_housing_loan_x0_unknown',\n",
       " 'job_marital_education_default_housing_loan_x1_divorced',\n",
       " 'job_marital_education_default_housing_loan_x1_married',\n",
       " 'job_marital_education_default_housing_loan_x1_single',\n",
       " 'job_marital_education_default_housing_loan_x2_primary',\n",
       " 'job_marital_education_default_housing_loan_x2_secondary',\n",
       " 'job_marital_education_default_housing_loan_x2_tertiary',\n",
       " 'job_marital_education_default_housing_loan_x2_unknown',\n",
       " 'job_marital_education_default_housing_loan_x3_no',\n",
       " 'job_marital_education_default_housing_loan_x3_yes',\n",
       " 'job_marital_education_default_housing_loan_x4_no',\n",
       " 'job_marital_education_default_housing_loan_x4_yes',\n",
       " 'job_marital_education_default_housing_loan_x5_no',\n",
       " 'job_marital_education_default_housing_loan_x5_yes']"
      ]
     },
     "execution_count": 49,
     "metadata": {},
     "output_type": "execute_result"
    }
   ],
   "source": [
    "# Some coefficients are 0, but we don't have the features name yet\n",
    "\n",
    "# Get feature names\n",
    "coef_best_parameter_df = pd.DataFrame(clf_f1.best_estimator_.coef_)\n",
    "coef_best_parameter_df.columns = full_pipeline_2.transformed_names_\n",
    "full_pipeline_2.transformed_names_"
   ]
  },
  {
   "cell_type": "code",
   "execution_count": 50,
   "metadata": {},
   "outputs": [],
   "source": [
    "# Change names for better understanding\n",
    "\n",
    "q2_feature_labels = [\"Age_Q1\", \"Age_Q2\", \"Age_Q3\", \"Age_Q4\", \"Balance_Scaled\", \"Campaign_Scaled\", \"Day_Scaled\", \"Duration_Scaled\",                                   \n",
    " 'job_admin.', 'job_blue-collar', 'job_entrepreneur', 'job_housemaid', 'job_management', 'job_retired', 'job_self-employed', 'job_services',\n",
    " 'job_student', 'job_technician', 'job_unemployed', 'job_unknown', 'marital_divorced', 'marital_married', 'marital_single', 'education_primary',\n",
    " 'education_secondary', 'education_tertiary', 'education_unknown', 'default_no', 'default_yes', 'housing_no', 'housing_yes', 'loan_no',\n",
    " 'loan_yes']"
   ]
  },
  {
   "cell_type": "markdown",
   "metadata": {},
   "source": [
    "#### List top 5 features that contribute to the prediction the most. If not all features are useful, list those unuseful features."
   ]
  },
  {
   "cell_type": "code",
   "execution_count": 51,
   "metadata": {},
   "outputs": [
    {
     "name": "stdout",
     "output_type": "stream",
     "text": [
      "Top 5 features that contribute to prediction the most: \n"
     ]
    },
    {
     "data": {
      "text/html": [
       "<div>\n",
       "<style scoped>\n",
       "    .dataframe tbody tr th:only-of-type {\n",
       "        vertical-align: middle;\n",
       "    }\n",
       "\n",
       "    .dataframe tbody tr th {\n",
       "        vertical-align: top;\n",
       "    }\n",
       "\n",
       "    .dataframe thead th {\n",
       "        text-align: right;\n",
       "    }\n",
       "</style>\n",
       "<table border=\"1\" class=\"dataframe\">\n",
       "  <thead>\n",
       "    <tr style=\"text-align: right;\">\n",
       "      <th></th>\n",
       "      <th>0</th>\n",
       "    </tr>\n",
       "  </thead>\n",
       "  <tbody>\n",
       "    <tr>\n",
       "      <th>Duration_Scaled</th>\n",
       "      <td>1.041997</td>\n",
       "    </tr>\n",
       "    <tr>\n",
       "      <th>job_student</th>\n",
       "      <td>0.903411</td>\n",
       "    </tr>\n",
       "    <tr>\n",
       "      <th>loan_yes</th>\n",
       "      <td>0.848799</td>\n",
       "    </tr>\n",
       "    <tr>\n",
       "      <th>housing_yes</th>\n",
       "      <td>0.760532</td>\n",
       "    </tr>\n",
       "    <tr>\n",
       "      <th>job_retired</th>\n",
       "      <td>0.711636</td>\n",
       "    </tr>\n",
       "  </tbody>\n",
       "</table>\n",
       "</div>"
      ],
      "text/plain": [
       "                        0\n",
       "Duration_Scaled  1.041997\n",
       "job_student      0.903411\n",
       "loan_yes         0.848799\n",
       "housing_yes      0.760532\n",
       "job_retired      0.711636"
      ]
     },
     "execution_count": 51,
     "metadata": {},
     "output_type": "execute_result"
    }
   ],
   "source": [
    "coef_best_parameter_df.columns = q2_feature_labels\n",
    "print(\"Top 5 features that contribute to prediction the most: \")\n",
    "\n",
    "abs(coef_best_parameter_df).T.sort_values (by = 0, ascending = False)[:5] \n",
    "\n",
    "# abs(coef_best_parameter_df).T.sort_values (by = 0, ascending = False)  Uncomment to get all features coefficients"
   ]
  },
  {
   "cell_type": "code",
   "execution_count": 52,
   "metadata": {},
   "outputs": [
    {
     "name": "stdout",
     "output_type": "stream",
     "text": [
      "Top 5 negative features: \n"
     ]
    },
    {
     "data": {
      "text/html": [
       "<div>\n",
       "<style scoped>\n",
       "    .dataframe tbody tr th:only-of-type {\n",
       "        vertical-align: middle;\n",
       "    }\n",
       "\n",
       "    .dataframe tbody tr th {\n",
       "        vertical-align: top;\n",
       "    }\n",
       "\n",
       "    .dataframe thead th {\n",
       "        text-align: right;\n",
       "    }\n",
       "</style>\n",
       "<table border=\"1\" class=\"dataframe\">\n",
       "  <thead>\n",
       "    <tr style=\"text-align: right;\">\n",
       "      <th></th>\n",
       "      <th>0</th>\n",
       "    </tr>\n",
       "  </thead>\n",
       "  <tbody>\n",
       "    <tr>\n",
       "      <th>education_unknown</th>\n",
       "      <td>-0.373280</td>\n",
       "    </tr>\n",
       "    <tr>\n",
       "      <th>job_unemployed</th>\n",
       "      <td>-0.377791</td>\n",
       "    </tr>\n",
       "    <tr>\n",
       "      <th>default_no</th>\n",
       "      <td>-0.382817</td>\n",
       "    </tr>\n",
       "    <tr>\n",
       "      <th>housing_yes</th>\n",
       "      <td>-0.760532</td>\n",
       "    </tr>\n",
       "    <tr>\n",
       "      <th>loan_yes</th>\n",
       "      <td>-0.848799</td>\n",
       "    </tr>\n",
       "  </tbody>\n",
       "</table>\n",
       "</div>"
      ],
      "text/plain": [
       "                          0\n",
       "education_unknown -0.373280\n",
       "job_unemployed    -0.377791\n",
       "default_no        -0.382817\n",
       "housing_yes       -0.760532\n",
       "loan_yes          -0.848799"
      ]
     },
     "execution_count": 52,
     "metadata": {},
     "output_type": "execute_result"
    }
   ],
   "source": [
    "print(\"Top 5 negative features: \")\n",
    "coef_best_parameter_df.T.sort_values (by = 0, ascending = False)[-5:] "
   ]
  },
  {
   "cell_type": "code",
   "execution_count": 53,
   "metadata": {},
   "outputs": [
    {
     "name": "stdout",
     "output_type": "stream",
     "text": [
      "Top 5 positive features: \n"
     ]
    },
    {
     "data": {
      "text/html": [
       "<div>\n",
       "<style scoped>\n",
       "    .dataframe tbody tr th:only-of-type {\n",
       "        vertical-align: middle;\n",
       "    }\n",
       "\n",
       "    .dataframe tbody tr th {\n",
       "        vertical-align: top;\n",
       "    }\n",
       "\n",
       "    .dataframe thead th {\n",
       "        text-align: right;\n",
       "    }\n",
       "</style>\n",
       "<table border=\"1\" class=\"dataframe\">\n",
       "  <thead>\n",
       "    <tr style=\"text-align: right;\">\n",
       "      <th></th>\n",
       "      <th>0</th>\n",
       "    </tr>\n",
       "  </thead>\n",
       "  <tbody>\n",
       "    <tr>\n",
       "      <th>Duration_Scaled</th>\n",
       "      <td>1.041997</td>\n",
       "    </tr>\n",
       "    <tr>\n",
       "      <th>job_student</th>\n",
       "      <td>0.903411</td>\n",
       "    </tr>\n",
       "    <tr>\n",
       "      <th>job_retired</th>\n",
       "      <td>0.711636</td>\n",
       "    </tr>\n",
       "    <tr>\n",
       "      <th>job_unknown</th>\n",
       "      <td>0.628026</td>\n",
       "    </tr>\n",
       "    <tr>\n",
       "      <th>job_admin.</th>\n",
       "      <td>0.409509</td>\n",
       "    </tr>\n",
       "  </tbody>\n",
       "</table>\n",
       "</div>"
      ],
      "text/plain": [
       "                        0\n",
       "Duration_Scaled  1.041997\n",
       "job_student      0.903411\n",
       "job_retired      0.711636\n",
       "job_unknown      0.628026\n",
       "job_admin.       0.409509"
      ]
     },
     "execution_count": 53,
     "metadata": {},
     "output_type": "execute_result"
    }
   ],
   "source": [
    "print(\"Top 5 positive features: \")\n",
    "coef_best_parameter_df.T.sort_values (by = 0, ascending = False)[:5] "
   ]
  },
  {
   "cell_type": "code",
   "execution_count": 54,
   "metadata": {},
   "outputs": [
    {
     "name": "stdout",
     "output_type": "stream",
     "text": [
      "Unuseful features (coefficient = 0 because of Lasso Regularization automatic feature selection):\n"
     ]
    },
    {
     "data": {
      "text/html": [
       "<div>\n",
       "<style scoped>\n",
       "    .dataframe tbody tr th:only-of-type {\n",
       "        vertical-align: middle;\n",
       "    }\n",
       "\n",
       "    .dataframe tbody tr th {\n",
       "        vertical-align: top;\n",
       "    }\n",
       "\n",
       "    .dataframe thead th {\n",
       "        text-align: right;\n",
       "    }\n",
       "</style>\n",
       "<table border=\"1\" class=\"dataframe\">\n",
       "  <thead>\n",
       "    <tr style=\"text-align: right;\">\n",
       "      <th></th>\n",
       "      <th>0</th>\n",
       "    </tr>\n",
       "  </thead>\n",
       "  <tbody>\n",
       "    <tr>\n",
       "      <th>Age_Q1</th>\n",
       "      <td>0.0</td>\n",
       "    </tr>\n",
       "    <tr>\n",
       "      <th>Age_Q4</th>\n",
       "      <td>0.0</td>\n",
       "    </tr>\n",
       "    <tr>\n",
       "      <th>job_services</th>\n",
       "      <td>0.0</td>\n",
       "    </tr>\n",
       "    <tr>\n",
       "      <th>job_technician</th>\n",
       "      <td>0.0</td>\n",
       "    </tr>\n",
       "    <tr>\n",
       "      <th>marital_divorced</th>\n",
       "      <td>0.0</td>\n",
       "    </tr>\n",
       "    <tr>\n",
       "      <th>education_secondary</th>\n",
       "      <td>0.0</td>\n",
       "    </tr>\n",
       "    <tr>\n",
       "      <th>default_yes</th>\n",
       "      <td>0.0</td>\n",
       "    </tr>\n",
       "    <tr>\n",
       "      <th>housing_no</th>\n",
       "      <td>0.0</td>\n",
       "    </tr>\n",
       "    <tr>\n",
       "      <th>loan_no</th>\n",
       "      <td>0.0</td>\n",
       "    </tr>\n",
       "  </tbody>\n",
       "</table>\n",
       "</div>"
      ],
      "text/plain": [
       "                       0\n",
       "Age_Q1               0.0\n",
       "Age_Q4               0.0\n",
       "job_services         0.0\n",
       "job_technician       0.0\n",
       "marital_divorced     0.0\n",
       "education_secondary  0.0\n",
       "default_yes          0.0\n",
       "housing_no           0.0\n",
       "loan_no              0.0"
      ]
     },
     "execution_count": 54,
     "metadata": {},
     "output_type": "execute_result"
    }
   ],
   "source": [
    "print(\"Unuseful features (coefficient = 0 because of Lasso Regularization automatic feature selection):\")\n",
    "coef_best_parameter_df.loc[:, (coef_best_parameter_df == 0).all()].T"
   ]
  },
  {
   "cell_type": "code",
   "execution_count": 55,
   "metadata": {},
   "outputs": [
    {
     "data": {
      "text/plain": [
       "y                      1.000000\n",
       "Duration_Scaled        0.407961\n",
       "housing_no             0.110098\n",
       "job_retired            0.080032\n",
       "loan_no                0.072961\n",
       "job_student            0.061935\n",
       "education_tertiary     0.047414\n",
       "marital_single         0.042986\n",
       "marital_divorced       0.038550\n",
       "Age_Q4                 0.037510\n",
       "job_management         0.035340\n",
       "job_unknown            0.027371\n",
       "Balance_Scaled         0.025249\n",
       "Age_Q1                 0.020128\n",
       "job_admin.             0.011119\n",
       "job_housemaid          0.000468\n",
       "default_yes            0.000271\n",
       "default_no            -0.000271\n",
       "education_unknown     -0.005636\n",
       "job_self-employed     -0.008079\n",
       "job_entrepreneur      -0.011730\n",
       "job_technician        -0.014174\n",
       "job_unemployed        -0.014447\n",
       "job_services          -0.015276\n",
       "education_secondary   -0.018248\n",
       "Age_Q2                -0.021824\n",
       "Day_Scaled            -0.025752\n",
       "education_primary     -0.031862\n",
       "Age_Q3                -0.036804\n",
       "Campaign_Scaled       -0.060484\n",
       "marital_married       -0.064686\n",
       "job_blue-collar       -0.072107\n",
       "loan_yes              -0.072961\n",
       "housing_yes           -0.110098\n",
       "Name: y, dtype: float64"
      ]
     },
     "execution_count": 55,
     "metadata": {},
     "output_type": "execute_result"
    }
   ],
   "source": [
    "# Compare with correlation matrix (just for analysis)\n",
    "\n",
    "# Get all preprocessed data with names in dataframe\n",
    "#columns_features = full_pipeline_2.transformed_names_\n",
    "features_df = pd.DataFrame(bank_train_q2)\n",
    "labels_df = pd.DataFrame(bank_train_y)\n",
    "labels_df.reset_index(inplace = True)\n",
    "labels_df = labels_df.drop([\"index\"], axis=1)\n",
    "new = pd.concat([features_df, labels_df], axis = 1)\n",
    "columns_features_new = q2_feature_labels + [\"y\"]\n",
    "new.columns = columns_features_new\n",
    "\n",
    "# Calculate correlation matrix with preprocessed data \n",
    "corr_matrix = new.corr()\n",
    "corr_matrix[\"y\"].sort_values(ascending=False)"
   ]
  },
  {
   "cell_type": "code",
   "execution_count": 56,
   "metadata": {},
   "outputs": [
    {
     "data": {
      "text/plain": [
       "2236    (18.999, 33.0]\n",
       "858       (33.0, 39.0]\n",
       "3531      (39.0, 48.0]\n",
       "2737      (33.0, 39.0]\n",
       "1257      (48.0, 87.0]\n",
       "             ...      \n",
       "4327      (48.0, 87.0]\n",
       "1205      (33.0, 39.0]\n",
       "4095      (33.0, 39.0]\n",
       "4335      (33.0, 39.0]\n",
       "1165      (33.0, 39.0]\n",
       "Name: age, Length: 3616, dtype: category\n",
       "Categories (4, interval[float64]): [(18.999, 33.0] < (33.0, 39.0] < (39.0, 48.0] < (48.0, 87.0]]"
      ]
     },
     "execution_count": 56,
     "metadata": {},
     "output_type": "execute_result"
    }
   ],
   "source": [
    "# Age quartiles for discussion\n",
    "pd.qcut(bank_train[\"age\"], q=4)"
   ]
  },
  {
   "cell_type": "markdown",
   "metadata": {},
   "source": [
    "***Analysis***\n",
    "- \"An important characteristic of Lasso Regression is that it tends to completely eliminate the weights of the least important features (i.e., set them to zero).\" ... \" In other words, Lasso Regression automatically performs feature selection and outputs a sparse model (i.e., with few nonzero feature weights)\" (p.130). This was considered the basis for our analysis regarding feature importance, but other methods such as training a Random Forest might be helpful.\n",
    "- Our best hyperparameter for C in the f1-focused regression was 1. \"The hyperparameter controlling the regularization strength of a Scikit-Learn LogisticRegression model is not alpha (as in other linear models), but its inverse: C. The higher the value of C, the less the model is regularized.\". Thus, we probably see a C = 1 as best parameter because there was already regularization made by the l1 penalty.\n",
    "- The most important part to highlight here is that by adding features such as duration, housing and loan, we were able to increase the model's prediction score becasue these features contribute a lot to the model. \n",
    "- Duration of last contact is very relevant for the target values. This is because if duration = 0, then y = no. However, a drawback of this situation is that duration cannot be used for prediction because it is a feature that it is not known beforehand.\n",
    "- Housing and personal loans were relevant features. From a business perspective, this might indicate that those with more debt are less likely to subscribe for a long term deposit (in the correlation matrix these two features were last, as well as in the top features top negative coefficients, indicating a negative relationship) \n",
    "- When calculating the confusion matrices, I decided to use cross_val_predict to guarantee a \"clean\" prediction - a prediction that is made by a model that never saw the data during training - but still without touching the test data - because it returns the preidctions made on each test fold (of the training data)."
   ]
  },
  {
   "cell_type": "markdown",
   "metadata": {},
   "source": [
    "### Question 3 (15 points)\n",
    "\n",
    "Now use the best model found in the cross-validation to predict the test set, show the obtained confusion matrix. Assume that targeting each customer would cost 10 euros and if the customer subscribe, the company would earn 50 euros. If we perform targeted telemarketing to all customers that are predicted to subscribe in the test set, what's the resulting profit?"
   ]
  },
  {
   "cell_type": "markdown",
   "metadata": {},
   "source": [
    "#### Now use the best model found in the cross-validation to predict the test set, show the obtained confusion matrix"
   ]
  },
  {
   "cell_type": "code",
   "execution_count": 57,
   "metadata": {},
   "outputs": [
    {
     "name": "stderr",
     "output_type": "stream",
     "text": [
      "C:\\Users\\Isabel\\anaconda3\\lib\\site-packages\\sklearn\\utils\\deprecation.py:87: FutureWarning: Function get_feature_names is deprecated; get_feature_names is deprecated in 1.0 and will be removed in 1.2. Please use get_feature_names_out instead.\n",
      "  warnings.warn(msg, category=FutureWarning)\n"
     ]
    },
    {
     "data": {
      "text/plain": [
       "(905, 33)"
      ]
     },
     "execution_count": 57,
     "metadata": {},
     "output_type": "execute_result"
    }
   ],
   "source": [
    "# Run only transform pipeline on test set\n",
    "bank_prepared_test = full_pipeline_2.transform(bank_test)\n",
    "bank_prepared_test.shape"
   ]
  },
  {
   "cell_type": "code",
   "execution_count": 58,
   "metadata": {},
   "outputs": [],
   "source": [
    "# Make predictions on test set\n",
    "y_test_pred_f1 = clf_f1.best_estimator_.predict(bank_prepared_test)"
   ]
  },
  {
   "cell_type": "code",
   "execution_count": 59,
   "metadata": {},
   "outputs": [],
   "source": [
    "y_test_pred_auc = clf_auc.best_estimator_.predict(bank_prepared_test)"
   ]
  },
  {
   "cell_type": "code",
   "execution_count": 60,
   "metadata": {},
   "outputs": [],
   "source": [
    "# Define function to plot confusion matrix -- helpful for visualization\n",
    "import seaborn as sns\n",
    "from sklearn.metrics import confusion_matrix\n",
    "import matplotlib.pyplot as plt\n",
    "\n",
    "def plot_confusion_matrix(matrix):\n",
    "    class_names=[0,1] # name  of classes\n",
    "    fig, ax = plt.subplots()\n",
    "    tick_marks = np.arange(len(class_names))\n",
    "    plt.xticks(tick_marks, class_names)\n",
    "    plt.yticks(tick_marks, class_names)\n",
    "    # create heatmap\n",
    "    sns.heatmap(pd.DataFrame(matrix), annot=True, cmap=\"YlGnBu\" ,fmt='g')\n",
    "    ax.xaxis.set_label_position(\"top\")\n",
    "    plt.tight_layout()\n",
    "    plt.title('Confusion matrix', y=1.1)\n",
    "    plt.ylabel('Actual label')\n",
    "    plt.xlabel('Predicted label')\n",
    "\n",
    "# TN, FP \n",
    "# FN, TP"
   ]
  },
  {
   "cell_type": "code",
   "execution_count": 91,
   "metadata": {},
   "outputs": [
    {
     "name": "stdout",
     "output_type": "stream",
     "text": [
      "Confusion matrix considering f1 score\n"
     ]
    },
    {
     "data": {
      "image/png": "[encoded data removed]",
      "text/plain": [
       "<Figure size 432x288 with 2 Axes>"
      ]
     },
     "metadata": {
      "needs_background": "light"
     },
     "output_type": "display_data"
    }
   ],
   "source": [
    "print(\"Confusion matrix considering f1 score\")\n",
    "cnf_matrix = confusion_matrix(bank_test_y, y_test_pred_f1)\n",
    "plot_confusion_matrix(cnf_matrix)"
   ]
  },
  {
   "cell_type": "code",
   "execution_count": 89,
   "metadata": {},
   "outputs": [
    {
     "name": "stdout",
     "output_type": "stream",
     "text": [
      "Confusion matrix considering AUC score\n"
     ]
    },
    {
     "data": {
      "image/png": "[encoded data removed]",
      "text/plain": [
       "<Figure size 432x288 with 2 Axes>"
      ]
     },
     "metadata": {
      "needs_background": "light"
     },
     "output_type": "display_data"
    }
   ],
   "source": [
    "print(\"Confusion matrix considering AUC score\")\n",
    "cnf_matrix_auc = confusion_matrix(bank_test_y, y_test_pred_auc)\n",
    "plot_confusion_matrix(cnf_matrix_auc)"
   ]
  },
  {
   "cell_type": "markdown",
   "metadata": {},
   "source": [
    "#### Assume that targeting each customer would cost 10 euros and if the customer subscribe, the company would earn 50 euros. If we perform targeted telemarketing to all customers that are predicted to subscribe in the test set, what's the resulting profit?"
   ]
  },
  {
   "cell_type": "code",
   "execution_count": 92,
   "metadata": {},
   "outputs": [
    {
     "name": "stdout",
     "output_type": "stream",
     "text": [
      "If we perform targeted telemarketing to all cusomter that are predicted to subscribe in the test set, the resulting \n",
      "profit would be 620 euros.\n"
     ]
    }
   ],
   "source": [
    "true_pos = cnf_matrix[1, 1]\n",
    "true_neg = cnf_matrix[0,0]\n",
    "false_pos = cnf_matrix[0, 1]\n",
    "false_neg = cnf_matrix[1, 0]\n",
    "\n",
    "TARGET_COST = 10\n",
    "SUBSC_REV = 50\n",
    "profit_formula = SUBSC_REV * true_pos - ((true_pos + false_pos)*TARGET_COST) \n",
    "\n",
    "print(f\"\"\"If we perform targeted telemarketing to all cusomter that are predicted to subscribe in the test set, the resulting \n",
    "profit would be {profit_formula} euros.\"\"\")"
   ]
  },
  {
   "cell_type": "markdown",
   "metadata": {},
   "source": [
    "### Question 4 (20 points)\n",
    "\n",
    "Now adjust the decision threshold in order to optimize the obtained profit. What would be the resulting threshold and profit? Is the propensity model built based on the targeing predicted probability useful in terms of profit maximizing? Explain your findings."
   ]
  },
  {
   "cell_type": "code",
   "execution_count": 64,
   "metadata": {},
   "outputs": [
    {
     "data": {
      "image/png": "[encoded data removed]",
      "text/plain": [
       "<Figure size 576x288 with 1 Axes>"
      ]
     },
     "metadata": {
      "needs_background": "light"
     },
     "output_type": "display_data"
    }
   ],
   "source": [
    "# Initial approach: look at precision/recall curve \n",
    "\n",
    "# One approach is to extract the decision function from our best estimator to then plot the precision-recall curve\n",
    "y_scores = cross_val_predict(clf_f1.best_estimator_, bank_prepared_test, bank_test_y, cv=5,\n",
    "                             method=\"decision_function\")\n",
    "\n",
    "from sklearn.metrics import precision_recall_curve\n",
    "precisions, recalls, thresholds = precision_recall_curve(bank_test_y, y_scores)\n",
    "import matplotlib.pyplot as plt\n",
    "def plot_precision_recall_vs_threshold(precisions, recalls, thresholds):\n",
    "    plt.plot(thresholds, precisions[:-1], \"b--\", label=\"Precision\", linewidth=2)\n",
    "    plt.plot(thresholds, recalls[:-1], \"g-\", label=\"Recall\", linewidth=2)\n",
    "    plt.xlabel(\"Threshold\", fontsize=16)\n",
    "    plt.legend(loc=\"upper left\", fontsize=16)\n",
    "    plt.ylim([0, 1])\n",
    "\n",
    "plt.figure(figsize=(8, 4))\n",
    "plot_precision_recall_vs_threshold(precisions, recalls, thresholds)\n",
    "plt.xlim([-4, 3])\n",
    "\n",
    "plt.show()"
   ]
  },
  {
   "cell_type": "markdown",
   "metadata": {},
   "source": [
    "From the plot above, we see how different thresholds affect our precision and recall. This is a \"summary\" of what would be to calculate a confusion matrix at each threshold. However, as stated earlier, for our purposes both precision and recall have some importance. However, if I were to pick from this plot a threshold, I would prioritize a little bit precision over recall by selecting a threshold of around -1. We can see what that takes us first:"
   ]
  },
  {
   "cell_type": "code",
   "execution_count": 65,
   "metadata": {},
   "outputs": [
    {
     "data": {
      "text/plain": [
       "0.4069767441860465"
      ]
     },
     "execution_count": 65,
     "metadata": {},
     "output_type": "execute_result"
    }
   ],
   "source": [
    "from sklearn import metrics\n",
    "from sklearn.metrics import precision_score\n",
    "\n",
    "y_test_pred_precision = (y_scores > -1)\n",
    "precision_score(bank_test_y, y_test_pred_precision)"
   ]
  },
  {
   "cell_type": "code",
   "execution_count": 66,
   "metadata": {},
   "outputs": [
    {
     "data": {
      "image/png": "[encoded data removed]",
      "text/plain": [
       "<Figure size 432x288 with 2 Axes>"
      ]
     },
     "metadata": {
      "needs_background": "light"
     },
     "output_type": "display_data"
    }
   ],
   "source": [
    "opt_cnf_matrix = confusion_matrix(bank_test_y, y_test_pred_precision)\n",
    "plot_confusion_matrix(opt_cnf_matrix)"
   ]
  },
  {
   "cell_type": "code",
   "execution_count": 67,
   "metadata": {},
   "outputs": [
    {
     "name": "stdout",
     "output_type": "stream",
     "text": [
      "If we perform targeted telemarketing to all cusomter that are predicted to subscribe in the test set, the resulting \n",
      "profit would be 890 euros.\n"
     ]
    }
   ],
   "source": [
    "true_pos = opt_cnf_matrix[1, 1]\n",
    "true_neg = opt_cnf_matrix[0,0]\n",
    "false_pos = opt_cnf_matrix[0, 1]\n",
    "false_neg = opt_cnf_matrix[1, 0]\n",
    "TARGET_COST = 10\n",
    "SUBSC_REV = 50\n",
    "profit_formula = SUBSC_REV * true_pos - ((true_pos + false_pos)*TARGET_COST) \n",
    "\n",
    "print(f\"\"\"If we perform targeted telemarketing to all cusomter that are predicted to subscribe in the test set, the resulting \n",
    "profit would be {profit_formula} euros.\"\"\")"
   ]
  },
  {
   "cell_type": "markdown",
   "metadata": {},
   "source": [
    "However, it seems that there is still uncertainty in this method on whether this is actually the best threshold for our estimator. Because of this, a better approach would be to define a function that calculates the profit for each threshold of our estimator, and then selects the best threshold for our decision function. See function below:"
   ]
  },
  {
   "cell_type": "code",
   "execution_count": 68,
   "metadata": {},
   "outputs": [],
   "source": [
    "# Function to calculate expected profit\n",
    "SUBSC_REV = 50\n",
    "TARGET_COST = 10\n",
    " \n",
    "prob_pred=clf_f1.best_estimator_.predict_proba(bank_prepared_test)[:,1]\n",
    "#fpr, tpr, thresholds = metrics.roc_curve(bank_test_y, prob_pred)  # thresholds based on fpr and tpr \n",
    "precisions, recalls, thresholds = precision_recall_curve(bank_test_y, prob_pred)\n",
    "\n",
    "def expected_profit_func():\n",
    "    all_profits = []\n",
    "    for thresh in thresholds: # for-loop for each threshold\n",
    "        \n",
    "        y_test_pred_threshold = (prob_pred > thresh)   # all positives predictions at that threshold\n",
    "        opt_cnf_matrix = confusion_matrix(bank_test_y, y_test_pred_threshold)   # confusion matrix at this threshold\n",
    "        true_pos = opt_cnf_matrix[1, 1]\n",
    "        true_neg = opt_cnf_matrix[0,0]\n",
    "        false_pos = opt_cnf_matrix[0, 1]\n",
    "        false_neg = opt_cnf_matrix[1, 0]\n",
    "\n",
    "        profit = SUBSC_REV * true_pos - ((true_pos + false_pos)*TARGET_COST) \n",
    "        all_profits.append(profit)\n",
    "    return all_profits"
   ]
  },
  {
   "cell_type": "code",
   "execution_count": 69,
   "metadata": {},
   "outputs": [
    {
     "data": {
      "text/plain": [
       "1360"
      ]
     },
     "execution_count": 69,
     "metadata": {},
     "output_type": "execute_result"
    }
   ],
   "source": [
    "profits_each_threshold = expected_profit_func()\n",
    "\n",
    "# Now that we have all profits at each threshold, let's look at the max\n",
    "max(profits_each_threshold)"
   ]
  },
  {
   "cell_type": "markdown",
   "metadata": {},
   "source": [
    "1360 certainly seems better than 890 euros in terms of profit. What's the threshold? "
   ]
  },
  {
   "cell_type": "code",
   "execution_count": 70,
   "metadata": {},
   "outputs": [
    {
     "name": "stdout",
     "output_type": "stream",
     "text": [
      "The threshold to optimize our profits is of 0.1556397785288501 for our best estimator classifier\n"
     ]
    }
   ],
   "source": [
    "max_thresh_index = np.argmax(profits_each_threshold)\n",
    "threshold_optimizer = thresholds[max_thresh_index] \n",
    "\n",
    "print(f\"The threshold to optimize our profits is of {threshold_optimizer} for our best estimator classifier\")"
   ]
  },
  {
   "cell_type": "code",
   "execution_count": 71,
   "metadata": {},
   "outputs": [
    {
     "name": "stderr",
     "output_type": "stream",
     "text": [
      "C:\\Users\\Isabel\\anaconda3\\lib\\site-packages\\sklearn\\utils\\deprecation.py:87: FutureWarning: Function plot_roc_curve is deprecated; Function :func:`plot_roc_curve` is deprecated in 1.0 and will be removed in 1.2. Use one of the class methods: :meth:`sklearn.metric.RocCurveDisplay.from_predictions` or :meth:`sklearn.metric.RocCurveDisplay.from_estimator`.\n",
      "  warnings.warn(msg, category=FutureWarning)\n"
     ]
    },
    {
     "data": {
      "text/plain": [
       "<sklearn.metrics._plot.roc_curve.RocCurveDisplay at 0x22737c634c0>"
      ]
     },
     "execution_count": 71,
     "metadata": {},
     "output_type": "execute_result"
    },
    {
     "data": {
      "image/png": "[encoded data removed]",
      "text/plain": [
       "<Figure size 432x288 with 1 Axes>"
      ]
     },
     "metadata": {
      "needs_background": "light"
     },
     "output_type": "display_data"
    }
   ],
   "source": [
    "# Plot ROC curve\n",
    "metrics.plot_roc_curve(clf_f1.best_estimator_, bank_prepared_test, bank_test_y) "
   ]
  },
  {
   "cell_type": "code",
   "execution_count": 72,
   "metadata": {},
   "outputs": [
    {
     "data": {
      "image/png": "[encoded data removed]",
      "text/plain": [
       "<Figure size 864x432 with 1 Axes>"
      ]
     },
     "metadata": {
      "needs_background": "light"
     },
     "output_type": "display_data"
    }
   ],
   "source": [
    "# Plot our profits against threshold (this is very helpful especially in business contexts)\n",
    "\n",
    "import seaborn as sns\n",
    "import matplotlib.pyplot as plt\n",
    "\n",
    "plt.figure(figsize=(12, 6))\n",
    "plt.xlabel(\"Threshold\", fontsize=16)\n",
    "plt.ylabel(\"Profits\", fontsize=16)\n",
    "plt.plot(thresholds, profits_each_threshold)\n",
    "plt.grid()\n",
    "\n",
    "plt.show()"
   ]
  },
  {
   "cell_type": "markdown",
   "metadata": {},
   "source": [
    "What would be the resulting threshold and profit? Is the propensity model built based on the targeing predicted probability useful in terms of profit maximizing? Explain your findings.\n",
    "\n",
    "***Analysis***\n",
    "- The resulting threshold after maximizing the profit was of around 0.16, with a profit of 1360. \n",
    "- I extracted the thresholds from the precision_recall_curve, and then created a function that generates a confusion matrix at each threshold. In this case, we predict the probability of each customer subscribing, and compare it with each threshold obtained. \n",
    "- Thus, we can conclude that targeting the predicting probability is definitely useful when trying to maximize profit (this effect would be seen at a way higher scale if having more customers. As we saw, we moved from an unoptimized profit of 620 euros to 1360 euros, which is more than double than the original profit. This is a great indicator that by having a model with accurate probabilities of each instance is helpful for profit maximization.\n",
    "- In this case, we are alrady seeing our model performance on the test set. However, if we wanted to calculated expected profit, we would need to adapt the formula to something like:"
   ]
  },
  {
   "attachments": {
    "image.png": {
     "image/png": "[encoded data removed]"
    }
   },
   "cell_type": "markdown",
   "metadata": {},
   "source": [
    "![image.png](attachment:image.png)"
   ]
  },
  {
   "cell_type": "markdown",
   "metadata": {},
   "source": [
    "\n",
    "- where p(p) is the probability of subscribing (p.202, 2013). This is because we wouldn't be able to \"test\" if our predictions are right, so the profit would be only an estimate. To accurately estimate the profit, we need to consider the class priors - the \"likelihood of seeing positive and negative instances\" (p.201, 2013). \n",
    "- In our case, because we wanted to know the profit based on our model's predictions on the test set, we already had with what to compare and were able to properly identify the profit if we were to use our best estimator model."
   ]
  },
  {
   "cell_type": "markdown",
   "metadata": {},
   "source": [
    "### Question 5 (15 points)\n",
    "\n",
    "Now train a random forest model, with 10 decision trees and max_depth=2, what is the profit that can be achieved given the threshold that you identified earlier? Do you need to increase or decrese the threshold to maximize the profit using random forest model? Explain your result."
   ]
  },
  {
   "cell_type": "code",
   "execution_count": 73,
   "metadata": {},
   "outputs": [
    {
     "data": {
      "text/plain": [
       "RandomForestClassifier(max_depth=2, n_estimators=10, random_state=42)"
      ]
     },
     "execution_count": 73,
     "metadata": {},
     "output_type": "execute_result"
    }
   ],
   "source": [
    "from sklearn.ensemble import RandomForestClassifier\n",
    "\n",
    "forest_clas = RandomForestClassifier(n_estimators=10, random_state=42, max_depth=2)\n",
    "forest_clas.fit(bank_train_q2, bank_train_y)"
   ]
  },
  {
   "cell_type": "code",
   "execution_count": 74,
   "metadata": {},
   "outputs": [
    {
     "data": {
      "image/png": "[encoded data removed]",
      "text/plain": [
       "<Figure size 576x288 with 1 Axes>"
      ]
     },
     "metadata": {
      "needs_background": "light"
     },
     "output_type": "display_data"
    }
   ],
   "source": [
    "# Initial approach: look at precision/recall curve \n",
    "\n",
    "# One approach is to extract the decision function from our best estimator to then plot the precision-recall curve\n",
    "\n",
    "prob_pred=forest_clas.predict_proba(bank_prepared_test)[:,1]\n",
    "#fpr, tpr, thresholds = metrics.roc_curve(bank_test_y, prob_pred)  # thresholds based on fpr and tpr \n",
    "precisions, recalls, thresholds = precision_recall_curve(bank_test_y, prob_pred)\n",
    "\n",
    "import matplotlib.pyplot as plt\n",
    "def plot_precision_recall_vs_threshold(precisions, recalls, thresholds):\n",
    "    plt.plot(thresholds, precisions[:-1], \"b--\", label=\"Precision\", linewidth=2)\n",
    "    plt.plot(thresholds, recalls[:-1], \"g-\", label=\"Recall\", linewidth=2)\n",
    "    plt.xlabel(\"Threshold\", fontsize=16)\n",
    "    plt.legend(loc=\"upper left\", fontsize=16)\n",
    "    plt.ylim([0, 1])\n",
    "\n",
    "plt.figure(figsize=(8, 4))\n",
    "plot_precision_recall_vs_threshold(precisions, recalls, thresholds)\n",
    "plt.xlim([-1, 1])\n",
    "\n",
    "plt.show()"
   ]
  },
  {
   "cell_type": "markdown",
   "metadata": {},
   "source": [
    "We might need to decrease the threshold to obtain bigger profits, but we can double check with confusion matrix"
   ]
  },
  {
   "cell_type": "code",
   "execution_count": 75,
   "metadata": {},
   "outputs": [],
   "source": [
    "predicted_prob_rf = forest_clas.predict_proba(bank_prepared_test)[:,1]\n",
    "pred_positive_2 = (predicted_prob_rf > threshold_optimizer)  # defined previously, around 0.16"
   ]
  },
  {
   "cell_type": "code",
   "execution_count": 76,
   "metadata": {},
   "outputs": [
    {
     "data": {
      "image/png": "[encoded data removed]",
      "text/plain": [
       "<Figure size 432x288 with 2 Axes>"
      ]
     },
     "metadata": {
      "needs_background": "light"
     },
     "output_type": "display_data"
    }
   ],
   "source": [
    "rf_opt_cnf_matrix = confusion_matrix(bank_test_y, pred_positive_2)\n",
    "plot_confusion_matrix(rf_opt_cnf_matrix)"
   ]
  },
  {
   "cell_type": "markdown",
   "metadata": {},
   "source": [
    "Indeed, if we decrease the threshold we might get more of those 71 that were predicted as non-subscribers but they were, classified as actual subscribers (true positive)"
   ]
  },
  {
   "cell_type": "code",
   "execution_count": 77,
   "metadata": {},
   "outputs": [
    {
     "name": "stdout",
     "output_type": "stream",
     "text": [
      "If we perform targeted telemarketing to all cusomter that are predicted to subscribe in the test set, the resulting \n",
      "profit would be 830 euros.\n"
     ]
    }
   ],
   "source": [
    "true_pos = rf_opt_cnf_matrix[1, 1]\n",
    "true_neg = rf_opt_cnf_matrix[0,0]\n",
    "false_pos = rf_opt_cnf_matrix[0, 1]\n",
    "false_neg = rf_opt_cnf_matrix[1, 0]\n",
    "TARGET_COST = 10\n",
    "SUBSC_REV = 50\n",
    "profit_formula = SUBSC_REV * true_pos - ((true_pos + false_pos)*TARGET_COST) \n",
    "\n",
    "print(f\"\"\"If we perform targeted telemarketing to all cusomter that are predicted to subscribe in the test set, the resulting \n",
    "profit would be {profit_formula} euros.\"\"\")"
   ]
  },
  {
   "cell_type": "code",
   "execution_count": 78,
   "metadata": {},
   "outputs": [],
   "source": [
    "# Function to calculate expected profit (same function as before)\n",
    "SUBSC_REV = 50\n",
    "TARGET_COST = 10\n",
    "\n",
    "predicted_prob_rf = forest_clas.predict_proba(bank_prepared_test)[:,1]\n",
    "precisions, recalls, thresholds = precision_recall_curve(bank_test_y, prob_pred)\n",
    "#fpr, tpr, thresholds = metrics.roc_curve(bank_test_y, predicted_prob_rf)\n",
    "\n",
    "def expected_profit_func():\n",
    "    all_profits = []\n",
    "    for thresh in thresholds:\n",
    "        y_test_pred_threshold = (predicted_prob_rf > thresh)\n",
    "        opt_cnf_matrix = confusion_matrix(bank_test_y, y_test_pred_threshold)\n",
    "        true_pos = opt_cnf_matrix[1, 1]\n",
    "        true_neg = opt_cnf_matrix[0,0]\n",
    "        false_pos = opt_cnf_matrix[0, 1]\n",
    "        false_neg = opt_cnf_matrix[1, 0]\n",
    "\n",
    "        profit = SUBSC_REV* true_pos - ((true_pos + false_pos)*TARGET_COST) \n",
    "        all_profits.append(profit)\n",
    "    return all_profits"
   ]
  },
  {
   "cell_type": "code",
   "execution_count": 79,
   "metadata": {},
   "outputs": [
    {
     "name": "stdout",
     "output_type": "stream",
     "text": [
      "The maximum profit achievable would be of 1180\n"
     ]
    }
   ],
   "source": [
    "rf_thresh_index = np.argmax(expected_profit_func())\n",
    "max_profit = max(expected_profit_func())\n",
    "print(f\"The maximum profit achievable would be of {max_profit}\")"
   ]
  },
  {
   "cell_type": "code",
   "execution_count": 80,
   "metadata": {},
   "outputs": [
    {
     "name": "stdout",
     "output_type": "stream",
     "text": [
      "In random forest, the best threshold would be of 0.1339227365749319\n"
     ]
    }
   ],
   "source": [
    "threshold_max =  thresholds[rf_thresh_index]\n",
    "print(f\"In random forest, the best threshold would be of {threshold_max}\")"
   ]
  },
  {
   "cell_type": "markdown",
   "metadata": {},
   "source": [
    "***Analysis***\n",
    "- With Random Forest, I expected to see a higher highest profit than with logistic regression. However, because we didn't do any hyperparameter tuning, this might also affect our model performance. \n",
    "- In fact, as tested below, if we change the max_depth to 10, we see a higher profit. Ideally, we should try to find the best parameter for this as well, since a very big number of depth might increase complexity of the model way more than desired. Generally, the deeper the tree, the more splits it has and it captures more information about the data.\n",
    "- In the test set there are a total of 104 subscribers, yet this model only predicted 33. Definitely further tuning is needed since that is a big amount of potential profit loss if we are not able to correctly predict at least 50 % of this class."
   ]
  },
  {
   "cell_type": "code",
   "execution_count": 106,
   "metadata": {},
   "outputs": [],
   "source": [
    "rf_features = pd.DataFrame(forest_clas.feature_importances_)"
   ]
  },
  {
   "cell_type": "code",
   "execution_count": 109,
   "metadata": {},
   "outputs": [],
   "source": [
    "rf_features_t = rf_features.T\n",
    "\n",
    "rf_features_t.columns = q2_feature_labels"
   ]
  },
  {
   "cell_type": "code",
   "execution_count": 112,
   "metadata": {},
   "outputs": [
    {
     "data": {
      "text/html": [
       "<div>\n",
       "<style scoped>\n",
       "    .dataframe tbody tr th:only-of-type {\n",
       "        vertical-align: middle;\n",
       "    }\n",
       "\n",
       "    .dataframe tbody tr th {\n",
       "        vertical-align: top;\n",
       "    }\n",
       "\n",
       "    .dataframe thead th {\n",
       "        text-align: right;\n",
       "    }\n",
       "</style>\n",
       "<table border=\"1\" class=\"dataframe\">\n",
       "  <thead>\n",
       "    <tr style=\"text-align: right;\">\n",
       "      <th></th>\n",
       "      <th>0</th>\n",
       "    </tr>\n",
       "  </thead>\n",
       "  <tbody>\n",
       "    <tr>\n",
       "      <th>Duration_Scaled</th>\n",
       "      <td>0.371719</td>\n",
       "    </tr>\n",
       "    <tr>\n",
       "      <th>Balance_Scaled</th>\n",
       "      <td>0.127423</td>\n",
       "    </tr>\n",
       "    <tr>\n",
       "      <th>Day_Scaled</th>\n",
       "      <td>0.117259</td>\n",
       "    </tr>\n",
       "    <tr>\n",
       "      <th>Campaign_Scaled</th>\n",
       "      <td>0.059661</td>\n",
       "    </tr>\n",
       "    <tr>\n",
       "      <th>housing_yes</th>\n",
       "      <td>0.024185</td>\n",
       "    </tr>\n",
       "    <tr>\n",
       "      <th>job_blue-collar</th>\n",
       "      <td>0.017854</td>\n",
       "    </tr>\n",
       "    <tr>\n",
       "      <th>education_tertiary</th>\n",
       "      <td>0.017448</td>\n",
       "    </tr>\n",
       "    <tr>\n",
       "      <th>education_secondary</th>\n",
       "      <td>0.015726</td>\n",
       "    </tr>\n",
       "    <tr>\n",
       "      <th>marital_divorced</th>\n",
       "      <td>0.015551</td>\n",
       "    </tr>\n",
       "    <tr>\n",
       "      <th>Age_Q1</th>\n",
       "      <td>0.014508</td>\n",
       "    </tr>\n",
       "    <tr>\n",
       "      <th>marital_married</th>\n",
       "      <td>0.014327</td>\n",
       "    </tr>\n",
       "    <tr>\n",
       "      <th>housing_no</th>\n",
       "      <td>0.013829</td>\n",
       "    </tr>\n",
       "    <tr>\n",
       "      <th>job_student</th>\n",
       "      <td>0.013756</td>\n",
       "    </tr>\n",
       "    <tr>\n",
       "      <th>job_management</th>\n",
       "      <td>0.013272</td>\n",
       "    </tr>\n",
       "    <tr>\n",
       "      <th>job_retired</th>\n",
       "      <td>0.012675</td>\n",
       "    </tr>\n",
       "    <tr>\n",
       "      <th>Age_Q4</th>\n",
       "      <td>0.012652</td>\n",
       "    </tr>\n",
       "    <tr>\n",
       "      <th>marital_single</th>\n",
       "      <td>0.012388</td>\n",
       "    </tr>\n",
       "    <tr>\n",
       "      <th>Age_Q2</th>\n",
       "      <td>0.012121</td>\n",
       "    </tr>\n",
       "    <tr>\n",
       "      <th>education_primary</th>\n",
       "      <td>0.011601</td>\n",
       "    </tr>\n",
       "    <tr>\n",
       "      <th>loan_yes</th>\n",
       "      <td>0.011017</td>\n",
       "    </tr>\n",
       "    <tr>\n",
       "      <th>loan_no</th>\n",
       "      <td>0.010981</td>\n",
       "    </tr>\n",
       "    <tr>\n",
       "      <th>Age_Q3</th>\n",
       "      <td>0.010235</td>\n",
       "    </tr>\n",
       "    <tr>\n",
       "      <th>job_technician</th>\n",
       "      <td>0.009121</td>\n",
       "    </tr>\n",
       "    <tr>\n",
       "      <th>education_unknown</th>\n",
       "      <td>0.009043</td>\n",
       "    </tr>\n",
       "    <tr>\n",
       "      <th>job_housemaid</th>\n",
       "      <td>0.007858</td>\n",
       "    </tr>\n",
       "    <tr>\n",
       "      <th>job_services</th>\n",
       "      <td>0.007452</td>\n",
       "    </tr>\n",
       "    <tr>\n",
       "      <th>job_entrepreneur</th>\n",
       "      <td>0.007389</td>\n",
       "    </tr>\n",
       "    <tr>\n",
       "      <th>job_admin.</th>\n",
       "      <td>0.006978</td>\n",
       "    </tr>\n",
       "    <tr>\n",
       "      <th>job_unemployed</th>\n",
       "      <td>0.006340</td>\n",
       "    </tr>\n",
       "    <tr>\n",
       "      <th>default_yes</th>\n",
       "      <td>0.004419</td>\n",
       "    </tr>\n",
       "    <tr>\n",
       "      <th>job_self-employed</th>\n",
       "      <td>0.004278</td>\n",
       "    </tr>\n",
       "    <tr>\n",
       "      <th>default_no</th>\n",
       "      <td>0.003631</td>\n",
       "    </tr>\n",
       "    <tr>\n",
       "      <th>job_unknown</th>\n",
       "      <td>0.003303</td>\n",
       "    </tr>\n",
       "  </tbody>\n",
       "</table>\n",
       "</div>"
      ],
      "text/plain": [
       "                            0\n",
       "Duration_Scaled      0.371719\n",
       "Balance_Scaled       0.127423\n",
       "Day_Scaled           0.117259\n",
       "Campaign_Scaled      0.059661\n",
       "housing_yes          0.024185\n",
       "job_blue-collar      0.017854\n",
       "education_tertiary   0.017448\n",
       "education_secondary  0.015726\n",
       "marital_divorced     0.015551\n",
       "Age_Q1               0.014508\n",
       "marital_married      0.014327\n",
       "housing_no           0.013829\n",
       "job_student          0.013756\n",
       "job_management       0.013272\n",
       "job_retired          0.012675\n",
       "Age_Q4               0.012652\n",
       "marital_single       0.012388\n",
       "Age_Q2               0.012121\n",
       "education_primary    0.011601\n",
       "loan_yes             0.011017\n",
       "loan_no              0.010981\n",
       "Age_Q3               0.010235\n",
       "job_technician       0.009121\n",
       "education_unknown    0.009043\n",
       "job_housemaid        0.007858\n",
       "job_services         0.007452\n",
       "job_entrepreneur     0.007389\n",
       "job_admin.           0.006978\n",
       "job_unemployed       0.006340\n",
       "default_yes          0.004419\n",
       "job_self-employed    0.004278\n",
       "default_no           0.003631\n",
       "job_unknown          0.003303"
      ]
     },
     "execution_count": 112,
     "metadata": {},
     "output_type": "execute_result"
    }
   ],
   "source": [
    "rf_features_t.T.sort_values(by = 0, ascending = False)"
   ]
  },
  {
   "cell_type": "code",
   "execution_count": 81,
   "metadata": {},
   "outputs": [
    {
     "name": "stdout",
     "output_type": "stream",
     "text": [
      "The maximum profit achievable would be of 1430\n",
      "In random forest, the best threshold would be of 0.16654423334469204\n"
     ]
    }
   ],
   "source": [
    "# Test to see depth effect on random forest\n",
    "\n",
    "from sklearn.ensemble import RandomForestClassifier\n",
    "\n",
    "forest_clas = RandomForestClassifier(n_estimators=10, random_state=42, max_depth=10)\n",
    "forest_clas.fit(bank_train_q2, bank_train_y)\n",
    "\n",
    "# Function to calculate expected profit (same function as before)\n",
    "SUBSC_REV = 50\n",
    "TARGET_COST = 10\n",
    "\n",
    "predicted_prob_rf = forest_clas.predict_proba(bank_prepared_test)[:,1]\n",
    "precisions, recalls, thresholds = precision_recall_curve(bank_test_y, prob_pred)\n",
    "#fpr, tpr, thresholds = metrics.roc_curve(bank_test_y, predicted_prob_rf)\n",
    "\n",
    "def expected_profit_func():\n",
    "    all_profits = []\n",
    "    for thresh in thresholds:\n",
    "        y_test_pred_threshold = (predicted_prob_rf > thresh)\n",
    "        opt_cnf_matrix = confusion_matrix(bank_test_y, y_test_pred_threshold)\n",
    "        true_pos = opt_cnf_matrix[1, 1]\n",
    "        true_neg = opt_cnf_matrix[0,0]\n",
    "        false_pos = opt_cnf_matrix[0, 1]\n",
    "        false_neg = opt_cnf_matrix[1, 0]\n",
    "\n",
    "        profit = SUBSC_REV* true_pos - ((true_pos + false_pos)*TARGET_COST) \n",
    "        all_profits.append(profit)\n",
    "    return all_profits\n",
    "\n",
    "rf_thresh_index = np.argmax(expected_profit_func())\n",
    "max_profit = max(expected_profit_func())\n",
    "print(f\"The maximum profit achievable would be of {max_profit}\")\n",
    "\n",
    "threshold_max =  thresholds[rf_thresh_index]\n",
    "print(f\"In random forest, the best threshold would be of {threshold_max}\")"
   ]
  },
  {
   "cell_type": "markdown",
   "metadata": {},
   "source": [
    "Congratulations! Now you have been able to complete a end-to-end machine learning project. "
   ]
  }
 ],
 "metadata": {
  "kernelspec": {
   "display_name": "Python 3",
   "language": "python",
   "name": "python3"
  },
  "language_info": {
   "codemirror_mode": {
    "name": "ipython",
    "version": 3
   },
   "file_extension": ".py",
   "mimetype": "text/x-python",
   "name": "python",
   "nbconvert_exporter": "python",
   "pygments_lexer": "ipython3",
   "version": "3.8.8"
  }
 },
 "nbformat": 4,
 "nbformat_minor": 2
}
