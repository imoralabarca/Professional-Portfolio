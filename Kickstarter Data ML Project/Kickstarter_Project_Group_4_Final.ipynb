{
 "cells": [
  {
   "cell_type": "markdown",
   "id": "f0463f3a-ca61-4e76-811b-baf032c27a0e",
   "metadata": {},
   "source": [
    "# <center>Kickstarter Project<center>\n",
    "#### Group 4\n",
    "* Alice Chaves, 48857\n",
    "* Filipa Esteves, 48842\n",
    "* Ieva Paleckyte, 48327\n",
    "* Isabel Mora Labarca, 48516\n",
    "* Maria-Eleni Ioannou, 48421"
   ]
  },
  {
   "cell_type": "markdown",
   "id": "76669831",
   "metadata": {},
   "source": [
    "#### Data used for this project was based on Kickstarters' crowfunding website project proposals"
   ]
  },
  {
   "cell_type": "markdown",
   "id": "f9fb9071-38ef-421d-b466-da798a75e9be",
   "metadata": {},
   "source": [
    "# **<center><span style=\"color:limegreen\">Business understanding</span><center>**"
   ]
  },
  {
   "cell_type": "markdown",
   "id": "6a3f6718-e40a-4b65-b181-625f2adeab9b",
   "metadata": {},
   "source": [
    "* **Why predicting if a project will be succesful is useful?**\n",
    "\n",
    "> We deeply believe that nowadays, in the world of business, the information flow and the risks that exist, as well as the requirement to make decision fast are high. Being able to predict the projects that will drive success, can be a great competitive advantage of any business, especialy the ones dealing with innovative ideas or projects that require high investment spendings and are characterized by more uncertainty. This way, portofolio management processes are not anymore prone to human error, the prioritization of projects and the product development can be accurately planned,  not only based on time-consuming or more generic management tools (NPI, strategic buckets etc). Therefore, there is a higher chance of developing succesful projects and letting go faster of the ones that are not to be developed ,since these are also higly important elements to acquire space/time and save resources for existing products/new ideation. \n",
    "<br>"
   ]
  },
  {
   "cell_type": "markdown",
   "id": "af940297-ae85-461c-a10d-f6bdd40f45d8",
   "metadata": {},
   "source": [
    "* **Is it possible to predict the success/failure of a project without using ML to help us?** <br>**Let's find out...**\n",
    "    \n",
    "> There are a lot of different sources of information that can provide us important details in order to understand the probabilities of a project being successful or not. For example, we could search on media, see what people are talking about regarding the project, see what needs it meets, at which stage it is and the effort that is being allocated. Also, we could rely on studies already done in this field which could also give us an advantage in terms of business opportunities. After getting informed about what type of ideas are getting a bigger hype and complementing it with other studies regarding the topic, we are more prepared to go deep into the dataset. \n",
    "<br>\n",
    "\n",
    ">  For the human eye the dataset is too big fo someone to be able to make any conclusions and, furthermore, it will be difficult to work with it. For example, in excel due to a large amount of information captured. If we managed to do so, which is already difficult and we would probably require to delete some part of the data in order to be able to analyze it without asking too much computational effort from our machines, we can create metrics that we found useful to determine success and check the correlations between the features.\n",
    "<br>\n",
    "\n",
    "> The process of determining which features will be more useful to predict the success is only done throughout our capability of analysis and with a high dependence on our statistical approaches which in the end might not be sufficient (prone to human error). \n",
    "<br>\n",
    "\n",
    "> Let's imagine we spend a month analysing the data, trying to see what features to keep and what features to drop and we finally manage to end up with a solution, a basic one, and without using all the data, and we consider it enough to proceed. In the next month, we will have a whole new file with different projects that are being taken into consideration, we will need to do everything again because we are not able to automate the process and all the analysis needs to be done again.  \n",
    "<br>\n",
    "\n",
    "> Therefore analysing this project without relying on the possibilities that applying a machine algorithm gives us will be an extremely time-consuming task, prone to errors, with a high probability of not being able to manage all the data and therefore end up with a very weak solution to our problem.\n",
    "<br>\n",
    "\n",
    "> By applying the correct machine learning algorithm, we can easily see what features are being considered important, we can easily see the error in our model with data not seen before and therefore improve the model. Additionally, we can without any difficulties add new data as we go and as the business world changes, adapting our model to it."
   ]
  },
  {
   "cell_type": "markdown",
   "id": "2197c221-fa97-4c4b-a49a-fcf1d4849bec",
   "metadata": {},
   "source": [
    "* **ML model implementation**\n",
    "\n",
    "> Before proceeding with a ML model, it is necessary to evaluate how such model could improve and/or automate the decision making. Therefore, we need to answer the later statement and assess whether the tasks can be automated. The process of determining whether a Kickstarter project will succeed requires a lot of repetitive tasks to go through each projects specifics such as required funding, acquired funds, topics, and then compare with projects that succeeded in the past. This process is very lengthy and prone to human error, therefore, it would definitely benefit from automation. The possession of hundreds of historical labeled data points could help automatically classify whether the project will succeed. In addition to that, the model, if fed with updated data, could constantly improve, and learn. \n",
    "   \n",
    "> Still, we need to ensure the quality and quantity of our data – it seems we have enough of labeled data points that seem to touch upon majority of possible Kickstarter project topics, which would be helpful to obtain our desired output. On top of that, there are various data that could act as proxy for our target variable and even though this data would be excluded from the model, it could still serve to better understand what determines whether the project is successful or not.  \n",
    "\n",
    "> Moving on, we still need to determine whether data exhibits pattern – for instance, whether projects with a specific number of backers are projects under a certain subject always succeed. If the data is patterned, it would vastly benefit in extracting meaningful outcome.  \n",
    "\n",
    "> The following point is to determine the appropriate metrics for our model. One of the mentioned metrics are the precision score - it is more important for us to determine which projects are classified correctly as successful out of all projects classified as successful, since a low precision score could mean a lot of funding distributed towards unsuccessful projects, meaning, unsuccessful investments. \n",
    "\n",
    "> After we have touched upon the points mentioned above, we would need to preproccess the data - different processing for numerical and categorical variables. Next step is to train the model and check the metrics that are relevant to classification (accuracy, precision and recall). \n",
    "\n",
    "> One of the last points would be to continuously update the model with new data. Clearly, the Kickstarter project dataset is in the industry where topics of interest, subjects and trends are constantly changing and a successful project in a film industry could not be successful after a year due to changes in trends and interests in the market. Additionally, due to economic environment changes, equivalent projects with smaller fundings could be successful while the inflation might cause in the respective funding being too small for the project to succeed after various years. Therefore, it is crucial to make sure that the model updates its parameters based on new data. "
   ]
  },
  {
   "cell_type": "code",
   "execution_count": 170,
   "id": "20b57434",
   "metadata": {},
   "outputs": [],
   "source": [
    "import warnings\n",
    "warnings.filterwarnings('ignore')\n",
    "import pandas as pd\n",
    "import numpy as np\n",
    "import datetime\n",
    "from sklearn.pipeline import Pipeline, make_pipeline\n",
    "from sklearn.compose import ColumnTransformer\n",
    "from sklearn.linear_model import LogisticRegression\n",
    "from sklearn.linear_model import LogisticRegressionCV\n",
    "from sklearn.ensemble import RandomForestClassifier\n",
    "from sklearn.pipeline import FeatureUnion\n",
    "from sklearn.preprocessing import StandardScaler, OneHotEncoder, FunctionTransformer\n",
    "from sklearn.compose import ColumnTransformer\n",
    "from sklearn.impute import SimpleImputer\n",
    "from sklearn.base import BaseEstimator, TransformerMixin\n",
    "from sklearn.model_selection import cross_val_score\n",
    "from sklearn.model_selection import cross_validate\n",
    "from sklearn.model_selection import cross_val_predict\n",
    "from sklearn.model_selection import RepeatedStratifiedKFold\n",
    "from sklearn.model_selection import GridSearchCV\n",
    "from statistics import mean\n",
    "from sklearn.metrics import accuracy_score, recall_score, precision_score, f1_score, make_scorer\n",
    "from sklearn.metrics import confusion_matrix\n",
    "from sklearn.compose import make_column_selector\n",
    "import json\n",
    "import ast\n",
    "import seaborn as sns\n",
    "from sklearn.model_selection import train_test_split\n",
    "from sklearn import metrics\n",
    "import matplotlib.pyplot as plt\n",
    "from sklearn.tree import DecisionTreeClassifier\n",
    "import time\n",
    "from sklearn.svm import SVC\n",
    "from sklearn.ensemble import AdaBoostClassifier \n",
    "from sklearn import metrics \n",
    "from sklearn.neural_network import MLPClassifier\n",
    "import xgboost as xgb\n",
    "from sklearn.model_selection import GridSearchCV\n",
    "from sklearn import tree"
   ]
  },
  {
   "cell_type": "code",
   "execution_count": 142,
   "id": "7944f7ad",
   "metadata": {},
   "outputs": [],
   "source": [
    "# Downloading the data\n",
    "from zipfile import ZipFile\n",
    "\n",
    "zip_file = ZipFile('Kickstarter_Dataset.zip')\n",
    "dfs = {text_file.filename: pd.read_csv(zip_file.open(text_file.filename))\n",
    "       for text_file in zip_file.infolist()\n",
    "       if text_file.filename.endswith('.csv')}"
   ]
  },
  {
   "cell_type": "markdown",
   "id": "8ca9707b-643d-4ca8-9df1-a13c466462e7",
   "metadata": {},
   "source": [
    "# **<center><span style=\"color:limegreen\">Data Preparation</span><center>**"
   ]
  },
  {
   "cell_type": "code",
   "execution_count": 143,
   "id": "13638117",
   "metadata": {},
   "outputs": [],
   "source": [
    "# Concatenating the files \n",
    "df_all = pd.concat(dfs.values(), ignore_index=True)"
   ]
  },
  {
   "cell_type": "code",
   "execution_count": 144,
   "id": "3b091a43-0050-4a47-b397-1e62679af44b",
   "metadata": {},
   "outputs": [
    {
     "name": "stdout",
     "output_type": "stream",
     "text": [
      "<class 'pandas.core.frame.DataFrame'>\n",
      "RangeIndex: 205696 entries, 0 to 205695\n",
      "Data columns (total 37 columns):\n",
      " #   Column                    Non-Null Count   Dtype  \n",
      "---  ------                    --------------   -----  \n",
      " 0   backers_count             205696 non-null  int64  \n",
      " 1   blurb                     205686 non-null  object \n",
      " 2   category                  205696 non-null  object \n",
      " 3   converted_pledged_amount  205696 non-null  int64  \n",
      " 4   country                   205696 non-null  object \n",
      " 5   created_at                205696 non-null  int64  \n",
      " 6   creator                   205696 non-null  object \n",
      " 7   currency                  205696 non-null  object \n",
      " 8   currency_symbol           205696 non-null  object \n",
      " 9   currency_trailing_code    205696 non-null  bool   \n",
      " 10  current_currency          205696 non-null  object \n",
      " 11  deadline                  205696 non-null  int64  \n",
      " 12  disable_communication     205696 non-null  bool   \n",
      " 13  friends                   276 non-null     object \n",
      " 14  fx_rate                   205696 non-null  float64\n",
      " 15  goal                      205696 non-null  float64\n",
      " 16  id                        205696 non-null  int64  \n",
      " 17  is_backing                276 non-null     object \n",
      " 18  is_starrable              205696 non-null  bool   \n",
      " 19  is_starred                276 non-null     object \n",
      " 20  launched_at               205696 non-null  int64  \n",
      " 21  location                  204404 non-null  object \n",
      " 22  name                      205695 non-null  object \n",
      " 23  permissions               276 non-null     object \n",
      " 24  photo                     205696 non-null  object \n",
      " 25  pledged                   205696 non-null  float64\n",
      " 26  profile                   205696 non-null  object \n",
      " 27  slug                      205696 non-null  object \n",
      " 28  source_url                205696 non-null  object \n",
      " 29  spotlight                 205696 non-null  bool   \n",
      " 30  staff_pick                205696 non-null  bool   \n",
      " 31  state                     205696 non-null  object \n",
      " 32  state_changed_at          205696 non-null  int64  \n",
      " 33  static_usd_rate           205696 non-null  float64\n",
      " 34  urls                      205696 non-null  object \n",
      " 35  usd_pledged               205696 non-null  float64\n",
      " 36  usd_type                  203968 non-null  object \n",
      "dtypes: bool(5), float64(5), int64(7), object(20)\n",
      "memory usage: 51.2+ MB\n"
     ]
    }
   ],
   "source": [
    "df_all.info()"
   ]
  },
  {
   "cell_type": "code",
   "execution_count": 145,
   "id": "1a2f9cb6-1036-4593-8c5a-1c6bd56ca3f1",
   "metadata": {},
   "outputs": [
    {
     "data": {
      "text/plain": [
       "backers_count                    0\n",
       "blurb                           10\n",
       "category                         0\n",
       "converted_pledged_amount         0\n",
       "country                          0\n",
       "created_at                       0\n",
       "creator                          0\n",
       "currency                         0\n",
       "currency_symbol                  0\n",
       "currency_trailing_code           0\n",
       "current_currency                 0\n",
       "deadline                         0\n",
       "disable_communication            0\n",
       "friends                     205420\n",
       "fx_rate                          0\n",
       "goal                             0\n",
       "id                               0\n",
       "is_backing                  205420\n",
       "is_starrable                     0\n",
       "is_starred                  205420\n",
       "launched_at                      0\n",
       "location                      1292\n",
       "name                             1\n",
       "permissions                 205420\n",
       "photo                            0\n",
       "pledged                          0\n",
       "profile                          0\n",
       "slug                             0\n",
       "source_url                       0\n",
       "spotlight                        0\n",
       "staff_pick                       0\n",
       "state                            0\n",
       "state_changed_at                 0\n",
       "static_usd_rate                  0\n",
       "urls                             0\n",
       "usd_pledged                      0\n",
       "usd_type                      1728\n",
       "dtype: int64"
      ]
     },
     "execution_count": 145,
     "metadata": {},
     "output_type": "execute_result"
    }
   ],
   "source": [
    "df_all.isnull().sum()"
   ]
  },
  {
   "cell_type": "code",
   "execution_count": 146,
   "id": "f64a3406-34f4-44a2-a2c2-97c2603a6a3b",
   "metadata": {},
   "outputs": [
    {
     "data": {
      "text/plain": [
       "(205696, 37)"
      ]
     },
     "execution_count": 146,
     "metadata": {},
     "output_type": "execute_result"
    }
   ],
   "source": [
    "df_all.shape"
   ]
  },
  {
   "cell_type": "code",
   "execution_count": 147,
   "id": "fc97a735-4305-405e-be48-8561d1d190b7",
   "metadata": {},
   "outputs": [],
   "source": [
    "# Dropping non-relevant columns and null ones\n",
    "df = df_all.drop(['currency_symbol', 'currency_trailing_code', \n",
    "                'disable_communication', 'friends', 'is_backing', 'is_starrable', 'is_starred', 'permissions',\n",
    " 'photo', 'profile',\n",
    " 'slug',\n",
    " 'source_url',\n",
    " 'spotlight',\n",
    " 'staff_pick', 'state_changed_at', 'urls'], axis = 1)"
   ]
  },
  {
   "cell_type": "code",
   "execution_count": 148,
   "id": "8020369e-c277-4a60-a94c-624e532d20ec",
   "metadata": {},
   "outputs": [
    {
     "data": {
      "text/plain": [
       "backers_count                  0\n",
       "blurb                         10\n",
       "category                       0\n",
       "converted_pledged_amount       0\n",
       "country                        0\n",
       "created_at                     0\n",
       "creator                        0\n",
       "currency                       0\n",
       "current_currency               0\n",
       "deadline                       0\n",
       "fx_rate                        0\n",
       "goal                           0\n",
       "id                             0\n",
       "launched_at                    0\n",
       "location                    1292\n",
       "name                           1\n",
       "pledged                        0\n",
       "state                          0\n",
       "static_usd_rate                0\n",
       "usd_pledged                    0\n",
       "usd_type                    1728\n",
       "dtype: int64"
      ]
     },
     "execution_count": 148,
     "metadata": {},
     "output_type": "execute_result"
    }
   ],
   "source": [
    "# Now we only have less than 2000 nulls per column\n",
    "df.isnull().sum()"
   ]
  },
  {
   "cell_type": "code",
   "execution_count": 149,
   "id": "0cf4fed3-b7cd-45e3-81df-842ea027e45f",
   "metadata": {},
   "outputs": [
    {
     "data": {
      "text/plain": [
       "successful    114158\n",
       "failed         74951\n",
       "canceled        8532\n",
       "live            7438\n",
       "suspended        617\n",
       "Name: state, dtype: int64"
      ]
     },
     "execution_count": 149,
     "metadata": {},
     "output_type": "execute_result"
    }
   ],
   "source": [
    "# Check the values in the target variable\n",
    "df[\"state\"].value_counts()"
   ]
  },
  {
   "cell_type": "code",
   "execution_count": 150,
   "id": "aaf77ee7-7f0f-46de-ae5a-d154468a1037",
   "metadata": {},
   "outputs": [],
   "source": [
    "# We drop live, cancelled and undefined states and keep only failed and successful\n",
    "# We care about the succesful and not succesful projects\n",
    "df = df.loc[(df['state'] == 'failed') | (df['state'] == 'successful')]"
   ]
  },
  {
   "cell_type": "code",
   "execution_count": 151,
   "id": "e85bc1c0-8d3d-4f9b-844e-ddb7224e9e75",
   "metadata": {},
   "outputs": [],
   "source": [
    "# Changed the state values for 1 in case of sucessful and 0 in case of failed\n",
    "df['state'].replace({'successful':1, 'failed':0}, inplace = True)"
   ]
  },
  {
   "cell_type": "code",
   "execution_count": 152,
   "id": "394de3c9-87a3-4d94-89bf-4cb406ce5188",
   "metadata": {},
   "outputs": [],
   "source": [
    "# Converting to DateTime objects, creating datetime objects with day-month-year\n",
    "df['created_at_fixed'] = df['created_at'].apply(lambda t: datetime.datetime.fromtimestamp(t / 1e0).strftime('%Y-%m-%d'))\n",
    "df['deadline_fixed'] = df['deadline'].apply(lambda t: datetime.datetime.fromtimestamp(t / 1e0).strftime('%Y-%m-%d'))\n",
    "df['launched_at_fixed'] = df['launched_at'].apply(lambda t: datetime.datetime.fromtimestamp(t / 1e0).strftime('%Y-%m-%d'))"
   ]
  },
  {
   "cell_type": "code",
   "execution_count": 153,
   "id": "ccd02069-cc5c-4d9f-9819-c0412c401e6c",
   "metadata": {},
   "outputs": [],
   "source": [
    "# Drop unfixed columns\n",
    "df = df.drop(['created_at', 'deadline', \"launched_at\"], axis = 1)"
   ]
  },
  {
   "cell_type": "code",
   "execution_count": 154,
   "id": "1d6744d5-e77a-49a9-8a0b-3a2ee92743b7",
   "metadata": {},
   "outputs": [],
   "source": [
    "# Change columns to datetime\n",
    "df['created_at_fixed'] = pd.to_datetime(df['created_at_fixed'])\n",
    "df['deadline_fixed'] = pd.to_datetime(df['deadline_fixed'])\n",
    "df['launched_at_fixed'] = pd.to_datetime(df['launched_at_fixed'])"
   ]
  },
  {
   "cell_type": "code",
   "execution_count": 155,
   "id": "b41a0809-14cd-47e6-b646-0e66b7eafa4c",
   "metadata": {},
   "outputs": [],
   "source": [
    "# We are creating two new variables, \n",
    "    # one calculating the difference of days between creating and launching a project\n",
    "    # the other one is the difference between launching a project and its deadline\n",
    "# This might be a relevant variable, as a hypothesis, for predicting project success\n",
    "df['delta_created_launch'] = df['launched_at_fixed'] - df['created_at_fixed']\n",
    "df['delta_launch_deadline'] = df['deadline_fixed'] - df['launched_at_fixed']"
   ]
  },
  {
   "cell_type": "code",
   "execution_count": 156,
   "id": "84ea4776-73e9-4052-a2d1-4394025e04ed",
   "metadata": {},
   "outputs": [],
   "source": [
    "# Extracting the days of difference as an integer (keeping only the numbers)\n",
    "df['delta_launch_deadline'] = pd.to_numeric(df['delta_launch_deadline'].dt.days, downcast='integer')\n",
    "df['delta_created_launch'] = pd.to_numeric(df['delta_created_launch'].dt.days, downcast='integer')"
   ]
  },
  {
   "cell_type": "code",
   "execution_count": 157,
   "id": "9448c6ca-e5c4-4be2-a33c-e0179edb8618",
   "metadata": {},
   "outputs": [],
   "source": [
    "# Create a new column with the count of how many words the blurb (description of the project) had \n",
    "# HYPOTHESIS: might be relevant for predicting project success\n",
    "df['projectname_len'] = df['blurb'].str.split().str.len()"
   ]
  },
  {
   "cell_type": "code",
   "execution_count": 158,
   "id": "2973a480-6b03-4b7a-9070-95e9c30c5eae",
   "metadata": {},
   "outputs": [],
   "source": [
    "# Transform the values of category from string to dictionary\n",
    "df[\"category\"] = df[\"category\"].apply(lambda x : ast.literal_eval(x))\n",
    "\n",
    "# Divide the name part of the column category into a new column \n",
    "df[\"sub_category\"] = df[\"category\"].apply(lambda x : x[\"name\"])\n",
    "\n",
    "# Divide the slug part of the column category into a new column \n",
    "df[\"main_category\"] = df[\"category\"].apply(lambda x: x[\"slug\"])\n",
    "\n",
    "# Drop the columns of category and blurb since we already split the category into sub_category and main_category\n",
    "df = df.drop(['category', 'blurb'], axis = 1)"
   ]
  },
  {
   "cell_type": "code",
   "execution_count": 159,
   "id": "1ea56239-590d-4bfa-85cd-a177de2ac16b",
   "metadata": {},
   "outputs": [],
   "source": [
    "# Dropping null values throughout the dataframe\n",
    "df.dropna(inplace=True)"
   ]
  },
  {
   "cell_type": "code",
   "execution_count": 160,
   "id": "a0337c40-f8b1-4278-b43d-7511ac9f7423",
   "metadata": {},
   "outputs": [],
   "source": [
    "# Turning string into columns, extracting only the location of the project\n",
    "df[\"location\"] = df[\"location\"].apply(lambda x: json.loads(x))\n",
    "df[\"city\"] = df[\"location\"].apply(lambda x : x[\"name\"])\n",
    "\n",
    "# Dropping the string\n",
    "df = df.drop('location', axis = 1)"
   ]
  },
  {
   "cell_type": "code",
   "execution_count": 161,
   "id": "ec601e1a-c172-4ea3-b78c-c86277df74cb",
   "metadata": {},
   "outputs": [],
   "source": [
    "# Dropping the string creator, couldnt extract it\n",
    "df = df.drop('creator', axis = 1)"
   ]
  },
  {
   "cell_type": "code",
   "execution_count": 162,
   "id": "c0ab8525-b0ff-41d0-a9f4-24bf77e96e19",
   "metadata": {},
   "outputs": [
    {
     "data": {
      "text/plain": [
       "state                       1.000000\n",
       "backers_count               0.106930\n",
       "usd_pledged                 0.099326\n",
       "converted_pledged_amount    0.099300\n",
       "pledged                     0.081036\n",
       "fx_rate                     0.019554\n",
       "delta_created_launch        0.013207\n",
       "projectname_len            -0.000763\n",
       "id                         -0.002915\n",
       "static_usd_rate            -0.003659\n",
       "goal                       -0.035114\n",
       "delta_launch_deadline      -0.077937\n",
       "Name: state, dtype: float64"
      ]
     },
     "execution_count": 162,
     "metadata": {},
     "output_type": "execute_result"
    }
   ],
   "source": [
    "corr_matrix = df.corr()\n",
    "corr_matrix[\"state\"].sort_values(ascending=False)"
   ]
  },
  {
   "cell_type": "code",
   "execution_count": 163,
   "id": "f6e9df34-ba52-402d-bd7a-126fe42ccdb2",
   "metadata": {},
   "outputs": [],
   "source": [
    "#Dropping the varibales backers_count, converted_pledged_amount, pledged since they contain future information about the project and can be counted as a proxy of the y variable\n",
    "#It is information that is only obtained after a project meets a deadline and it is decided whether it is succesful/not succesful\n",
    "df = df.drop(['backers_count', 'converted_pledged_amount', \"pledged\"], axis = 1)\n",
    "df = df.drop(\"current_currency\", axis = 1)"
   ]
  },
  {
   "cell_type": "code",
   "execution_count": 165,
   "id": "db1e5721",
   "metadata": {},
   "outputs": [
    {
     "data": {
      "text/html": [
       "<div>\n",
       "<style scoped>\n",
       "    .dataframe tbody tr th:only-of-type {\n",
       "        vertical-align: middle;\n",
       "    }\n",
       "\n",
       "    .dataframe tbody tr th {\n",
       "        vertical-align: top;\n",
       "    }\n",
       "\n",
       "    .dataframe thead th {\n",
       "        text-align: right;\n",
       "    }\n",
       "</style>\n",
       "<table border=\"1\" class=\"dataframe\">\n",
       "  <thead>\n",
       "    <tr style=\"text-align: right;\">\n",
       "      <th></th>\n",
       "      <th>country</th>\n",
       "      <th>currency</th>\n",
       "      <th>fx_rate</th>\n",
       "      <th>goal</th>\n",
       "      <th>id</th>\n",
       "      <th>name</th>\n",
       "      <th>state</th>\n",
       "      <th>static_usd_rate</th>\n",
       "      <th>usd_pledged</th>\n",
       "      <th>usd_type</th>\n",
       "      <th>created_at_fixed</th>\n",
       "      <th>deadline_fixed</th>\n",
       "      <th>launched_at_fixed</th>\n",
       "      <th>delta_created_launch</th>\n",
       "      <th>delta_launch_deadline</th>\n",
       "      <th>projectname_len</th>\n",
       "      <th>sub_category</th>\n",
       "      <th>city</th>\n",
       "      <th>Category</th>\n",
       "    </tr>\n",
       "  </thead>\n",
       "  <tbody>\n",
       "    <tr>\n",
       "      <th>0</th>\n",
       "      <td>US</td>\n",
       "      <td>USD</td>\n",
       "      <td>1.000000</td>\n",
       "      <td>3500.0</td>\n",
       "      <td>895922629</td>\n",
       "      <td>Jozii-College Jobs Made Easy</td>\n",
       "      <td>0</td>\n",
       "      <td>1.000000</td>\n",
       "      <td>50.000000</td>\n",
       "      <td>international</td>\n",
       "      <td>2014-10-16</td>\n",
       "      <td>2014-11-28</td>\n",
       "      <td>2014-10-28</td>\n",
       "      <td>12</td>\n",
       "      <td>31</td>\n",
       "      <td>16.0</td>\n",
       "      <td>Web</td>\n",
       "      <td>Manhattan</td>\n",
       "      <td>technology</td>\n",
       "    </tr>\n",
       "    <tr>\n",
       "      <th>1</th>\n",
       "      <td>US</td>\n",
       "      <td>USD</td>\n",
       "      <td>1.000000</td>\n",
       "      <td>225.0</td>\n",
       "      <td>1190376005</td>\n",
       "      <td>DROPSY: A different take on the old school adv...</td>\n",
       "      <td>1</td>\n",
       "      <td>1.000000</td>\n",
       "      <td>1613.470000</td>\n",
       "      <td>international</td>\n",
       "      <td>2011-09-28</td>\n",
       "      <td>2011-11-02</td>\n",
       "      <td>2011-10-17</td>\n",
       "      <td>19</td>\n",
       "      <td>16</td>\n",
       "      <td>22.0</td>\n",
       "      <td>Video Games</td>\n",
       "      <td>Homeland</td>\n",
       "      <td>games</td>\n",
       "    </tr>\n",
       "    <tr>\n",
       "      <th>2</th>\n",
       "      <td>US</td>\n",
       "      <td>USD</td>\n",
       "      <td>1.000000</td>\n",
       "      <td>6500.0</td>\n",
       "      <td>672906219</td>\n",
       "      <td>Letra Chueca / Crooked Letter: a printshop &amp; b...</td>\n",
       "      <td>1</td>\n",
       "      <td>1.000000</td>\n",
       "      <td>6633.000000</td>\n",
       "      <td>international</td>\n",
       "      <td>2014-06-21</td>\n",
       "      <td>2014-09-12</td>\n",
       "      <td>2014-08-13</td>\n",
       "      <td>53</td>\n",
       "      <td>30</td>\n",
       "      <td>25.0</td>\n",
       "      <td>Letterpress</td>\n",
       "      <td>Portland</td>\n",
       "      <td>publishing</td>\n",
       "    </tr>\n",
       "    <tr>\n",
       "      <th>3</th>\n",
       "      <td>GB</td>\n",
       "      <td>GBP</td>\n",
       "      <td>1.317483</td>\n",
       "      <td>15000.0</td>\n",
       "      <td>2121203785</td>\n",
       "      <td>High End Premium Handmade Sneakers</td>\n",
       "      <td>0</td>\n",
       "      <td>1.407899</td>\n",
       "      <td>1.407899</td>\n",
       "      <td>international</td>\n",
       "      <td>2016-03-04</td>\n",
       "      <td>2016-05-03</td>\n",
       "      <td>2016-03-04</td>\n",
       "      <td>0</td>\n",
       "      <td>60</td>\n",
       "      <td>10.0</td>\n",
       "      <td>Footwear</td>\n",
       "      <td>Manchester</td>\n",
       "      <td>fashion</td>\n",
       "    </tr>\n",
       "    <tr>\n",
       "      <th>4</th>\n",
       "      <td>CA</td>\n",
       "      <td>CAD</td>\n",
       "      <td>0.771892</td>\n",
       "      <td>15000.0</td>\n",
       "      <td>434454655</td>\n",
       "      <td>The Domenico Sneakerboot by Luigi Sardo Shoes</td>\n",
       "      <td>1</td>\n",
       "      <td>0.782122</td>\n",
       "      <td>19817.405716</td>\n",
       "      <td>international</td>\n",
       "      <td>2015-02-12</td>\n",
       "      <td>2015-04-22</td>\n",
       "      <td>2015-03-18</td>\n",
       "      <td>34</td>\n",
       "      <td>35</td>\n",
       "      <td>21.0</td>\n",
       "      <td>Footwear</td>\n",
       "      <td>Toronto</td>\n",
       "      <td>fashion</td>\n",
       "    </tr>\n",
       "  </tbody>\n",
       "</table>\n",
       "</div>"
      ],
      "text/plain": [
       "  country currency   fx_rate     goal          id  \\\n",
       "0      US      USD  1.000000   3500.0   895922629   \n",
       "1      US      USD  1.000000    225.0  1190376005   \n",
       "2      US      USD  1.000000   6500.0   672906219   \n",
       "3      GB      GBP  1.317483  15000.0  2121203785   \n",
       "4      CA      CAD  0.771892  15000.0   434454655   \n",
       "\n",
       "                                                name  state  static_usd_rate  \\\n",
       "0                       Jozii-College Jobs Made Easy      0         1.000000   \n",
       "1  DROPSY: A different take on the old school adv...      1         1.000000   \n",
       "2  Letra Chueca / Crooked Letter: a printshop & b...      1         1.000000   \n",
       "3                 High End Premium Handmade Sneakers      0         1.407899   \n",
       "4      The Domenico Sneakerboot by Luigi Sardo Shoes      1         0.782122   \n",
       "\n",
       "    usd_pledged       usd_type created_at_fixed deadline_fixed  \\\n",
       "0     50.000000  international       2014-10-16     2014-11-28   \n",
       "1   1613.470000  international       2011-09-28     2011-11-02   \n",
       "2   6633.000000  international       2014-06-21     2014-09-12   \n",
       "3      1.407899  international       2016-03-04     2016-05-03   \n",
       "4  19817.405716  international       2015-02-12     2015-04-22   \n",
       "\n",
       "  launched_at_fixed  delta_created_launch  delta_launch_deadline  \\\n",
       "0        2014-10-28                    12                     31   \n",
       "1        2011-10-17                    19                     16   \n",
       "2        2014-08-13                    53                     30   \n",
       "3        2016-03-04                     0                     60   \n",
       "4        2015-03-18                    34                     35   \n",
       "\n",
       "   projectname_len sub_category        city    Category  \n",
       "0             16.0          Web   Manhattan  technology  \n",
       "1             22.0  Video Games    Homeland       games  \n",
       "2             25.0  Letterpress    Portland  publishing  \n",
       "3             10.0     Footwear  Manchester     fashion  \n",
       "4             21.0     Footwear     Toronto     fashion  "
      ]
     },
     "execution_count": 165,
     "metadata": {},
     "output_type": "execute_result"
    }
   ],
   "source": [
    "df.head()"
   ]
  },
  {
   "cell_type": "code",
   "execution_count": 164,
   "id": "2649a614-58f8-4a8c-aeb5-83848ab31c30",
   "metadata": {},
   "outputs": [],
   "source": [
    "df['Category'] = df['main_category'].str.split('/').str[0]\n",
    "\n",
    "# Dropping the main_category, aiming to keep only the main category out of the whole string, so we don't have subcategory twice\n",
    "df = df.drop('main_category', axis = 1)"
   ]
  },
  {
   "cell_type": "markdown",
   "id": "6551ef97-4973-40fc-900c-ddb27066f871",
   "metadata": {},
   "source": [
    "# **<center><span style=\"color:limegreen\">Exploratory Data Analysis</span><center>**"
   ]
  },
  {
   "cell_type": "code",
   "execution_count": 172,
   "id": "fddaff86-0e1a-4ca5-bea4-9634d1054492",
   "metadata": {},
   "outputs": [
    {
     "data": {
      "text/plain": [
       "[Text(0.5, 0, 'Amount Pledged in Millions'),\n",
       " Text(0, 0.5, 'Goal in Millions'),\n",
       " Text(0.5, 1.0, 'Goal vs. Pledged')]"
      ]
     },
     "execution_count": 172,
     "metadata": {},
     "output_type": "execute_result"
    },
    {
     "data": {
      "image/png": "[encoded data removed]",
      "text/plain": [
       "<Figure size 864x576 with 1 Axes>"
      ]
     },
     "metadata": {
      "needs_background": "light"
     },
     "output_type": "display_data"
    }
   ],
   "source": [
    "plt.figure(figsize=(12, 8))\n",
    "colors = ('darkred','darkgreen')\n",
    "\n",
    "#Zooming in the plot, so we can see more clearly the data points of the scatter plot and better visualize the overlaps \n",
    "ax = sns.scatterplot(df.usd_pledged/1e6, df.goal/1e6, hue=df.state, palette=colors)\n",
    "\n",
    "# Add blue line to better visualize the border between failed and successful projects\n",
    "sns.lineplot(x=(0,20), y=(0,20), color='darkblue')\n",
    "\n",
    "#set the axes from -1 to their maximum (-1 looks better than 0 actually)\n",
    "ax.set(ylim=(-1,110), xlim=(-1,15))\n",
    "\n",
    "ax.set(xlabel='Amount Pledged in Millions', ylabel='Goal in Millions', title= 'Goal vs. Pledged')"
   ]
  },
  {
   "cell_type": "markdown",
   "id": "15f02bc0-b7cb-4720-b281-0c43634551a6",
   "metadata": {},
   "source": [
    "#### Comment on the graph:\n",
    "* From the plot we can understand that there is a pattern between the variables goal and pledged. Specifically, we can see that the projects that had a higher goal, didnt manage to collect the amount of funds needed to be succesful, whereas, projects with lower requiremnts, tend to gather more funds and be more succesful"
   ]
  },
  {
   "cell_type": "code",
   "execution_count": 173,
   "id": "65f9e904-2459-4310-a424-1a52664293bf",
   "metadata": {},
   "outputs": [
    {
     "data": {
      "text/plain": [
       "[Text(0.5, 0, 'Amount Pledged in Millions'),\n",
       " Text(0, 0.5, 'Character Length of Project Name'),\n",
       " Text(0.5, 1.0, 'The Importance of Choosing the Right Name')]"
      ]
     },
     "execution_count": 173,
     "metadata": {},
     "output_type": "execute_result"
    },
    {
     "data": {
      "image/png": "[encoded data removed]",
      "text/plain": [
       "<Figure size 864x576 with 1 Axes>"
      ]
     },
     "metadata": {
      "needs_background": "light"
     },
     "output_type": "display_data"
    }
   ],
   "source": [
    "plt.figure(figsize=(12, 8))\n",
    "plt.rcParams['font.size'] = 16\n",
    "\n",
    "# Create scatterplot for pledged amount and name length\n",
    "ax = sns.scatterplot(df.usd_pledged/1e6, df.projectname_len, hue=df.state, palette=colors)\n",
    "\n",
    "#set the axes from -1 to their maximum (-1 looks better than 0 actually)\n",
    "ax.set(ylim=(-1,36), xlim=(-1,15))\n",
    "\n",
    "ax.set(xlabel='Amount Pledged in Millions', ylabel='Character Length of Project Name', title= 'The Importance of Choosing the Right Name')"
   ]
  },
  {
   "cell_type": "markdown",
   "id": "309896c5-3b1c-4cf6-8aff-ea4f47df6343",
   "metadata": {},
   "source": [
    "#### Comment on the graph:\n",
    "* With this graph, we can clearly identify that very short or very project names are anot able to gather very high amounts of pledged money, whereas medium-length names, tend to be more succesful. This can be because, a very long project name might not be attractive, or/and a very short name might not provide enough information for the investor."
   ]
  },
  {
   "cell_type": "code",
   "execution_count": 174,
   "id": "63bec29b-096b-47df-a55c-b799bc692011",
   "metadata": {},
   "outputs": [
    {
     "data": {
      "text/html": [
       "<div>\n",
       "<style scoped>\n",
       "    .dataframe tbody tr th:only-of-type {\n",
       "        vertical-align: middle;\n",
       "    }\n",
       "\n",
       "    .dataframe tbody tr th {\n",
       "        vertical-align: top;\n",
       "    }\n",
       "\n",
       "    .dataframe thead th {\n",
       "        text-align: right;\n",
       "    }\n",
       "</style>\n",
       "<table border=\"1\" class=\"dataframe\">\n",
       "  <thead>\n",
       "    <tr style=\"text-align: right;\">\n",
       "      <th></th>\n",
       "      <th>usd_pledged</th>\n",
       "      <th>goal</th>\n",
       "    </tr>\n",
       "    <tr>\n",
       "      <th>created_at_fixed</th>\n",
       "      <th></th>\n",
       "      <th></th>\n",
       "    </tr>\n",
       "  </thead>\n",
       "  <tbody>\n",
       "    <tr>\n",
       "      <th>2009</th>\n",
       "      <td>4107.266455</td>\n",
       "      <td>4576.429771</td>\n",
       "    </tr>\n",
       "    <tr>\n",
       "      <th>2010</th>\n",
       "      <td>5364.842630</td>\n",
       "      <td>7861.333903</td>\n",
       "    </tr>\n",
       "    <tr>\n",
       "      <th>2011</th>\n",
       "      <td>7842.584641</td>\n",
       "      <td>6883.583802</td>\n",
       "    </tr>\n",
       "    <tr>\n",
       "      <th>2012</th>\n",
       "      <td>19899.334711</td>\n",
       "      <td>12734.182032</td>\n",
       "    </tr>\n",
       "    <tr>\n",
       "      <th>2013</th>\n",
       "      <td>22436.144124</td>\n",
       "      <td>21757.516674</td>\n",
       "    </tr>\n",
       "    <tr>\n",
       "      <th>2014</th>\n",
       "      <td>10865.935484</td>\n",
       "      <td>47818.505639</td>\n",
       "    </tr>\n",
       "    <tr>\n",
       "      <th>2015</th>\n",
       "      <td>9030.392379</td>\n",
       "      <td>69036.511496</td>\n",
       "    </tr>\n",
       "    <tr>\n",
       "      <th>2016</th>\n",
       "      <td>11859.315587</td>\n",
       "      <td>54973.378802</td>\n",
       "    </tr>\n",
       "    <tr>\n",
       "      <th>2017</th>\n",
       "      <td>12206.145048</td>\n",
       "      <td>67400.303517</td>\n",
       "    </tr>\n",
       "    <tr>\n",
       "      <th>2018</th>\n",
       "      <td>10418.162781</td>\n",
       "      <td>33582.992898</td>\n",
       "    </tr>\n",
       "  </tbody>\n",
       "</table>\n",
       "</div>"
      ],
      "text/plain": [
       "                   usd_pledged          goal\n",
       "created_at_fixed                            \n",
       "2009               4107.266455   4576.429771\n",
       "2010               5364.842630   7861.333903\n",
       "2011               7842.584641   6883.583802\n",
       "2012              19899.334711  12734.182032\n",
       "2013              22436.144124  21757.516674\n",
       "2014              10865.935484  47818.505639\n",
       "2015               9030.392379  69036.511496\n",
       "2016              11859.315587  54973.378802\n",
       "2017              12206.145048  67400.303517\n",
       "2018              10418.162781  33582.992898"
      ]
     },
     "execution_count": 174,
     "metadata": {},
     "output_type": "execute_result"
    }
   ],
   "source": [
    "# Checking on average, how many funds were gathered and what was the goal per year\n",
    "df_groupby_year_avg = df.groupby(df['created_at_fixed'].dt.year)['usd_pledged', 'goal'].mean()\n",
    "df_groupby_year_avg"
   ]
  },
  {
   "cell_type": "code",
   "execution_count": 175,
   "id": "56e07f08-484b-4d87-9439-f6f02606f27c",
   "metadata": {},
   "outputs": [
    {
     "name": "stdout",
     "output_type": "stream",
     "text": [
      "The year with the highest project goal on average is: 2015 and the year with the highest amount pledged on average is: 2013\n",
      "The year with the lowest project goal on average is: 2009 and the year with the lowest amount pledged on average is: 2009\n"
     ]
    }
   ],
   "source": [
    "print(\"The year with the highest project goal on average is:\", df_groupby_year_avg[\"goal\"].idxmax(), \"and the year with the highest amount pledged on average is:\", df_groupby_year_avg[\"usd_pledged\"].idxmax())\n",
    "print(\"The year with the lowest project goal on average is:\", df_groupby_year_avg[\"goal\"].idxmin(), \"and the year with the lowest amount pledged on average is:\", df_groupby_year_avg[\"usd_pledged\"].idxmin())\n"
   ]
  },
  {
   "cell_type": "code",
   "execution_count": 176,
   "id": "9581e206-00d2-4b66-9014-980ebe58766b",
   "metadata": {},
   "outputs": [
    {
     "data": {
      "text/html": [
       "<div>\n",
       "<style scoped>\n",
       "    .dataframe tbody tr th:only-of-type {\n",
       "        vertical-align: middle;\n",
       "    }\n",
       "\n",
       "    .dataframe tbody tr th {\n",
       "        vertical-align: top;\n",
       "    }\n",
       "\n",
       "    .dataframe thead th {\n",
       "        text-align: right;\n",
       "    }\n",
       "</style>\n",
       "<table border=\"1\" class=\"dataframe\">\n",
       "  <thead>\n",
       "    <tr style=\"text-align: right;\">\n",
       "      <th></th>\n",
       "      <th>usd_pledged</th>\n",
       "      <th>goal</th>\n",
       "    </tr>\n",
       "    <tr>\n",
       "      <th>created_at_fixed</th>\n",
       "      <th></th>\n",
       "      <th></th>\n",
       "    </tr>\n",
       "  </thead>\n",
       "  <tbody>\n",
       "    <tr>\n",
       "      <th>1</th>\n",
       "      <td>10757.264221</td>\n",
       "      <td>37699.347511</td>\n",
       "    </tr>\n",
       "    <tr>\n",
       "      <th>2</th>\n",
       "      <td>13679.445019</td>\n",
       "      <td>41435.197026</td>\n",
       "    </tr>\n",
       "    <tr>\n",
       "      <th>3</th>\n",
       "      <td>14612.465719</td>\n",
       "      <td>32533.035999</td>\n",
       "    </tr>\n",
       "    <tr>\n",
       "      <th>4</th>\n",
       "      <td>13588.792277</td>\n",
       "      <td>38093.019701</td>\n",
       "    </tr>\n",
       "    <tr>\n",
       "      <th>5</th>\n",
       "      <td>14304.594252</td>\n",
       "      <td>43135.796963</td>\n",
       "    </tr>\n",
       "    <tr>\n",
       "      <th>6</th>\n",
       "      <td>12523.589355</td>\n",
       "      <td>30706.594239</td>\n",
       "    </tr>\n",
       "    <tr>\n",
       "      <th>7</th>\n",
       "      <td>10432.375550</td>\n",
       "      <td>45673.680056</td>\n",
       "    </tr>\n",
       "    <tr>\n",
       "      <th>8</th>\n",
       "      <td>13111.146920</td>\n",
       "      <td>67999.148439</td>\n",
       "    </tr>\n",
       "    <tr>\n",
       "      <th>9</th>\n",
       "      <td>11687.826695</td>\n",
       "      <td>38601.477379</td>\n",
       "    </tr>\n",
       "    <tr>\n",
       "      <th>10</th>\n",
       "      <td>12353.314755</td>\n",
       "      <td>31886.476347</td>\n",
       "    </tr>\n",
       "    <tr>\n",
       "      <th>11</th>\n",
       "      <td>11990.758833</td>\n",
       "      <td>44763.061454</td>\n",
       "    </tr>\n",
       "    <tr>\n",
       "      <th>12</th>\n",
       "      <td>10826.322669</td>\n",
       "      <td>41023.538553</td>\n",
       "    </tr>\n",
       "  </tbody>\n",
       "</table>\n",
       "</div>"
      ],
      "text/plain": [
       "                   usd_pledged          goal\n",
       "created_at_fixed                            \n",
       "1                 10757.264221  37699.347511\n",
       "2                 13679.445019  41435.197026\n",
       "3                 14612.465719  32533.035999\n",
       "4                 13588.792277  38093.019701\n",
       "5                 14304.594252  43135.796963\n",
       "6                 12523.589355  30706.594239\n",
       "7                 10432.375550  45673.680056\n",
       "8                 13111.146920  67999.148439\n",
       "9                 11687.826695  38601.477379\n",
       "10                12353.314755  31886.476347\n",
       "11                11990.758833  44763.061454\n",
       "12                10826.322669  41023.538553"
      ]
     },
     "execution_count": 176,
     "metadata": {},
     "output_type": "execute_result"
    }
   ],
   "source": [
    "# Checking on average, how many funds were gathered and what was the goal per month\n",
    "df_groupby_month_avg = df.groupby(df['created_at_fixed'].dt.month)['usd_pledged', 'goal'].mean()\n",
    "df_groupby_month_avg"
   ]
  },
  {
   "cell_type": "code",
   "execution_count": 177,
   "id": "3be9c373-346d-454c-9fb1-f9c83d09f774",
   "metadata": {},
   "outputs": [
    {
     "name": "stdout",
     "output_type": "stream",
     "text": [
      "The month with the highest project goal on average is: 8 and the month with the highest amount pledged on average is: 3\n",
      "The month with the lowest project goal on average is: 6 and the month with the lowest amount pledged on average is: 7\n"
     ]
    }
   ],
   "source": [
    "print(\"The month with the highest project goal on average is:\", df_groupby_month_avg[\"goal\"].idxmax(), \"and the month with the highest amount pledged on average is:\", df_groupby_month_avg[\"usd_pledged\"].idxmax())\n",
    "print(\"The month with the lowest project goal on average is:\", df_groupby_month_avg[\"goal\"].idxmin(), \"and the month with the lowest amount pledged on average is:\", df_groupby_month_avg[\"usd_pledged\"].idxmin())"
   ]
  },
  {
   "cell_type": "code",
   "execution_count": 178,
   "id": "9c6d9430-7a1e-4820-a0cb-bb27249b5994",
   "metadata": {},
   "outputs": [
    {
     "name": "stdout",
     "output_type": "stream",
     "text": [
      "The different currencies and number of projects per currency:\n",
      " USD    148256\n",
      "GBP     15904\n",
      "EUR      7503\n",
      "CAD      6736\n",
      "AUD      3491\n",
      "MXN       993\n",
      "SEK       889\n",
      "NZD       656\n",
      "DKK       584\n",
      "NOK       338\n",
      "CHF       322\n",
      "HKD       310\n",
      "SGD       259\n",
      "JPY        96\n",
      "Name: currency, dtype: int64\n"
     ]
    }
   ],
   "source": [
    "print(\"The different currencies and number of projects per currency:\\n\",df.currency.value_counts())"
   ]
  },
  {
   "cell_type": "code",
   "execution_count": 179,
   "id": "b832bf61-b381-451f-9945-2366d87f49d3",
   "metadata": {},
   "outputs": [
    {
     "name": "stdout",
     "output_type": "stream",
     "text": [
      "Number of main categories:  15\n"
     ]
    }
   ],
   "source": [
    "print('Number of main categories: ',df['Category'].nunique())"
   ]
  },
  {
   "cell_type": "code",
   "execution_count": 180,
   "id": "5710558e-7d17-4861-b031-dcc2fb0c047f",
   "metadata": {},
   "outputs": [
    {
     "name": "stdout",
     "output_type": "stream",
     "text": [
      "The different categories and number of projects per main category:\n",
      " music           25305\n",
      "film & video    24758\n",
      "technology      19162\n",
      "art             18823\n",
      "publishing      18176\n",
      "food            14658\n",
      "games           11798\n",
      "fashion          9531\n",
      "comics           7909\n",
      "design           7330\n",
      "photography      7162\n",
      "crafts           6365\n",
      "theater          6323\n",
      "journalism       5163\n",
      "dance            3874\n",
      "Name: Category, dtype: int64\n"
     ]
    }
   ],
   "source": [
    "print(\"The different categories and number of projects per main category:\\n\",df.Category.value_counts())"
   ]
  },
  {
   "cell_type": "code",
   "execution_count": 181,
   "id": "070b0701-a9e5-4ab7-9e8a-3728556e4552",
   "metadata": {},
   "outputs": [
    {
     "name": "stdout",
     "output_type": "stream",
     "text": [
      "Number of Categories in the \"sub_category\" column:  159\n"
     ]
    }
   ],
   "source": [
    "print('Number of Categories in the \"sub_category\" column: ',df['sub_category'].nunique())"
   ]
  },
  {
   "cell_type": "code",
   "execution_count": 182,
   "id": "ac33b074-bd8d-400e-819b-1394e3c71f68",
   "metadata": {},
   "outputs": [
    {
     "name": "stdout",
     "output_type": "stream",
     "text": [
      "Top 10 sub categories of projects:\n",
      " Web               4067\n",
      "Product Design    3311\n",
      "Shorts            3022\n",
      "Hardware          2976\n",
      "Documentary       2752\n",
      "Indie Rock        2748\n",
      "Fiction           2745\n",
      "Nonfiction        2707\n",
      "Public Art        2684\n",
      "Tabletop Games    2632\n",
      "Name: sub_category, dtype: int64\n"
     ]
    }
   ],
   "source": [
    "print(\"Top 10 sub categories of projects:\\n\", df['sub_category'].value_counts().head(10))"
   ]
  },
  {
   "cell_type": "code",
   "execution_count": 183,
   "id": "5ef8b4e7",
   "metadata": {},
   "outputs": [
    {
     "name": "stdout",
     "output_type": "stream",
     "text": [
      "Number of Countries that have produced a Kickstarter campaing:  22\n",
      "Number of Cities that have produced a Kickstarter Campaign:  12107\n"
     ]
    }
   ],
   "source": [
    "print('Number of Countries that have produced a Kickstarter campaing: ', df.country.nunique())\n",
    "print('Number of Cities that have produced a Kickstarter Campaign: ', df.city.nunique())"
   ]
  },
  {
   "cell_type": "code",
   "execution_count": 184,
   "id": "d757574e-496f-4ba1-85ac-50d33ddceb9f",
   "metadata": {},
   "outputs": [
    {
     "data": {
      "image/png": "[encoded data removed]",
      "text/plain": [
       "<Figure size 1440x1080 with 12 Axes>"
      ]
     },
     "metadata": {
      "needs_background": "light"
     },
     "output_type": "display_data"
    }
   ],
   "source": [
    "%matplotlib inline\n",
    "import matplotlib.pyplot as plt\n",
    "\n",
    "df.hist(bins=50, figsize=(20,15))\n",
    "\n",
    "plt.show()"
   ]
  },
  {
   "cell_type": "code",
   "execution_count": 185,
   "id": "eda28e0c-e8c6-48ad-ae4c-34bfbb5a71ed",
   "metadata": {},
   "outputs": [
    {
     "name": "stdout",
     "output_type": "stream",
     "text": [
      "1    111615\n",
      "0     74722\n",
      "Name: state, dtype: int64\n"
     ]
    },
    {
     "data": {
      "image/png": "[encoded data removed]",
      "text/plain": [
       "<Figure size 432x288 with 1 Axes>"
      ]
     },
     "metadata": {
      "needs_background": "light"
     },
     "output_type": "display_data"
    }
   ],
   "source": [
    "state = df['state'].value_counts()\n",
    "print(state)\n",
    "\n",
    "sns.countplot(x='state', data=df, palette='hls')\n",
    "plt.title(\"Number of Unsuccessful and Successful cases\", fontsize=15)\n",
    "plt.show()"
   ]
  },
  {
   "cell_type": "markdown",
   "id": "9a380175-d1ee-48f7-adab-a319dd82a4c9",
   "metadata": {},
   "source": [
    "> We have more successful cases. A difference of around 37.000 is felt between successful and non successful."
   ]
  },
  {
   "cell_type": "markdown",
   "id": "1c6dbd2c-ae95-4c29-8c69-0389c16e78dc",
   "metadata": {},
   "source": [
    "# **<center><span style=\"color:limegreen\">Preprocessing Data</span><center>**"
   ]
  },
  {
   "cell_type": "markdown",
   "id": "2c45c541-7bbc-4d5b-910b-90610d794023",
   "metadata": {},
   "source": [
    "Before beginning with the modelling phase, we need to drop more variables. Specifically, the variable \"name\", \"ID \", and \"usd_pledged\""
   ]
  },
  {
   "cell_type": "code",
   "execution_count": 186,
   "id": "ab323c63-e395-476f-8ed3-cad7a3ce7065",
   "metadata": {},
   "outputs": [],
   "source": [
    "df = df.drop(\"usd_pledged\", axis = 1)\n",
    "df = df.drop(['id', 'name'], axis = 1)"
   ]
  },
  {
   "cell_type": "code",
   "execution_count": 187,
   "id": "c012fe92",
   "metadata": {},
   "outputs": [
    {
     "data": {
      "text/plain": [
       "Index(['country', 'currency', 'fx_rate', 'goal', 'state', 'static_usd_rate',\n",
       "       'usd_type', 'created_at_fixed', 'deadline_fixed', 'launched_at_fixed',\n",
       "       'delta_created_launch', 'delta_launch_deadline', 'projectname_len',\n",
       "       'sub_category', 'city', 'Category'],\n",
       "      dtype='object')"
      ]
     },
     "execution_count": 187,
     "metadata": {},
     "output_type": "execute_result"
    }
   ],
   "source": [
    "df.columns"
   ]
  },
  {
   "cell_type": "code",
   "execution_count": 188,
   "id": "7d6bbc2d",
   "metadata": {},
   "outputs": [],
   "source": [
    "df['launched_month'] = pd.DatetimeIndex(df['launched_at_fixed']).month\n",
    "\n",
    "df['deadline_month'] = pd.DatetimeIndex(df['deadline_fixed']).month\n",
    "\n",
    "df['created_month'] = pd.DatetimeIndex(df['created_at_fixed']).month"
   ]
  },
  {
   "cell_type": "code",
   "execution_count": 189,
   "id": "2d396654-3278-4b6c-89fc-660895d9476f",
   "metadata": {},
   "outputs": [],
   "source": [
    "df = df.drop(['deadline_fixed', 'created_at_fixed', 'launched_at_fixed' ], axis = 1)"
   ]
  },
  {
   "cell_type": "code",
   "execution_count": 190,
   "id": "f64d6be4-57cc-478d-85cd-f9e229b51f00",
   "metadata": {},
   "outputs": [
    {
     "data": {
      "text/plain": [
       "1    111615\n",
       "0     74722\n",
       "Name: state, dtype: int64"
      ]
     },
     "execution_count": 190,
     "metadata": {},
     "output_type": "execute_result"
    }
   ],
   "source": [
    "#Since we don't have a very unbalanced dataset in terms of labels, we will use train_test_split\n",
    "df[\"state\"].value_counts()"
   ]
  },
  {
   "cell_type": "code",
   "execution_count": 191,
   "id": "85f5e1bd",
   "metadata": {},
   "outputs": [
    {
     "data": {
      "text/plain": [
       "Index(['country', 'currency', 'fx_rate', 'goal', 'state', 'static_usd_rate',\n",
       "       'usd_type', 'delta_created_launch', 'delta_launch_deadline',\n",
       "       'projectname_len', 'sub_category', 'city', 'Category', 'launched_month',\n",
       "       'deadline_month', 'created_month'],\n",
       "      dtype='object')"
      ]
     },
     "execution_count": 191,
     "metadata": {},
     "output_type": "execute_result"
    }
   ],
   "source": [
    "df.columns"
   ]
  },
  {
   "cell_type": "markdown",
   "id": "2cf7d27b-c39a-4d23-9b40-727f274e599c",
   "metadata": {},
   "source": [
    "# **<span style=\"color:forestgreen\">Pipeline</span>**"
   ]
  },
  {
   "cell_type": "code",
   "execution_count": 192,
   "id": "e546af71-4742-4605-a6be-adeb910dc4a1",
   "metadata": {},
   "outputs": [],
   "source": [
    "train_set, test_set = train_test_split(df, test_size=0.2, random_state=42)"
   ]
  },
  {
   "cell_type": "code",
   "execution_count": 193,
   "id": "f7fb4e69-39b4-4d80-bc3e-40b2ac6317fb",
   "metadata": {},
   "outputs": [],
   "source": [
    "x_train = train_set.drop(\"state\", axis=1) # drop label for training set\n",
    "y_train = train_set[\"state\"].copy()\n",
    "\n",
    "x_test = test_set.drop(\"state\", axis=1) # drop label for training set\n",
    "y_test = test_set[\"state\"].copy()"
   ]
  },
  {
   "cell_type": "code",
   "execution_count": 194,
   "id": "d4df3d19-b0d7-4960-8d9d-47f8026110cb",
   "metadata": {},
   "outputs": [
    {
     "data": {
      "text/plain": [
       "country                   object\n",
       "currency                  object\n",
       "fx_rate                  float64\n",
       "goal                     float64\n",
       "state                      int64\n",
       "static_usd_rate          float64\n",
       "usd_type                  object\n",
       "delta_created_launch       int16\n",
       "delta_launch_deadline       int8\n",
       "projectname_len          float64\n",
       "sub_category              object\n",
       "city                      object\n",
       "Category                  object\n",
       "launched_month             int64\n",
       "deadline_month             int64\n",
       "created_month              int64\n",
       "dtype: object"
      ]
     },
     "execution_count": 194,
     "metadata": {},
     "output_type": "execute_result"
    }
   ],
   "source": [
    "df.dtypes"
   ]
  },
  {
   "cell_type": "code",
   "execution_count": 195,
   "id": "9d6cb6b4-d579-4fb6-94d6-9cd754e5c9ef",
   "metadata": {},
   "outputs": [],
   "source": [
    "# Create a class to select numerical or categorical columns \n",
    "class DataFrameSelector(BaseEstimator, TransformerMixin):\n",
    "    def __init__(self, attribute_names):\n",
    "        self.attribute_names = attribute_names\n",
    "    def fit(self, X, y=None):\n",
    "        return self\n",
    "    def transform(self, X):\n",
    "        return X[self.attribute_names].values"
   ]
  },
  {
   "cell_type": "code",
   "execution_count": 196,
   "id": "13e290e1-56ca-4a97-9883-f3146802ebbd",
   "metadata": {},
   "outputs": [
    {
     "data": {
      "text/plain": [
       "12107"
      ]
     },
     "execution_count": 196,
     "metadata": {},
     "output_type": "execute_result"
    }
   ],
   "source": [
    "df[\"city\"].nunique()"
   ]
  },
  {
   "cell_type": "code",
   "execution_count": 197,
   "id": "7343c94d-272c-45f6-889d-81fc4e7c0a23",
   "metadata": {},
   "outputs": [],
   "source": [
    "numeric_features = ['fx_rate', 'goal', 'projectname_len', 'static_usd_rate', \"delta_created_launch\", \"delta_launch_deadline\"]\n",
    "cat_features = ['country','sub_category', 'usd_type', 'currency', \"Category\",\"launched_month\",\"deadline_month\",\"created_month\"]\n",
    "\n",
    "# Pipeline of numerical variables\n",
    "num_pipeline = Pipeline(steps=[\n",
    "    ('selector', DataFrameSelector(numeric_features)),\n",
    "    ('scaler', StandardScaler())\n",
    "])\n",
    "\n",
    "# Pipeline of categorical variables\n",
    "cat_pipeline = Pipeline(steps=[\n",
    "    ('selector', DataFrameSelector(cat_features)),\n",
    "    ('hot', OneHotEncoder(handle_unknown=\"ignore\", sparse=False))])"
   ]
  },
  {
   "cell_type": "code",
   "execution_count": 198,
   "id": "29044bb2-bf90-43ce-afbd-6e25fb2aa9f8",
   "metadata": {},
   "outputs": [],
   "source": [
    "# Preprocessor for both categorical and numerical\n",
    "preprocessor = ColumnTransformer(transformers=[('numeric', num_pipeline, numeric_features),\n",
    "                                               ('categorical', cat_pipeline, cat_features)])"
   ]
  },
  {
   "cell_type": "code",
   "execution_count": 199,
   "id": "8515771e-1084-4725-a714-70e8ffd6827c",
   "metadata": {},
   "outputs": [],
   "source": [
    "#preprocess train data to predict\n",
    "prepared_data = preprocessor.fit_transform(x_train)"
   ]
  },
  {
   "cell_type": "code",
   "execution_count": 200,
   "id": "5163d478-0a53-42a8-a13a-f5f217cbbe63",
   "metadata": {},
   "outputs": [],
   "source": [
    "#preprocess test data to predict \n",
    "prepared_data_test = preprocessor.fit_transform(x_test)"
   ]
  },
  {
   "cell_type": "markdown",
   "id": "d4c6dddb-b325-4c0d-b4bf-d6c451c55d18",
   "metadata": {},
   "source": [
    "# **<center><span style=\"color:limegreen\">Modelling</span><center>**"
   ]
  },
  {
   "cell_type": "markdown",
   "id": "b1e04c7e-d31f-40e5-a7f5-bf04070e131c",
   "metadata": {},
   "source": [
    "# **<center><span style=\"background:palegreen\">Logistic Regression</span><center>**"
   ]
  },
  {
   "cell_type": "markdown",
   "id": "4ba78392-9e45-4a7c-9a63-01bfd7b8e26e",
   "metadata": {},
   "source": [
    "Since we are dealing with a binary classification model , to predict whether a project is going to be successful or not, we beleive that logistic regression is a suitable model to implemnt since we are dealing with more than one independent variable and our intention is to find the best fitting model to describe the relationship between the dependent and the independent variables. In addition, we tried the logistic regression with grid-search in order to find the optimal hyperparameters we should use in the logistic regression in order to get the most \"accurate\" predictions. \n",
    "\n",
    "Some advantages are:\n",
    "* Easy to implement, interpret and very efficient to train. \n",
    "* Not necessary to scale feature or tuning hyperparameters.\n",
    "\n",
    "But it also has disadvantages such as:\n",
    "* Poor performance with irrelevant and highly correlated features. Therefore, all the important variables should be identified previously in order for it to work well.\n",
    "* Not very powerful and can be easily outperformed by other algorithms.\n",
    "* Sensitive to outliers\n",
    "\n",
    "**Expectations** <br> We expect the logistic regression to be faster in terms of performance than other classification models such as XGBoost and SVC, especially when we specify before hand the hyperparameters that we want to use (provided by the grid search method). In terms of scoring, we are not expecting it to be the model with best scores, and therefore we believe these will increase as we try more complex models. In average we can expect scores rounding 0.7 for the chosen metrics. "
   ]
  },
  {
   "cell_type": "code",
   "execution_count": 90,
   "id": "16a4cfe9-74fe-4ac7-ac85-a430e2077a52",
   "metadata": {},
   "outputs": [],
   "source": [
    "start_time = time.time()"
   ]
  },
  {
   "cell_type": "code",
   "execution_count": 91,
   "id": "248d3c47-ea72-44b9-930d-a9f7772f15c8",
   "metadata": {},
   "outputs": [],
   "source": [
    "# 5 fold cross validation Logistic Regression\n",
    "clf = LogisticRegressionCV(penalty = 'l2', cv=5, random_state=42).fit(prepared_data, y_train)"
   ]
  },
  {
   "cell_type": "code",
   "execution_count": 92,
   "id": "fb678baf-ffd3-4efa-85d0-177f79c5c870",
   "metadata": {},
   "outputs": [
    {
     "name": "stdout",
     "output_type": "stream",
     "text": [
      "The fit time for LR is: 160.61768174171448\n"
     ]
    }
   ],
   "source": [
    "end_time = time.time()\n",
    "print(f\"The fit time for LR is: {end_time-start_time}\")"
   ]
  },
  {
   "cell_type": "code",
   "execution_count": 93,
   "id": "046fa180-4611-4a83-8f94-b5bf97d22adc",
   "metadata": {},
   "outputs": [],
   "source": [
    "y_pred = clf.predict(prepared_data)"
   ]
  },
  {
   "cell_type": "code",
   "execution_count": 94,
   "id": "14724b5b-f0a2-4e26-8539-c10b50b1bd28",
   "metadata": {},
   "outputs": [
    {
     "data": {
      "text/plain": [
       "array([[44039, 15684],\n",
       "       [18944, 70402]], dtype=int64)"
      ]
     },
     "execution_count": 94,
     "metadata": {},
     "output_type": "execute_result"
    }
   ],
   "source": [
    "# Confusion Matrix\n",
    "cnf_matrix = metrics.confusion_matrix(y_train, y_pred)\n",
    "cnf_matrix"
   ]
  },
  {
   "cell_type": "code",
   "execution_count": 95,
   "id": "c856d287-704f-4122-a9c6-72db92f27e55",
   "metadata": {},
   "outputs": [
    {
     "data": {
      "text/plain": [
       "Text(0.5, 257.44, 'Predicted label')"
      ]
     },
     "execution_count": 95,
     "metadata": {},
     "output_type": "execute_result"
    },
    {
     "data": {
      "image/png": "[encoded data removed]",
      "text/plain": [
       "<Figure size 432x288 with 2 Axes>"
      ]
     },
     "metadata": {
      "needs_background": "light"
     },
     "output_type": "display_data"
    }
   ],
   "source": [
    "# Visualization of the confusion matrix\n",
    "class_names = [0,1]\n",
    "fig, ax = plt.subplots()\n",
    "tick_marks = np.arange(len(class_names))\n",
    "plt.xticks(tick_marks, class_names)\n",
    "plt.yticks(tick_marks, class_names)\n",
    "#creating a heatmap\n",
    "sns.heatmap(pd.DataFrame(cnf_matrix), annot = True, cmap=\"YlGnBu\" ,fmt='g')\n",
    "ax.xaxis.set_label_position(\"top\")\n",
    "plt.tight_layout()\n",
    "plt.title('Confusion matrix', y=1.1)\n",
    "plt.ylabel('Actual label')\n",
    "plt.xlabel('Predicted label')"
   ]
  },
  {
   "cell_type": "code",
   "execution_count": 96,
   "id": "dd0b0d98-4859-455e-8658-22daeb3ee83d",
   "metadata": {},
   "outputs": [
    {
     "name": "stdout",
     "output_type": "stream",
     "text": [
      "Precision: 0.8178100968798643\n",
      "Recall: 0.7879703624112999\n",
      "Accuracy: 0.7677048883402988\n"
     ]
    }
   ],
   "source": [
    "print(\"Precision:\",metrics.precision_score(y_train, y_pred))\n",
    "print(\"Recall:\",metrics.recall_score(y_train, y_pred))\n",
    "print(\"Accuracy:\",metrics.accuracy_score(y_train, y_pred))"
   ]
  },
  {
   "cell_type": "code",
   "execution_count": 97,
   "id": "fa9391b2-9967-4a07-b3d6-5a35ae0d6914",
   "metadata": {},
   "outputs": [
    {
     "name": "stdout",
     "output_type": "stream",
     "text": [
      "Precision: 0.8148561854230661\n",
      "Recall: 0.7862050383941802\n",
      "Accuracy: 0.7655092841043254\n"
     ]
    }
   ],
   "source": [
    "# Evaluate on test data\n",
    "y_pred_test = clf.predict(prepared_data_test)\n",
    "\n",
    "print(\"Precision:\",metrics.precision_score(y_test, y_pred_test))\n",
    "print(\"Recall:\",metrics.recall_score(y_test, y_pred_test))\n",
    "print(\"Accuracy:\",metrics.accuracy_score(y_test, y_pred_test))"
   ]
  },
  {
   "cell_type": "markdown",
   "id": "fe3f0da6-b6b6-487d-ac2e-a72da8a2b072",
   "metadata": {},
   "source": [
    "#### Comment on time: \n",
    "* Even though we don't have a large dataset, we noticed that the logistic regression model is time consuming and computationally heavy, which is not something we encounter frequently with this model. We believe that further other models will be more time consuming, which is something that will be taken into account when choosing the right model.\n",
    "\n",
    "#### Comment on model performance:\n",
    "* Even though the fit time was higher, the scores turned out good. \n",
    "* Both train and test scores are really similar and overall high. From this we can also, conclude that the model didn't overfit."
   ]
  },
  {
   "cell_type": "markdown",
   "id": "054a3f07-3847-4f0e-91c2-fe6f518910fb",
   "metadata": {},
   "source": [
    "## **<center><span style=\"color:forestgreen\">Fine-tuning Logistic Regression</span><center>**"
   ]
  },
  {
   "cell_type": "code",
   "execution_count": 211,
   "id": "70279639-6cdf-40fa-9ffa-ed59b3032e81",
   "metadata": {},
   "outputs": [
    {
     "name": "stdout",
     "output_type": "stream",
     "text": [
      "The fit time for LR grid serach is: 394.30869698524475\n",
      "{'C': 1000, 'penalty': 'l2'}\n",
      "[[43559 16164]\n",
      " [19192 70154]]\n",
      "Precision: 0.812738942051484\n",
      "Recall: 0.7851946365813802\n",
      "Accuracy: 0.7628212438535175\n"
     ]
    }
   ],
   "source": [
    "start_time = time.time()\n",
    "\n",
    "strength = {'C': [0.001, 0.01, 0.1, 1, 10, 100, 1000], \"penalty\" : [\"l1\", \"l2\"]}\n",
    "\n",
    "model = LogisticRegression(solver=\"liblinear\", random_state=42)\n",
    "\n",
    "gr_search = GridSearchCV(estimator=model, param_grid=strength, \n",
    "                          cv=5, scoring='precision')\n",
    "\n",
    "gr_search.fit(prepared_data, y_train)\n",
    "\n",
    "end_time = time.time()\n",
    "print(f\"The fit time for LR grid serach is: {end_time-start_time}\")\n",
    "\n",
    "best_parameter = gr_search.best_params_\n",
    "print(best_parameter)\n",
    "\n",
    "#predicting on the train data\n",
    "\n",
    "y_pred_gr_search = gr_search.best_estimator_.predict(prepared_data)\n",
    "\n",
    "cnf_mat = confusion_matrix(y_train, y_pred_gr_search)\n",
    "print(cnf_mat)\n",
    "\n",
    "print(\"Precision:\",metrics.precision_score(y_train, y_pred_gr_search))\n",
    "print(\"Recall:\",metrics.recall_score(y_train, y_pred_gr_search))\n",
    "print(\"Accuracy:\",metrics.accuracy_score(y_train, y_pred_gr_search))"
   ]
  },
  {
   "cell_type": "code",
   "execution_count": 212,
   "id": "9ff24763-1d9e-4972-ae47-60f4eac75b4d",
   "metadata": {},
   "outputs": [
    {
     "name": "stdout",
     "output_type": "stream",
     "text": [
      "[[10956  4043]\n",
      " [ 4839 17430]]\n",
      "Precision: 0.8117170400037256\n",
      "Recall: 0.7827024114239526\n",
      "Accuracy: 0.7616722120854352\n"
     ]
    }
   ],
   "source": [
    "#predicting on the test data\n",
    "\n",
    "y_pred_gr_search_test = gr_search.best_estimator_.predict(prepared_data_test)\n",
    "\n",
    "cnf_mat = confusion_matrix(y_test, y_pred_gr_search_test)\n",
    "print(cnf_mat)\n",
    "\n",
    "print(\"Precision:\",metrics.precision_score(y_test, y_pred_gr_search_test))\n",
    "print(\"Recall:\",metrics.recall_score(y_test, y_pred_gr_search_test))\n",
    "print(\"Accuracy:\",metrics.accuracy_score(y_test, y_pred_gr_search_test))"
   ]
  },
  {
   "cell_type": "markdown",
   "id": "20f3f6fc",
   "metadata": {},
   "source": [
    "#### Feature importance for our business problem: \n",
    "\n",
    "One of the advantages of implementing regularization (especially if using L1 regularization) on the logistic regression is that we can actually determine what features the regularized model did not consider important for prediction. This might start giving us some hints regarding what projects are likely to be more succesful than others, or what characteristics of the project should be considered for future project creators and investors."
   ]
  },
  {
   "cell_type": "code",
   "execution_count": 213,
   "id": "405e1f1e",
   "metadata": {
    "collapsed": true,
    "jupyter": {
     "outputs_hidden": true
    },
    "tags": []
   },
   "outputs": [
    {
     "data": {
      "text/plain": [
       "['fx_rate_goal_projectname_len_static_usd_rate_delta_created_launch_delta_launch_deadline_0',\n",
       " 'fx_rate_goal_projectname_len_static_usd_rate_delta_created_launch_delta_launch_deadline_1',\n",
       " 'fx_rate_goal_projectname_len_static_usd_rate_delta_created_launch_delta_launch_deadline_2',\n",
       " 'fx_rate_goal_projectname_len_static_usd_rate_delta_created_launch_delta_launch_deadline_3',\n",
       " 'fx_rate_goal_projectname_len_static_usd_rate_delta_created_launch_delta_launch_deadline_4',\n",
       " 'fx_rate_goal_projectname_len_static_usd_rate_delta_created_launch_delta_launch_deadline_5',\n",
       " 'country_sub_category_usd_type_currency_Category_launched_month_deadline_month_created_month_x0_AT',\n",
       " 'country_sub_category_usd_type_currency_Category_launched_month_deadline_month_created_month_x0_AU',\n",
       " 'country_sub_category_usd_type_currency_Category_launched_month_deadline_month_created_month_x0_BE',\n",
       " 'country_sub_category_usd_type_currency_Category_launched_month_deadline_month_created_month_x0_CA',\n",
       " 'country_sub_category_usd_type_currency_Category_launched_month_deadline_month_created_month_x0_CH',\n",
       " 'country_sub_category_usd_type_currency_Category_launched_month_deadline_month_created_month_x0_DE',\n",
       " 'country_sub_category_usd_type_currency_Category_launched_month_deadline_month_created_month_x0_DK',\n",
       " 'country_sub_category_usd_type_currency_Category_launched_month_deadline_month_created_month_x0_ES',\n",
       " 'country_sub_category_usd_type_currency_Category_launched_month_deadline_month_created_month_x0_FR',\n",
       " 'country_sub_category_usd_type_currency_Category_launched_month_deadline_month_created_month_x0_GB',\n",
       " 'country_sub_category_usd_type_currency_Category_launched_month_deadline_month_created_month_x0_HK',\n",
       " 'country_sub_category_usd_type_currency_Category_launched_month_deadline_month_created_month_x0_IE',\n",
       " 'country_sub_category_usd_type_currency_Category_launched_month_deadline_month_created_month_x0_IT',\n",
       " 'country_sub_category_usd_type_currency_Category_launched_month_deadline_month_created_month_x0_JP',\n",
       " 'country_sub_category_usd_type_currency_Category_launched_month_deadline_month_created_month_x0_LU',\n",
       " 'country_sub_category_usd_type_currency_Category_launched_month_deadline_month_created_month_x0_MX',\n",
       " 'country_sub_category_usd_type_currency_Category_launched_month_deadline_month_created_month_x0_NL',\n",
       " 'country_sub_category_usd_type_currency_Category_launched_month_deadline_month_created_month_x0_NO',\n",
       " 'country_sub_category_usd_type_currency_Category_launched_month_deadline_month_created_month_x0_NZ',\n",
       " 'country_sub_category_usd_type_currency_Category_launched_month_deadline_month_created_month_x0_SE',\n",
       " 'country_sub_category_usd_type_currency_Category_launched_month_deadline_month_created_month_x0_SG',\n",
       " 'country_sub_category_usd_type_currency_Category_launched_month_deadline_month_created_month_x0_US',\n",
       " 'country_sub_category_usd_type_currency_Category_launched_month_deadline_month_created_month_x1_3D Printing',\n",
       " 'country_sub_category_usd_type_currency_Category_launched_month_deadline_month_created_month_x1_Academic',\n",
       " 'country_sub_category_usd_type_currency_Category_launched_month_deadline_month_created_month_x1_Accessories',\n",
       " 'country_sub_category_usd_type_currency_Category_launched_month_deadline_month_created_month_x1_Action',\n",
       " 'country_sub_category_usd_type_currency_Category_launched_month_deadline_month_created_month_x1_Animals',\n",
       " 'country_sub_category_usd_type_currency_Category_launched_month_deadline_month_created_month_x1_Animation',\n",
       " 'country_sub_category_usd_type_currency_Category_launched_month_deadline_month_created_month_x1_Anthologies',\n",
       " 'country_sub_category_usd_type_currency_Category_launched_month_deadline_month_created_month_x1_Apparel',\n",
       " 'country_sub_category_usd_type_currency_Category_launched_month_deadline_month_created_month_x1_Apps',\n",
       " 'country_sub_category_usd_type_currency_Category_launched_month_deadline_month_created_month_x1_Architecture',\n",
       " 'country_sub_category_usd_type_currency_Category_launched_month_deadline_month_created_month_x1_Art',\n",
       " 'country_sub_category_usd_type_currency_Category_launched_month_deadline_month_created_month_x1_Art Books',\n",
       " 'country_sub_category_usd_type_currency_Category_launched_month_deadline_month_created_month_x1_Audio',\n",
       " 'country_sub_category_usd_type_currency_Category_launched_month_deadline_month_created_month_x1_Bacon',\n",
       " 'country_sub_category_usd_type_currency_Category_launched_month_deadline_month_created_month_x1_Blues',\n",
       " 'country_sub_category_usd_type_currency_Category_launched_month_deadline_month_created_month_x1_Calendars',\n",
       " 'country_sub_category_usd_type_currency_Category_launched_month_deadline_month_created_month_x1_Camera Equipment',\n",
       " 'country_sub_category_usd_type_currency_Category_launched_month_deadline_month_created_month_x1_Candles',\n",
       " 'country_sub_category_usd_type_currency_Category_launched_month_deadline_month_created_month_x1_Ceramics',\n",
       " \"country_sub_category_usd_type_currency_Category_launched_month_deadline_month_created_month_x1_Children's Books\",\n",
       " 'country_sub_category_usd_type_currency_Category_launched_month_deadline_month_created_month_x1_Childrenswear',\n",
       " 'country_sub_category_usd_type_currency_Category_launched_month_deadline_month_created_month_x1_Chiptune',\n",
       " 'country_sub_category_usd_type_currency_Category_launched_month_deadline_month_created_month_x1_Civic Design',\n",
       " 'country_sub_category_usd_type_currency_Category_launched_month_deadline_month_created_month_x1_Classical Music',\n",
       " 'country_sub_category_usd_type_currency_Category_launched_month_deadline_month_created_month_x1_Comedy',\n",
       " 'country_sub_category_usd_type_currency_Category_launched_month_deadline_month_created_month_x1_Comic Books',\n",
       " 'country_sub_category_usd_type_currency_Category_launched_month_deadline_month_created_month_x1_Comics',\n",
       " 'country_sub_category_usd_type_currency_Category_launched_month_deadline_month_created_month_x1_Community Gardens',\n",
       " 'country_sub_category_usd_type_currency_Category_launched_month_deadline_month_created_month_x1_Conceptual Art',\n",
       " 'country_sub_category_usd_type_currency_Category_launched_month_deadline_month_created_month_x1_Cookbooks',\n",
       " 'country_sub_category_usd_type_currency_Category_launched_month_deadline_month_created_month_x1_Country & Folk',\n",
       " 'country_sub_category_usd_type_currency_Category_launched_month_deadline_month_created_month_x1_Couture',\n",
       " 'country_sub_category_usd_type_currency_Category_launched_month_deadline_month_created_month_x1_Crafts',\n",
       " 'country_sub_category_usd_type_currency_Category_launched_month_deadline_month_created_month_x1_Crochet',\n",
       " 'country_sub_category_usd_type_currency_Category_launched_month_deadline_month_created_month_x1_DIY',\n",
       " 'country_sub_category_usd_type_currency_Category_launched_month_deadline_month_created_month_x1_DIY Electronics',\n",
       " 'country_sub_category_usd_type_currency_Category_launched_month_deadline_month_created_month_x1_Dance',\n",
       " 'country_sub_category_usd_type_currency_Category_launched_month_deadline_month_created_month_x1_Design',\n",
       " 'country_sub_category_usd_type_currency_Category_launched_month_deadline_month_created_month_x1_Digital Art',\n",
       " 'country_sub_category_usd_type_currency_Category_launched_month_deadline_month_created_month_x1_Documentary',\n",
       " 'country_sub_category_usd_type_currency_Category_launched_month_deadline_month_created_month_x1_Drama',\n",
       " 'country_sub_category_usd_type_currency_Category_launched_month_deadline_month_created_month_x1_Drinks',\n",
       " 'country_sub_category_usd_type_currency_Category_launched_month_deadline_month_created_month_x1_Electronic Music',\n",
       " 'country_sub_category_usd_type_currency_Category_launched_month_deadline_month_created_month_x1_Embroidery',\n",
       " 'country_sub_category_usd_type_currency_Category_launched_month_deadline_month_created_month_x1_Events',\n",
       " 'country_sub_category_usd_type_currency_Category_launched_month_deadline_month_created_month_x1_Experimental',\n",
       " 'country_sub_category_usd_type_currency_Category_launched_month_deadline_month_created_month_x1_Fabrication Tools',\n",
       " 'country_sub_category_usd_type_currency_Category_launched_month_deadline_month_created_month_x1_Faith',\n",
       " 'country_sub_category_usd_type_currency_Category_launched_month_deadline_month_created_month_x1_Family',\n",
       " 'country_sub_category_usd_type_currency_Category_launched_month_deadline_month_created_month_x1_Fantasy',\n",
       " \"country_sub_category_usd_type_currency_Category_launched_month_deadline_month_created_month_x1_Farmer's Markets\",\n",
       " 'country_sub_category_usd_type_currency_Category_launched_month_deadline_month_created_month_x1_Farms',\n",
       " 'country_sub_category_usd_type_currency_Category_launched_month_deadline_month_created_month_x1_Fashion',\n",
       " 'country_sub_category_usd_type_currency_Category_launched_month_deadline_month_created_month_x1_Festivals',\n",
       " 'country_sub_category_usd_type_currency_Category_launched_month_deadline_month_created_month_x1_Fiction',\n",
       " 'country_sub_category_usd_type_currency_Category_launched_month_deadline_month_created_month_x1_Film & Video',\n",
       " 'country_sub_category_usd_type_currency_Category_launched_month_deadline_month_created_month_x1_Fine Art',\n",
       " 'country_sub_category_usd_type_currency_Category_launched_month_deadline_month_created_month_x1_Flight',\n",
       " 'country_sub_category_usd_type_currency_Category_launched_month_deadline_month_created_month_x1_Food',\n",
       " 'country_sub_category_usd_type_currency_Category_launched_month_deadline_month_created_month_x1_Food Trucks',\n",
       " 'country_sub_category_usd_type_currency_Category_launched_month_deadline_month_created_month_x1_Footwear',\n",
       " 'country_sub_category_usd_type_currency_Category_launched_month_deadline_month_created_month_x1_Gadgets',\n",
       " 'country_sub_category_usd_type_currency_Category_launched_month_deadline_month_created_month_x1_Games',\n",
       " 'country_sub_category_usd_type_currency_Category_launched_month_deadline_month_created_month_x1_Gaming Hardware',\n",
       " 'country_sub_category_usd_type_currency_Category_launched_month_deadline_month_created_month_x1_Glass',\n",
       " 'country_sub_category_usd_type_currency_Category_launched_month_deadline_month_created_month_x1_Graphic Design',\n",
       " 'country_sub_category_usd_type_currency_Category_launched_month_deadline_month_created_month_x1_Graphic Novels',\n",
       " 'country_sub_category_usd_type_currency_Category_launched_month_deadline_month_created_month_x1_Hardware',\n",
       " 'country_sub_category_usd_type_currency_Category_launched_month_deadline_month_created_month_x1_Hip-Hop',\n",
       " 'country_sub_category_usd_type_currency_Category_launched_month_deadline_month_created_month_x1_Horror',\n",
       " 'country_sub_category_usd_type_currency_Category_launched_month_deadline_month_created_month_x1_Illustration',\n",
       " 'country_sub_category_usd_type_currency_Category_launched_month_deadline_month_created_month_x1_Immersive',\n",
       " 'country_sub_category_usd_type_currency_Category_launched_month_deadline_month_created_month_x1_Indie Rock',\n",
       " 'country_sub_category_usd_type_currency_Category_launched_month_deadline_month_created_month_x1_Installations',\n",
       " 'country_sub_category_usd_type_currency_Category_launched_month_deadline_month_created_month_x1_Interactive Design',\n",
       " 'country_sub_category_usd_type_currency_Category_launched_month_deadline_month_created_month_x1_Jazz',\n",
       " 'country_sub_category_usd_type_currency_Category_launched_month_deadline_month_created_month_x1_Jewelry',\n",
       " 'country_sub_category_usd_type_currency_Category_launched_month_deadline_month_created_month_x1_Journalism',\n",
       " 'country_sub_category_usd_type_currency_Category_launched_month_deadline_month_created_month_x1_Kids',\n",
       " 'country_sub_category_usd_type_currency_Category_launched_month_deadline_month_created_month_x1_Knitting',\n",
       " 'country_sub_category_usd_type_currency_Category_launched_month_deadline_month_created_month_x1_Latin',\n",
       " 'country_sub_category_usd_type_currency_Category_launched_month_deadline_month_created_month_x1_Letterpress',\n",
       " 'country_sub_category_usd_type_currency_Category_launched_month_deadline_month_created_month_x1_Literary Journals',\n",
       " 'country_sub_category_usd_type_currency_Category_launched_month_deadline_month_created_month_x1_Literary Spaces',\n",
       " 'country_sub_category_usd_type_currency_Category_launched_month_deadline_month_created_month_x1_Live Games',\n",
       " 'country_sub_category_usd_type_currency_Category_launched_month_deadline_month_created_month_x1_Makerspaces',\n",
       " 'country_sub_category_usd_type_currency_Category_launched_month_deadline_month_created_month_x1_Metal',\n",
       " 'country_sub_category_usd_type_currency_Category_launched_month_deadline_month_created_month_x1_Mixed Media',\n",
       " 'country_sub_category_usd_type_currency_Category_launched_month_deadline_month_created_month_x1_Mobile Games',\n",
       " 'country_sub_category_usd_type_currency_Category_launched_month_deadline_month_created_month_x1_Movie Theaters',\n",
       " 'country_sub_category_usd_type_currency_Category_launched_month_deadline_month_created_month_x1_Music',\n",
       " 'country_sub_category_usd_type_currency_Category_launched_month_deadline_month_created_month_x1_Music Videos',\n",
       " 'country_sub_category_usd_type_currency_Category_launched_month_deadline_month_created_month_x1_Musical',\n",
       " 'country_sub_category_usd_type_currency_Category_launched_month_deadline_month_created_month_x1_Narrative Film',\n",
       " 'country_sub_category_usd_type_currency_Category_launched_month_deadline_month_created_month_x1_Nature',\n",
       " 'country_sub_category_usd_type_currency_Category_launched_month_deadline_month_created_month_x1_Nonfiction',\n",
       " 'country_sub_category_usd_type_currency_Category_launched_month_deadline_month_created_month_x1_Painting',\n",
       " 'country_sub_category_usd_type_currency_Category_launched_month_deadline_month_created_month_x1_People',\n",
       " 'country_sub_category_usd_type_currency_Category_launched_month_deadline_month_created_month_x1_Performance Art',\n",
       " 'country_sub_category_usd_type_currency_Category_launched_month_deadline_month_created_month_x1_Performances',\n",
       " 'country_sub_category_usd_type_currency_Category_launched_month_deadline_month_created_month_x1_Periodicals',\n",
       " 'country_sub_category_usd_type_currency_Category_launched_month_deadline_month_created_month_x1_Pet Fashion',\n",
       " 'country_sub_category_usd_type_currency_Category_launched_month_deadline_month_created_month_x1_Photo',\n",
       " 'country_sub_category_usd_type_currency_Category_launched_month_deadline_month_created_month_x1_Photobooks',\n",
       " 'country_sub_category_usd_type_currency_Category_launched_month_deadline_month_created_month_x1_Photography',\n",
       " 'country_sub_category_usd_type_currency_Category_launched_month_deadline_month_created_month_x1_Places',\n",
       " 'country_sub_category_usd_type_currency_Category_launched_month_deadline_month_created_month_x1_Playing Cards',\n",
       " 'country_sub_category_usd_type_currency_Category_launched_month_deadline_month_created_month_x1_Plays',\n",
       " 'country_sub_category_usd_type_currency_Category_launched_month_deadline_month_created_month_x1_Poetry',\n",
       " 'country_sub_category_usd_type_currency_Category_launched_month_deadline_month_created_month_x1_Pop',\n",
       " 'country_sub_category_usd_type_currency_Category_launched_month_deadline_month_created_month_x1_Pottery',\n",
       " 'country_sub_category_usd_type_currency_Category_launched_month_deadline_month_created_month_x1_Print',\n",
       " 'country_sub_category_usd_type_currency_Category_launched_month_deadline_month_created_month_x1_Printing',\n",
       " 'country_sub_category_usd_type_currency_Category_launched_month_deadline_month_created_month_x1_Product Design',\n",
       " 'country_sub_category_usd_type_currency_Category_launched_month_deadline_month_created_month_x1_Public Art',\n",
       " 'country_sub_category_usd_type_currency_Category_launched_month_deadline_month_created_month_x1_Publishing',\n",
       " 'country_sub_category_usd_type_currency_Category_launched_month_deadline_month_created_month_x1_Punk',\n",
       " 'country_sub_category_usd_type_currency_Category_launched_month_deadline_month_created_month_x1_Puzzles',\n",
       " 'country_sub_category_usd_type_currency_Category_launched_month_deadline_month_created_month_x1_Quilts',\n",
       " 'country_sub_category_usd_type_currency_Category_launched_month_deadline_month_created_month_x1_R&B',\n",
       " 'country_sub_category_usd_type_currency_Category_launched_month_deadline_month_created_month_x1_Radio & Podcasts',\n",
       " 'country_sub_category_usd_type_currency_Category_launched_month_deadline_month_created_month_x1_Ready-to-wear',\n",
       " 'country_sub_category_usd_type_currency_Category_launched_month_deadline_month_created_month_x1_Residencies',\n",
       " 'country_sub_category_usd_type_currency_Category_launched_month_deadline_month_created_month_x1_Restaurants',\n",
       " 'country_sub_category_usd_type_currency_Category_launched_month_deadline_month_created_month_x1_Robots',\n",
       " 'country_sub_category_usd_type_currency_Category_launched_month_deadline_month_created_month_x1_Rock',\n",
       " 'country_sub_category_usd_type_currency_Category_launched_month_deadline_month_created_month_x1_Romance',\n",
       " 'country_sub_category_usd_type_currency_Category_launched_month_deadline_month_created_month_x1_Science Fiction',\n",
       " 'country_sub_category_usd_type_currency_Category_launched_month_deadline_month_created_month_x1_Sculpture',\n",
       " 'country_sub_category_usd_type_currency_Category_launched_month_deadline_month_created_month_x1_Shorts',\n",
       " 'country_sub_category_usd_type_currency_Category_launched_month_deadline_month_created_month_x1_Small Batch',\n",
       " 'country_sub_category_usd_type_currency_Category_launched_month_deadline_month_created_month_x1_Software',\n",
       " 'country_sub_category_usd_type_currency_Category_launched_month_deadline_month_created_month_x1_Sound',\n",
       " 'country_sub_category_usd_type_currency_Category_launched_month_deadline_month_created_month_x1_Space Exploration',\n",
       " 'country_sub_category_usd_type_currency_Category_launched_month_deadline_month_created_month_x1_Spaces',\n",
       " 'country_sub_category_usd_type_currency_Category_launched_month_deadline_month_created_month_x1_Stationery',\n",
       " 'country_sub_category_usd_type_currency_Category_launched_month_deadline_month_created_month_x1_Tabletop Games',\n",
       " 'country_sub_category_usd_type_currency_Category_launched_month_deadline_month_created_month_x1_Taxidermy',\n",
       " 'country_sub_category_usd_type_currency_Category_launched_month_deadline_month_created_month_x1_Technology',\n",
       " 'country_sub_category_usd_type_currency_Category_launched_month_deadline_month_created_month_x1_Television',\n",
       " 'country_sub_category_usd_type_currency_Category_launched_month_deadline_month_created_month_x1_Textiles',\n",
       " 'country_sub_category_usd_type_currency_Category_launched_month_deadline_month_created_month_x1_Theater',\n",
       " 'country_sub_category_usd_type_currency_Category_launched_month_deadline_month_created_month_x1_Thrillers',\n",
       " 'country_sub_category_usd_type_currency_Category_launched_month_deadline_month_created_month_x1_Translations',\n",
       " 'country_sub_category_usd_type_currency_Category_launched_month_deadline_month_created_month_x1_Typography',\n",
       " 'country_sub_category_usd_type_currency_Category_launched_month_deadline_month_created_month_x1_Vegan',\n",
       " 'country_sub_category_usd_type_currency_Category_launched_month_deadline_month_created_month_x1_Video',\n",
       " 'country_sub_category_usd_type_currency_Category_launched_month_deadline_month_created_month_x1_Video Art',\n",
       " 'country_sub_category_usd_type_currency_Category_launched_month_deadline_month_created_month_x1_Video Games',\n",
       " 'country_sub_category_usd_type_currency_Category_launched_month_deadline_month_created_month_x1_Wearables',\n",
       " 'country_sub_category_usd_type_currency_Category_launched_month_deadline_month_created_month_x1_Weaving',\n",
       " 'country_sub_category_usd_type_currency_Category_launched_month_deadline_month_created_month_x1_Web',\n",
       " 'country_sub_category_usd_type_currency_Category_launched_month_deadline_month_created_month_x1_Webcomics',\n",
       " 'country_sub_category_usd_type_currency_Category_launched_month_deadline_month_created_month_x1_Webseries',\n",
       " 'country_sub_category_usd_type_currency_Category_launched_month_deadline_month_created_month_x1_Woodworking',\n",
       " 'country_sub_category_usd_type_currency_Category_launched_month_deadline_month_created_month_x1_Workshops',\n",
       " 'country_sub_category_usd_type_currency_Category_launched_month_deadline_month_created_month_x1_World Music',\n",
       " 'country_sub_category_usd_type_currency_Category_launched_month_deadline_month_created_month_x1_Young Adult',\n",
       " 'country_sub_category_usd_type_currency_Category_launched_month_deadline_month_created_month_x1_Zines',\n",
       " 'country_sub_category_usd_type_currency_Category_launched_month_deadline_month_created_month_x2_international',\n",
       " 'country_sub_category_usd_type_currency_Category_launched_month_deadline_month_created_month_x3_AUD',\n",
       " 'country_sub_category_usd_type_currency_Category_launched_month_deadline_month_created_month_x3_CAD',\n",
       " 'country_sub_category_usd_type_currency_Category_launched_month_deadline_month_created_month_x3_CHF',\n",
       " 'country_sub_category_usd_type_currency_Category_launched_month_deadline_month_created_month_x3_DKK',\n",
       " 'country_sub_category_usd_type_currency_Category_launched_month_deadline_month_created_month_x3_EUR',\n",
       " 'country_sub_category_usd_type_currency_Category_launched_month_deadline_month_created_month_x3_GBP',\n",
       " 'country_sub_category_usd_type_currency_Category_launched_month_deadline_month_created_month_x3_HKD',\n",
       " 'country_sub_category_usd_type_currency_Category_launched_month_deadline_month_created_month_x3_JPY',\n",
       " 'country_sub_category_usd_type_currency_Category_launched_month_deadline_month_created_month_x3_MXN',\n",
       " 'country_sub_category_usd_type_currency_Category_launched_month_deadline_month_created_month_x3_NOK',\n",
       " 'country_sub_category_usd_type_currency_Category_launched_month_deadline_month_created_month_x3_NZD',\n",
       " 'country_sub_category_usd_type_currency_Category_launched_month_deadline_month_created_month_x3_SEK',\n",
       " 'country_sub_category_usd_type_currency_Category_launched_month_deadline_month_created_month_x3_SGD',\n",
       " 'country_sub_category_usd_type_currency_Category_launched_month_deadline_month_created_month_x3_USD',\n",
       " 'country_sub_category_usd_type_currency_Category_launched_month_deadline_month_created_month_x4_art',\n",
       " 'country_sub_category_usd_type_currency_Category_launched_month_deadline_month_created_month_x4_comics',\n",
       " 'country_sub_category_usd_type_currency_Category_launched_month_deadline_month_created_month_x4_crafts',\n",
       " 'country_sub_category_usd_type_currency_Category_launched_month_deadline_month_created_month_x4_dance',\n",
       " 'country_sub_category_usd_type_currency_Category_launched_month_deadline_month_created_month_x4_design',\n",
       " 'country_sub_category_usd_type_currency_Category_launched_month_deadline_month_created_month_x4_fashion',\n",
       " 'country_sub_category_usd_type_currency_Category_launched_month_deadline_month_created_month_x4_film & video',\n",
       " 'country_sub_category_usd_type_currency_Category_launched_month_deadline_month_created_month_x4_food',\n",
       " 'country_sub_category_usd_type_currency_Category_launched_month_deadline_month_created_month_x4_games',\n",
       " 'country_sub_category_usd_type_currency_Category_launched_month_deadline_month_created_month_x4_journalism',\n",
       " 'country_sub_category_usd_type_currency_Category_launched_month_deadline_month_created_month_x4_music',\n",
       " 'country_sub_category_usd_type_currency_Category_launched_month_deadline_month_created_month_x4_photography',\n",
       " 'country_sub_category_usd_type_currency_Category_launched_month_deadline_month_created_month_x4_publishing',\n",
       " 'country_sub_category_usd_type_currency_Category_launched_month_deadline_month_created_month_x4_technology',\n",
       " 'country_sub_category_usd_type_currency_Category_launched_month_deadline_month_created_month_x4_theater',\n",
       " 'country_sub_category_usd_type_currency_Category_launched_month_deadline_month_created_month_x5_1',\n",
       " 'country_sub_category_usd_type_currency_Category_launched_month_deadline_month_created_month_x5_2',\n",
       " 'country_sub_category_usd_type_currency_Category_launched_month_deadline_month_created_month_x5_3',\n",
       " 'country_sub_category_usd_type_currency_Category_launched_month_deadline_month_created_month_x5_4',\n",
       " 'country_sub_category_usd_type_currency_Category_launched_month_deadline_month_created_month_x5_5',\n",
       " 'country_sub_category_usd_type_currency_Category_launched_month_deadline_month_created_month_x5_6',\n",
       " 'country_sub_category_usd_type_currency_Category_launched_month_deadline_month_created_month_x5_7',\n",
       " 'country_sub_category_usd_type_currency_Category_launched_month_deadline_month_created_month_x5_8',\n",
       " 'country_sub_category_usd_type_currency_Category_launched_month_deadline_month_created_month_x5_9',\n",
       " 'country_sub_category_usd_type_currency_Category_launched_month_deadline_month_created_month_x5_10',\n",
       " 'country_sub_category_usd_type_currency_Category_launched_month_deadline_month_created_month_x5_11',\n",
       " 'country_sub_category_usd_type_currency_Category_launched_month_deadline_month_created_month_x5_12',\n",
       " 'country_sub_category_usd_type_currency_Category_launched_month_deadline_month_created_month_x6_1',\n",
       " 'country_sub_category_usd_type_currency_Category_launched_month_deadline_month_created_month_x6_2',\n",
       " 'country_sub_category_usd_type_currency_Category_launched_month_deadline_month_created_month_x6_3',\n",
       " 'country_sub_category_usd_type_currency_Category_launched_month_deadline_month_created_month_x6_4',\n",
       " 'country_sub_category_usd_type_currency_Category_launched_month_deadline_month_created_month_x6_5',\n",
       " 'country_sub_category_usd_type_currency_Category_launched_month_deadline_month_created_month_x6_6',\n",
       " 'country_sub_category_usd_type_currency_Category_launched_month_deadline_month_created_month_x6_7',\n",
       " 'country_sub_category_usd_type_currency_Category_launched_month_deadline_month_created_month_x6_8',\n",
       " 'country_sub_category_usd_type_currency_Category_launched_month_deadline_month_created_month_x6_9',\n",
       " 'country_sub_category_usd_type_currency_Category_launched_month_deadline_month_created_month_x6_10',\n",
       " 'country_sub_category_usd_type_currency_Category_launched_month_deadline_month_created_month_x6_11',\n",
       " 'country_sub_category_usd_type_currency_Category_launched_month_deadline_month_created_month_x6_12',\n",
       " 'country_sub_category_usd_type_currency_Category_launched_month_deadline_month_created_month_x7_1',\n",
       " 'country_sub_category_usd_type_currency_Category_launched_month_deadline_month_created_month_x7_2',\n",
       " 'country_sub_category_usd_type_currency_Category_launched_month_deadline_month_created_month_x7_3',\n",
       " 'country_sub_category_usd_type_currency_Category_launched_month_deadline_month_created_month_x7_4',\n",
       " 'country_sub_category_usd_type_currency_Category_launched_month_deadline_month_created_month_x7_5',\n",
       " 'country_sub_category_usd_type_currency_Category_launched_month_deadline_month_created_month_x7_6',\n",
       " 'country_sub_category_usd_type_currency_Category_launched_month_deadline_month_created_month_x7_7',\n",
       " 'country_sub_category_usd_type_currency_Category_launched_month_deadline_month_created_month_x7_8',\n",
       " 'country_sub_category_usd_type_currency_Category_launched_month_deadline_month_created_month_x7_9',\n",
       " 'country_sub_category_usd_type_currency_Category_launched_month_deadline_month_created_month_x7_10',\n",
       " 'country_sub_category_usd_type_currency_Category_launched_month_deadline_month_created_month_x7_11',\n",
       " 'country_sub_category_usd_type_currency_Category_launched_month_deadline_month_created_month_x7_12']"
      ]
     },
     "execution_count": 213,
     "metadata": {},
     "output_type": "execute_result"
    }
   ],
   "source": [
    "# first we need to extract column names of the prepared data, but column Transformer does not have the get_feature_names_out\n",
    "# method anymore, so we will do a \"trick\" to get the features names with sklearn pandas\n",
    "\n",
    "alt_pipeline = DataFrameMapper([\n",
    "    ((numeric_features), sklearn.preprocessing.StandardScaler()),\n",
    "    ((cat_features), sklearn.preprocessing.OneHotEncoder())\n",
    "    ]) \n",
    "\n",
    "alt_pipeline.fit_transform(x_train)\n",
    "alt_pipeline.transformed_names_"
   ]
  },
  {
   "cell_type": "code",
   "execution_count": 217,
   "id": "c797b4a3",
   "metadata": {},
   "outputs": [
    {
     "name": "stdout",
     "output_type": "stream",
     "text": [
      "Top 10 features that contribute to prediction the most: \n"
     ]
    },
    {
     "data": {
      "text/html": [
       "<div>\n",
       "<style scoped>\n",
       "    .dataframe tbody tr th:only-of-type {\n",
       "        vertical-align: middle;\n",
       "    }\n",
       "\n",
       "    .dataframe tbody tr th {\n",
       "        vertical-align: top;\n",
       "    }\n",
       "\n",
       "    .dataframe thead th {\n",
       "        text-align: right;\n",
       "    }\n",
       "</style>\n",
       "<table border=\"1\" class=\"dataframe\">\n",
       "  <thead>\n",
       "    <tr style=\"text-align: right;\">\n",
       "      <th></th>\n",
       "      <th>0</th>\n",
       "    </tr>\n",
       "  </thead>\n",
       "  <tbody>\n",
       "    <tr>\n",
       "      <th>country_sub_category_usd_type_currency_Category_launched_month_deadline_month_created_month_x1_Video Games</th>\n",
       "      <td>17.490673</td>\n",
       "    </tr>\n",
       "    <tr>\n",
       "      <th>country_sub_category_usd_type_currency_Category_launched_month_deadline_month_created_month_x1_Documentary</th>\n",
       "      <td>9.963301</td>\n",
       "    </tr>\n",
       "    <tr>\n",
       "      <th>country_sub_category_usd_type_currency_Category_launched_month_deadline_month_created_month_x1_Shorts</th>\n",
       "      <td>9.913527</td>\n",
       "    </tr>\n",
       "    <tr>\n",
       "      <th>country_sub_category_usd_type_currency_Category_launched_month_deadline_month_created_month_x1_Food</th>\n",
       "      <td>9.896508</td>\n",
       "    </tr>\n",
       "    <tr>\n",
       "      <th>country_sub_category_usd_type_currency_Category_launched_month_deadline_month_created_month_x1_Crafts</th>\n",
       "      <td>9.851943</td>\n",
       "    </tr>\n",
       "    <tr>\n",
       "      <th>country_sub_category_usd_type_currency_Category_launched_month_deadline_month_created_month_x1_Photography</th>\n",
       "      <td>9.849384</td>\n",
       "    </tr>\n",
       "    <tr>\n",
       "      <th>country_sub_category_usd_type_currency_Category_launched_month_deadline_month_created_month_x1_Technology</th>\n",
       "      <td>9.815865</td>\n",
       "    </tr>\n",
       "    <tr>\n",
       "      <th>country_sub_category_usd_type_currency_Category_launched_month_deadline_month_created_month_x1_Indie Rock</th>\n",
       "      <td>9.719767</td>\n",
       "    </tr>\n",
       "    <tr>\n",
       "      <th>country_sub_category_usd_type_currency_Category_launched_month_deadline_month_created_month_x1_Rock</th>\n",
       "      <td>9.666989</td>\n",
       "    </tr>\n",
       "    <tr>\n",
       "      <th>country_sub_category_usd_type_currency_Category_launched_month_deadline_month_created_month_x1_Fashion</th>\n",
       "      <td>9.649227</td>\n",
       "    </tr>\n",
       "    <tr>\n",
       "      <th>country_sub_category_usd_type_currency_Category_launched_month_deadline_month_created_month_x1_Country &amp; Folk</th>\n",
       "      <td>9.567194</td>\n",
       "    </tr>\n",
       "  </tbody>\n",
       "</table>\n",
       "</div>"
      ],
      "text/plain": [
       "                                                            0\n",
       "country_sub_category_usd_type_currency_Category...  17.490673\n",
       "country_sub_category_usd_type_currency_Category...   9.963301\n",
       "country_sub_category_usd_type_currency_Category...   9.913527\n",
       "country_sub_category_usd_type_currency_Category...   9.896508\n",
       "country_sub_category_usd_type_currency_Category...   9.851943\n",
       "country_sub_category_usd_type_currency_Category...   9.849384\n",
       "country_sub_category_usd_type_currency_Category...   9.815865\n",
       "country_sub_category_usd_type_currency_Category...   9.719767\n",
       "country_sub_category_usd_type_currency_Category...   9.666989\n",
       "country_sub_category_usd_type_currency_Category...   9.649227\n",
       "country_sub_category_usd_type_currency_Category...   9.567194"
      ]
     },
     "execution_count": 217,
     "metadata": {},
     "output_type": "execute_result"
    }
   ],
   "source": [
    "# Get coefficients\n",
    "\n",
    "coef_best_parameter_df = pd.DataFrame(gr_search.best_estimator_.coef_)\n",
    "coef_best_parameter_df.columns = alt_pipeline.transformed_names_\n",
    "print(\"Top 10 features that contribute to prediction the most: \")\n",
    "coef_best_parameter_df.T.sort_values (by = 0, ascending = False)[:11] "
   ]
  },
  {
   "cell_type": "markdown",
   "id": "3e27bdd4",
   "metadata": {},
   "source": [
    "- While the best regularization method selected by the grid search was L2 penalty,those coefficients that were shrinked the most were probably the least important ones. Thus, usually, a higher coefficient means that the variable has a higher predictive power \n",
    "- As we can see, the x1 feature (in this case, sub_category) seems to be the most relevant one - which makes sense. \n",
    "- Morevoer, whether the project is a video game or not seems to have the most important from the rest of the categories. We will see if that is the case for other models that allow to retrieve feature importance, but this would be an important insight from the business perspective"
   ]
  },
  {
   "cell_type": "markdown",
   "id": "a74415c8-0d78-4c35-84c7-647f2e4f7aff",
   "metadata": {},
   "source": [
    "> **Grid search is also computationally heavy and time consuming**\n",
    "#### Comment on time:\n",
    "* In this situation, using Grid Search to find optimal hyperparameters takes more times because it tries different combinations of the model's hyperparameters. \n",
    "\n",
    "#### Comment on model performance\n",
    "* When we look at the train test we see that the performance in our precision, accuracy and recall are very similar compared to when we do not tune the hyperparemeters. The scores themselves are good.\n",
    "* The precision is high, meaning that we have a good prediction on the correct positives.\n",
    "* Finally, in this situation, we realized that we found different hyperparameters than in the default configuration, however, the scores remained the same."
   ]
  },
  {
   "cell_type": "markdown",
   "id": "a0b17924-5058-4314-acc9-bf5a249df6a2",
   "metadata": {},
   "source": [
    "# **<center><span style=\"background:palegreen\">Decision Tree</span><center>**"
   ]
  },
  {
   "cell_type": "markdown",
   "id": "846a4d74-c32e-4a22-b51f-59a6eb5c5dfe",
   "metadata": {},
   "source": [
    "We have additionally decided to try out the decision tree because it allows to consider all possible outcomes of the decision path.\n",
    "\n",
    "Some of the advantages of Decision Tree:\n",
    "* It is considered a “white box” model, meaning, it’s results are easily interpretable and visualizable. \n",
    "* Building the model does not require extensive data preparation and it can handle numerous missing values.\n",
    "* Provides a clear indication of the features that are most important for our prediction\n",
    "\n",
    "Some of the disadvantages of Decision Tree:\n",
    "* The modelling is prone to overfit and create biased trees if we have an unbalanced data\n",
    "* Small variations in the data affect the models results heavily\n",
    "\n",
    "**Expectations:** <br>\n",
    "We expect the model to have one of the lowest fitting times out of all of the models we use. We expect the results to be pretty good but as decision trees have a tendency to overfit, the results should be worse (when comparing training and tests sets) than the Random Forest Classifier that makes predictions by averaging them.\n"
   ]
  },
  {
   "cell_type": "code",
   "execution_count": 218,
   "id": "a3942142-880d-4769-a0f8-393cd87cbc91",
   "metadata": {},
   "outputs": [
    {
     "name": "stdout",
     "output_type": "stream",
     "text": [
      "The fit time for Decision Tree is: 19.530472993850708\n",
      "[[59718     5]\n",
      " [   10 89336]]\n",
      "Precision: 0.9999440346537424\n",
      "Recall: 0.9998880755713742\n",
      "Accuracy: 0.9998993754570031\n"
     ]
    }
   ],
   "source": [
    "start_time = time.time()\n",
    "\n",
    "tree_clf = DecisionTreeClassifier(random_state=42)\n",
    "tree_clf.fit(prepared_data, y_train)\n",
    "\n",
    "end_time = time.time()\n",
    "print(f\"The fit time for Decision Tree is: {end_time-start_time}\")\n",
    "\n",
    "#predicting on the train data\n",
    "y_pred_dt = tree_clf.predict(prepared_data)\n",
    "\n",
    "cn = confusion_matrix(y_train, y_pred_dt)\n",
    "print(cn)\n",
    "\n",
    "print(\"Precision:\",metrics.precision_score(y_train, y_pred_dt))\n",
    "print(\"Recall:\",metrics.recall_score(y_train, y_pred_dt))\n",
    "print(\"Accuracy:\",metrics.accuracy_score(y_train, y_pred_dt))"
   ]
  },
  {
   "cell_type": "markdown",
   "id": "aa68d7b4-2e69-4635-9081-e0ea3a3489a9",
   "metadata": {},
   "source": [
    "> **Getting very high scores, due to predicting on the already known data for the model, expecting to get good results when predicting on the test set.**"
   ]
  },
  {
   "cell_type": "code",
   "execution_count": 219,
   "id": "e5111979-cdf1-48b3-a8c5-7ea3b019d24a",
   "metadata": {},
   "outputs": [
    {
     "name": "stdout",
     "output_type": "stream",
     "text": [
      "[[ 8865  6134]\n",
      " [ 4337 17932]]\n",
      "Precision: 0.7451175932851326\n",
      "Recall: 0.8052449593605461\n",
      "Accuracy: 0.7190350971342707\n"
     ]
    }
   ],
   "source": [
    "#predicting on the test data\n",
    "prepared_data_test = preprocessor.fit_transform(x_test)\n",
    "\n",
    "y_pred_dt_test = tree_clf.predict(prepared_data_test)\n",
    "\n",
    "cn = confusion_matrix(y_test, y_pred_dt_test)\n",
    "print(cn)\n",
    "\n",
    "print(\"Precision:\",metrics.precision_score(y_test, y_pred_dt_test))\n",
    "print(\"Recall:\",metrics.recall_score(y_test, y_pred_dt_test))\n",
    "print(\"Accuracy:\",metrics.accuracy_score(y_test, y_pred_dt_test))"
   ]
  },
  {
   "cell_type": "code",
   "execution_count": 220,
   "id": "c5835c70",
   "metadata": {},
   "outputs": [
    {
     "data": {
      "text/plain": [
       "121"
      ]
     },
     "execution_count": 220,
     "metadata": {},
     "output_type": "execute_result"
    }
   ],
   "source": [
    "# check tree depth \n",
    "tree_clf.get_depth()"
   ]
  },
  {
   "cell_type": "markdown",
   "id": "640a40ae",
   "metadata": {},
   "source": [
    "- As we mentioned, probably the biggest advantage of the decision tree is that it helps making business recommendations given its interpretabilty. However, with a depth of 121, it would be hard to analyze any conclusions. Yet, we can still take advantage of the model and retrieve the feature importances:"
   ]
  },
  {
   "cell_type": "code",
   "execution_count": 241,
   "id": "180939fd",
   "metadata": {},
   "outputs": [
    {
     "name": "stdout",
     "output_type": "stream",
     "text": [
      "Top 10 most important features according to Decision Tree: \n"
     ]
    },
    {
     "data": {
      "text/html": [
       "<div>\n",
       "<style scoped>\n",
       "    .dataframe tbody tr th:only-of-type {\n",
       "        vertical-align: middle;\n",
       "    }\n",
       "\n",
       "    .dataframe tbody tr th {\n",
       "        vertical-align: top;\n",
       "    }\n",
       "\n",
       "    .dataframe thead th {\n",
       "        text-align: right;\n",
       "    }\n",
       "</style>\n",
       "<table border=\"1\" class=\"dataframe\">\n",
       "  <thead>\n",
       "    <tr style=\"text-align: right;\">\n",
       "      <th></th>\n",
       "      <th>0</th>\n",
       "    </tr>\n",
       "  </thead>\n",
       "  <tbody>\n",
       "    <tr>\n",
       "      <th>fx_rate_goal_projectname_len_static_usd_rate_delta_created_launch_delta_launch_deadline_1</th>\n",
       "      <td>0.148219</td>\n",
       "    </tr>\n",
       "    <tr>\n",
       "      <th>fx_rate_goal_projectname_len_static_usd_rate_delta_created_launch_delta_launch_deadline_4</th>\n",
       "      <td>0.104636</td>\n",
       "    </tr>\n",
       "    <tr>\n",
       "      <th>fx_rate_goal_projectname_len_static_usd_rate_delta_created_launch_delta_launch_deadline_2</th>\n",
       "      <td>0.073285</td>\n",
       "    </tr>\n",
       "    <tr>\n",
       "      <th>fx_rate_goal_projectname_len_static_usd_rate_delta_created_launch_delta_launch_deadline_5</th>\n",
       "      <td>0.056676</td>\n",
       "    </tr>\n",
       "    <tr>\n",
       "      <th>fx_rate_goal_projectname_len_static_usd_rate_delta_created_launch_delta_launch_deadline_3</th>\n",
       "      <td>0.023172</td>\n",
       "    </tr>\n",
       "    <tr>\n",
       "      <th>country_sub_category_usd_type_currency_Category_launched_month_deadline_month_created_month_x1_Documentary</th>\n",
       "      <td>0.014432</td>\n",
       "    </tr>\n",
       "    <tr>\n",
       "      <th>country_sub_category_usd_type_currency_Category_launched_month_deadline_month_created_month_x1_Product Design</th>\n",
       "      <td>0.013982</td>\n",
       "    </tr>\n",
       "    <tr>\n",
       "      <th>country_sub_category_usd_type_currency_Category_launched_month_deadline_month_created_month_x1_Video Games</th>\n",
       "      <td>0.013599</td>\n",
       "    </tr>\n",
       "    <tr>\n",
       "      <th>country_sub_category_usd_type_currency_Category_launched_month_deadline_month_created_month_x1_Shorts</th>\n",
       "      <td>0.012082</td>\n",
       "    </tr>\n",
       "    <tr>\n",
       "      <th>country_sub_category_usd_type_currency_Category_launched_month_deadline_month_created_month_x1_Tabletop Games</th>\n",
       "      <td>0.009784</td>\n",
       "    </tr>\n",
       "    <tr>\n",
       "      <th>country_sub_category_usd_type_currency_Category_launched_month_deadline_month_created_month_x1_Nonfiction</th>\n",
       "      <td>0.009523</td>\n",
       "    </tr>\n",
       "  </tbody>\n",
       "</table>\n",
       "</div>"
      ],
      "text/plain": [
       "                                                           0\n",
       "fx_rate_goal_projectname_len_static_usd_rate_de...  0.148219\n",
       "fx_rate_goal_projectname_len_static_usd_rate_de...  0.104636\n",
       "fx_rate_goal_projectname_len_static_usd_rate_de...  0.073285\n",
       "fx_rate_goal_projectname_len_static_usd_rate_de...  0.056676\n",
       "fx_rate_goal_projectname_len_static_usd_rate_de...  0.023172\n",
       "country_sub_category_usd_type_currency_Category...  0.014432\n",
       "country_sub_category_usd_type_currency_Category...  0.013982\n",
       "country_sub_category_usd_type_currency_Category...  0.013599\n",
       "country_sub_category_usd_type_currency_Category...  0.012082\n",
       "country_sub_category_usd_type_currency_Category...  0.009784\n",
       "country_sub_category_usd_type_currency_Category...  0.009523"
      ]
     },
     "execution_count": 241,
     "metadata": {},
     "output_type": "execute_result"
    }
   ],
   "source": [
    "# get importances\n",
    "feature_importance_dt_df = pd.DataFrame(tree_clf.feature_importances_).T\n",
    "feature_importance_dt_df.columns = alt_pipeline.transformed_names_\n",
    "print(\"Top 10 most important features according to Decision Tree: \")\n",
    "feature_importance_dt_df.T.sort_values (by = 0, ascending = False)[:11] "
   ]
  },
  {
   "cell_type": "markdown",
   "id": "d3606a76",
   "metadata": {},
   "source": [
    "- From the table above, we can see that the most important features for the decision tree are actually the goal amount, followed by the difference between when the project was created and when it was launched, and the lenght of the project name. Since we have not tuned this tree, it is hard to extract at these points what values should those be for more succesful projects, but it is something to further inspect after tuning the tree. \n",
    "- We can see that, as already shown with the logistic regression, the other relevant features are related to the project subcategory, such as whether they are Video Games or Documentary"
   ]
  },
  {
   "cell_type": "markdown",
   "id": "1336f025-746b-42ab-b79b-da79ab7ab519",
   "metadata": {},
   "source": [
    "#### Comment on time:\n",
    "* The time of the decision tree model is so far the fastest. The fitting time is almost 15 times less than the previous models. This approach, considering the time is the best, although we need to account also the scores to identify if this is the best approach."
   ]
  },
  {
   "cell_type": "markdown",
   "id": "56894fa5-0823-4a9c-a61a-9e5fa9a32fec",
   "metadata": {},
   "source": [
    "#### Comment on model performance: \n",
    "* It seems that the model is performing much better when predicting on the train data than the test ones, allowing us to say that we face some over fitting issues. This can be due to the better understanmding of the train data.\n",
    "* While the model was trained fast, and we obtained almost 100 % precision rate, the precision on the test data was not as high (decreasing down to 75 %). It's not a terrible model, but it could be better. Of course, other tree-based models such as Random Forests, or any Boosting algorithm, is expected to perform better. Yet, we believe decision tree by itself could perform better.\n",
    "* As a result, because the train and test errors are 0.15 points apart, we believe the model is overfitting since it is not generalizing well on the test data, or at least as well as expected. Some reasons might be that our training data is a little bit noisy, or the depth of the tree is too high.\n",
    "* Thus, we will perform grid search to find some hyperparameters that force the decision tree to be a little more generalizable. This probably would sacrifice precision in the train score, but we could expect a bit higher precision on the test set (since the rules of the decision tree would be a little more general)\n",
    "* After checking the depth of our model, we realized that it has a depth of 81, considered high especially if we want to extract any business insights from the model (one of the advantages of decision trees)"
   ]
  },
  {
   "cell_type": "markdown",
   "id": "56acc141-af52-478e-94d9-46f98c53039e",
   "metadata": {},
   "source": [
    "## **<center><span style=\"color:forestgreen\">Fine-tuning Decision Tree</span><center>**"
   ]
  },
  {
   "cell_type": "code",
   "execution_count": 246,
   "id": "d2e235bc-8584-48f0-9146-d6a5bfa0be62",
   "metadata": {},
   "outputs": [],
   "source": [
    "param_dict = {\"criterion\": [\"gini\", \"entropy\"] , \n",
    "              \"max_depth\": [3, 5], \n",
    "             \"min_samples_split\": range(1,10),\n",
    "             \"min_samples_leaf\": range(1,5)}"
   ]
  },
  {
   "cell_type": "code",
   "execution_count": 247,
   "id": "d10d421f-f39d-41d0-9359-6884a27b9baa",
   "metadata": {},
   "outputs": [],
   "source": [
    "start_time = time.time()"
   ]
  },
  {
   "cell_type": "code",
   "execution_count": 248,
   "id": "715ee95c-a2a5-4fc4-a3e0-ffb735742d60",
   "metadata": {},
   "outputs": [],
   "source": [
    "gr_search_dt = GridSearchCV(estimator=tree_clf, param_grid=param_dict, \n",
    "                          cv=5, scoring='precision')"
   ]
  },
  {
   "cell_type": "code",
   "execution_count": 249,
   "id": "579ced31-58ec-498c-9f3b-9790b95ac00f",
   "metadata": {},
   "outputs": [
    {
     "data": {
      "text/plain": [
       "GridSearchCV(cv=5, estimator=DecisionTreeClassifier(random_state=42),\n",
       "             param_grid={'criterion': ['gini', 'entropy'], 'max_depth': [3, 5],\n",
       "                         'min_samples_leaf': range(1, 5),\n",
       "                         'min_samples_split': range(1, 10)},\n",
       "             scoring='precision')"
      ]
     },
     "execution_count": 249,
     "metadata": {},
     "output_type": "execute_result"
    }
   ],
   "source": [
    "gr_search_dt.fit(prepared_data, y_train)"
   ]
  },
  {
   "cell_type": "code",
   "execution_count": 250,
   "id": "480bb56c-ef74-4533-a4ad-92efc1e28477",
   "metadata": {},
   "outputs": [
    {
     "name": "stdout",
     "output_type": "stream",
     "text": [
      "The fit time for Decision Tree grid serach is: 2022.155688047409\n"
     ]
    }
   ],
   "source": [
    "end_time = time.time()\n",
    "print(f\"The fit time for Decision Tree grid serach is: {end_time-start_time}\")"
   ]
  },
  {
   "cell_type": "code",
   "execution_count": 251,
   "id": "4c484c9b-ab62-4208-9791-e5f7ac30c36d",
   "metadata": {},
   "outputs": [
    {
     "name": "stdout",
     "output_type": "stream",
     "text": [
      "{'criterion': 'gini', 'max_depth': 3, 'min_samples_leaf': 1, 'min_samples_split': 2}\n"
     ]
    }
   ],
   "source": [
    "best_parameter = gr_search_dt.best_params_\n",
    "print(best_parameter)"
   ]
  },
  {
   "cell_type": "code",
   "execution_count": 252,
   "id": "8d4bba8e-9e5c-47f3-a9b8-ebfff9c6fd53",
   "metadata": {},
   "outputs": [
    {
     "name": "stdout",
     "output_type": "stream",
     "text": [
      "[[27116 32607]\n",
      " [16063 73283]]\n",
      "Precision: 0.692067239588252\n",
      "Recall: 0.8202157902983905\n",
      "Accuracy: 0.9998993754570031\n"
     ]
    }
   ],
   "source": [
    "#predicting on the train data\n",
    "y_pred_dt_gr_search = gr_search_dt.best_estimator_.predict(prepared_data)\n",
    "\n",
    "cn = confusion_matrix(y_train, y_pred_dt_gr_search)\n",
    "print(cn)\n",
    "\n",
    "print(\"Precision:\",metrics.precision_score(y_train, y_pred_dt_gr_search))\n",
    "print(\"Recall:\",metrics.recall_score(y_train, y_pred_dt_gr_search))\n",
    "print(\"Accuracy:\",metrics.accuracy_score(y_train, y_pred_dt))"
   ]
  },
  {
   "cell_type": "code",
   "execution_count": 253,
   "id": "631f0cfc-4230-45ab-9de4-6cbde8be232c",
   "metadata": {},
   "outputs": [
    {
     "name": "stdout",
     "output_type": "stream",
     "text": [
      "[[ 6028  8971]\n",
      " [ 3561 18708]]\n",
      "Precision: 0.6758914700675602\n",
      "Recall: 0.8400916071669137\n",
      "Accuracy: 0.6637329612536224\n"
     ]
    }
   ],
   "source": [
    "#predicting on the test data\n",
    "\n",
    "y_pred_dt_gr_search = gr_search_dt.best_estimator_.predict(prepared_data_test)\n",
    "\n",
    "cn = confusion_matrix(y_test, y_pred_dt_gr_search)\n",
    "print(cn)\n",
    "\n",
    "print(\"Precision:\",metrics.precision_score(y_test, y_pred_dt_gr_search))\n",
    "print(\"Recall:\",metrics.recall_score(y_test, y_pred_dt_gr_search))\n",
    "print(\"Accuracy:\",metrics.accuracy_score(y_test, y_pred_dt_gr_search))"
   ]
  },
  {
   "cell_type": "markdown",
   "id": "419fe35b",
   "metadata": {},
   "source": [
    "- Let's now plot the tree since we constrained the depth and the results will be more readable"
   ]
  },
  {
   "cell_type": "code",
   "execution_count": 254,
   "id": "cc8c42b1",
   "metadata": {},
   "outputs": [
    {
     "data": {
      "text/plain": [
       "[Text(0.5, 0.875, 'X[1] <= -0.021\\ngini = 0.48\\nsamples = 149069\\nvalue = [59723, 89346]'),\n",
       " Text(0.25, 0.625, 'X[4] <= -0.327\\ngini = 0.454\\nsamples = 120851\\nvalue = [42015, 78836]'),\n",
       " Text(0.125, 0.375, 'X[1] <= -0.034\\ngini = 0.491\\nsamples = 47692\\nvalue = [20712, 26980]'),\n",
       " Text(0.0625, 0.125, 'gini = 0.464\\nsamples = 32965\\nvalue = [12080, 20885]'),\n",
       " Text(0.1875, 0.125, 'gini = 0.485\\nsamples = 14727\\nvalue = [8632, 6095]'),\n",
       " Text(0.375, 0.375, 'X[179] <= 0.5\\ngini = 0.413\\nsamples = 73159\\nvalue = [21303, 51856]'),\n",
       " Text(0.3125, 0.125, 'gini = 0.407\\nsamples = 72096\\nvalue = [20527, 51569]'),\n",
       " Text(0.4375, 0.125, 'gini = 0.394\\nsamples = 1063\\nvalue = [776, 287]'),\n",
       " Text(0.75, 0.625, 'X[4] <= -0.308\\ngini = 0.467\\nsamples = 28218\\nvalue = [17708, 10510]'),\n",
       " Text(0.625, 0.375, 'X[67] <= 0.5\\ngini = 0.296\\nsamples = 9215\\nvalue = [7549, 1666]'),\n",
       " Text(0.5625, 0.125, 'gini = 0.281\\nsamples = 9087\\nvalue = [7549, 1538]'),\n",
       " Text(0.6875, 0.125, 'gini = 0.0\\nsamples = 128\\nvalue = [0, 128]'),\n",
       " Text(0.875, 0.375, 'X[141] <= 0.5\\ngini = 0.498\\nsamples = 19003\\nvalue = [10159, 8844]'),\n",
       " Text(0.8125, 0.125, 'gini = 0.494\\nsamples = 18302\\nvalue = [10159, 8143]'),\n",
       " Text(0.9375, 0.125, 'gini = 0.0\\nsamples = 701\\nvalue = [0, 701]')]"
      ]
     },
     "execution_count": 254,
     "metadata": {},
     "output_type": "execute_result"
    },
    {
     "data": {
      "image/png": "[encoded data removed]",
      "text/plain": [
       "<Figure size 432x288 with 1 Axes>"
      ]
     },
     "metadata": {
      "needs_background": "light"
     },
     "output_type": "display_data"
    }
   ],
   "source": [
    "sklearn.tree.plot_tree(gr_search_dt.best_estimator_)"
   ]
  },
  {
   "cell_type": "code",
   "execution_count": 277,
   "id": "bde9c445",
   "metadata": {},
   "outputs": [
    {
     "name": "stdout",
     "output_type": "stream",
     "text": [
      "Top 5 most important features according to Decision Tree (optimized): \n"
     ]
    },
    {
     "data": {
      "text/html": [
       "<div>\n",
       "<style scoped>\n",
       "    .dataframe tbody tr th:only-of-type {\n",
       "        vertical-align: middle;\n",
       "    }\n",
       "\n",
       "    .dataframe tbody tr th {\n",
       "        vertical-align: top;\n",
       "    }\n",
       "\n",
       "    .dataframe thead th {\n",
       "        text-align: right;\n",
       "    }\n",
       "</style>\n",
       "<table border=\"1\" class=\"dataframe\">\n",
       "  <thead>\n",
       "    <tr style=\"text-align: right;\">\n",
       "      <th></th>\n",
       "      <th>0</th>\n",
       "    </tr>\n",
       "  </thead>\n",
       "  <tbody>\n",
       "    <tr>\n",
       "      <th>fx_rate_goal_projectname_len_static_usd_rate_delta_created_launch_delta_launch_deadline_1</th>\n",
       "      <td>0.588476</td>\n",
       "    </tr>\n",
       "    <tr>\n",
       "      <th>fx_rate_goal_projectname_len_static_usd_rate_delta_created_launch_delta_launch_deadline_4</th>\n",
       "      <td>0.281926</td>\n",
       "    </tr>\n",
       "    <tr>\n",
       "      <th>country_sub_category_usd_type_currency_Category_launched_month_deadline_month_created_month_x1_Product Design</th>\n",
       "      <td>0.053613</td>\n",
       "    </tr>\n",
       "    <tr>\n",
       "      <th>country_sub_category_usd_type_currency_Category_launched_month_deadline_month_created_month_x1_Web</th>\n",
       "      <td>0.053534</td>\n",
       "    </tr>\n",
       "    <tr>\n",
       "      <th>country_sub_category_usd_type_currency_Category_launched_month_deadline_month_created_month_x1_Documentary</th>\n",
       "      <td>0.022451</td>\n",
       "    </tr>\n",
       "  </tbody>\n",
       "</table>\n",
       "</div>"
      ],
      "text/plain": [
       "                                                           0\n",
       "fx_rate_goal_projectname_len_static_usd_rate_de...  0.588476\n",
       "fx_rate_goal_projectname_len_static_usd_rate_de...  0.281926\n",
       "country_sub_category_usd_type_currency_Category...  0.053613\n",
       "country_sub_category_usd_type_currency_Category...  0.053534\n",
       "country_sub_category_usd_type_currency_Category...  0.022451"
      ]
     },
     "execution_count": 277,
     "metadata": {},
     "output_type": "execute_result"
    }
   ],
   "source": [
    "# Retrieve importances\n",
    "feature_importance_dt_best_df = pd.DataFrame(gr_search_dt.best_estimator_.feature_importances_).T\n",
    "feature_importance_dt_best_df.columns = alt_pipeline.transformed_names_\n",
    "print(\"Top 5 most important features according to Decision Tree (optimized): \")\n",
    "feature_importance_dt_best_df.T.sort_values (by = 0, ascending = False)[:5] "
   ]
  },
  {
   "cell_type": "code",
   "execution_count": 271,
   "id": "da6611ec",
   "metadata": {},
   "outputs": [
    {
     "name": "stdout",
     "output_type": "stream",
     "text": [
      "|--- fx_rate_goal_projectname_len_static_usd_rate_delta_created_launch_delta_launch_deadline_1 <= -0.02\n",
      "|   |--- fx_rate_goal_projectname_len_static_usd_rate_delta_created_launch_delta_launch_deadline_4 <= -0.33\n",
      "|   |   |--- fx_rate_goal_projectname_len_static_usd_rate_delta_created_launch_delta_launch_deadline_1 <= -0.03\n",
      "|   |   |   |--- class: 1\n",
      "|   |   |--- fx_rate_goal_projectname_len_static_usd_rate_delta_created_launch_delta_launch_deadline_1 >  -0.03\n",
      "|   |   |   |--- class: 0\n",
      "|   |--- fx_rate_goal_projectname_len_static_usd_rate_delta_created_launch_delta_launch_deadline_4 >  -0.33\n",
      "|   |   |--- country_sub_category_usd_type_currency_Category_launched_month_deadline_month_created_month_x1_Web <= 0.50\n",
      "|   |   |   |--- class: 1\n",
      "|   |   |--- country_sub_category_usd_type_currency_Category_launched_month_deadline_month_created_month_x1_Web >  0.50\n",
      "|   |   |   |--- class: 0\n",
      "|--- fx_rate_goal_projectname_len_static_usd_rate_delta_created_launch_delta_launch_deadline_1 >  -0.02\n",
      "|   |--- fx_rate_goal_projectname_len_static_usd_rate_delta_created_launch_delta_launch_deadline_4 <= -0.31\n",
      "|   |   |--- country_sub_category_usd_type_currency_Category_launched_month_deadline_month_created_month_x1_Documentary <= 0.50\n",
      "|   |   |   |--- class: 0\n",
      "|   |   |--- country_sub_category_usd_type_currency_Category_launched_month_deadline_month_created_month_x1_Documentary >  0.50\n",
      "|   |   |   |--- class: 1\n",
      "|   |--- fx_rate_goal_projectname_len_static_usd_rate_delta_created_launch_delta_launch_deadline_4 >  -0.31\n",
      "|   |   |--- country_sub_category_usd_type_currency_Category_launched_month_deadline_month_created_month_x1_Product Design <= 0.50\n",
      "|   |   |   |--- class: 0\n",
      "|   |   |--- country_sub_category_usd_type_currency_Category_launched_month_deadline_month_created_month_x1_Product Design >  0.50\n",
      "|   |   |   |--- class: 1\n",
      "\n"
     ]
    }
   ],
   "source": [
    "# Extract decision tree rules used\n",
    "text_representation = tree.export_text(gr_search_dt.best_estimator_, feature_names=alt_pipeline.transformed_names_)\n",
    "print(text_representation)"
   ]
  },
  {
   "cell_type": "markdown",
   "id": "f712f118",
   "metadata": {},
   "source": [
    "- We can now see the advantage of using a decision tree for business problems. As we displayed here, and similar to previous results, the important features are some of the subcategories, the goal, and the difference between created and launched\n",
    "- More specifically, although our data is scaled, we can see that if the goal is smaller than average, and the difference between created and launched is also smaller than average, then it is probably a succesful project [1st set of rules]\n",
    "- We can also see that those projects that took longer between created and launched, and their subcategory is Web, they probably would fail\n",
    "- In the second set of rules, we see that goal is splitted, and that those with goal higher than average, and a small difference between created and launched, and are Documentary projects, are probably succesful projects (this is very interesting - might be useful to investigate if usually Documentary projects have higher goals overall)\n",
    "- Then, we can see that if the time between created and launched is a bit longer (but still under average), and the project is regarding Product Design, then it would probably succeed.\n",
    "- These are the rules imposed by this decision tree, but it is important to highlight that it did not perform well (precision was under 70%). Thus, these rules need to be interpreted with caution, and a combination of important parameters in this and other models should be consdiered, along with business knowledge, for final recommendations for investors and creators"
   ]
  },
  {
   "cell_type": "markdown",
   "id": "db43f417-4548-4b12-8581-5491711cacc7",
   "metadata": {},
   "source": [
    "#### Comments on time:\n",
    "* After a long time, we can conclude that the fitting time is generally high. Although if we look at the amount of parameters that we fed the grid search we will be consideing about 500 combinations. this of course takes time and can justify the high fitting time of this model.\n",
    "\n",
    "#### Comments on model performance\n",
    "* Given the train scores, we obtain good values, although we can sense a little overfitting due to the excelent accuracy obtained. \n",
    "* When we take a closer look to the test scores, a more dramatic decrease is felt when compared to the previous models. Even though, our decision metric (precision) is still quite high.\n",
    "* When comparing and evaluating both, the only score that had a major difference was accuracy. It was overfitting in the train setand performs poorly on the test set.\n",
    "\n",
    "#### Comments on possible overfitting\n",
    "* Unfortunately, our model didn't see an increase in the precision rate. However, with this model we are sure that there is no overfitting issues, since our precision scores in both train and test sets are very similar. \n",
    "* We will consider improved versions of tree-based models (boosting, bagging) to find better algortithms for the problem at hand."
   ]
  },
  {
   "cell_type": "markdown",
   "id": "bc61cc51-179c-4b88-8048-8f59ccb19e66",
   "metadata": {},
   "source": [
    "# **<center><span style=\"background:palegreen\">XGBoost</span><center>**"
   ]
  },
  {
   "cell_type": "markdown",
   "id": "b947050c-ef29-49d1-8f18-ce08f5d25296",
   "metadata": {},
   "source": [
    "XGBoost is a tree based ensemble machine learning algorithm which has higher predicting power and performance and it is achieved by improvisation on Gradient Boosting framework by introducing some accurate approximation algorithms. It is a good approach for ML problems, since it also adds regularisation to the loss function to penalize the complexity. This approach is beneficial because it performs well in cases were the data has a mixture of numerical and categorical features, as well as when the model performances metrics are to be considered. Overall is a good learning model.\n",
    "\n",
    "All in all, this model as several advantages such as:\n",
    "* Less need for feature engineering - scaling, normalising data, handle missing values …\n",
    "* Feature importance can be found out\n",
    "* Fast to interpret\n",
    "* Outliers have minimal impact.\n",
    "* Good model performance \n",
    "* Less prone to overfitting\n",
    "\n",
    "But just like any other model it has its disadvantages:\n",
    "* Difficult interpretation\n",
    "* Harder to tune\n",
    "* Overfit if parameters are not tuned properly.\n",
    "\n",
    "**Expectations:** <br>\n",
    "By using such model we are counting on having one of the best, if not the best, scores of precision. Given this model good learning rate and success among competitions, it is our prediction to have it performing better than the rest. \n",
    "Given the XGBoost properties and fast characteristics we expect it to minimize the fitting time given the number of hyper parameters that we will feed the model with. "
   ]
  },
  {
   "cell_type": "code",
   "execution_count": 53,
   "id": "89bf98c5-7a0f-4d25-90cf-6ea0b94435a4",
   "metadata": {},
   "outputs": [],
   "source": [
    "start_time = time.time()\n",
    "\n",
    "#defining the hyper parameters\n",
    "cv_params = {'max_depth': [3,5,7], 'min_child_weight': [1,3,5]}\n",
    "ind_params = {'learning_rate': 0.1, 'n_estimators': 1000, 'seed':0, 'subsample': 0.8, 'colsample_bytree': 0.8,\n",
    "'objective': 'binary:logistic'}\n",
    "optimized_GBM = GridSearchCV(xgb.XGBClassifier(**ind_params),\n",
    "cv_params,\n",
    "scoring = 'precision', cv = 5, n_jobs = -1)"
   ]
  },
  {
   "cell_type": "code",
   "execution_count": 54,
   "id": "c833861f-817a-4e96-9a21-9e00d79c4939",
   "metadata": {},
   "outputs": [
    {
     "name": "stdout",
     "output_type": "stream",
     "text": [
      "[17:53:57] WARNING: C:/Users/Administrator/workspace/xgboost-win64_release_1.5.1/src/learner.cc:1115: Starting in XGBoost 1.3.0, the default evaluation metric used with the objective 'binary:logistic' was changed from 'error' to 'logloss'. Explicitly set eval_metric if you'd like to restore the old behavior.\n",
      "The fit time for XGBoost is: 6972.977412700653\n"
     ]
    }
   ],
   "source": [
    "optimized_GBM.fit(prepared_data, y_train)\n",
    "end_time = time.time()\n",
    "print(f\"The fit time for XGBoost is: {end_time-start_time}\")"
   ]
  },
  {
   "cell_type": "code",
   "execution_count": 55,
   "id": "095815ea-5fb6-4d92-952a-6d31b7289a80",
   "metadata": {},
   "outputs": [
    {
     "name": "stdout",
     "output_type": "stream",
     "text": [
      "{'max_depth': 7, 'min_child_weight': 1}\n",
      "0.8474465042969532\n"
     ]
    }
   ],
   "source": [
    "print(optimized_GBM.best_params_)\n",
    "print(optimized_GBM.best_score_)"
   ]
  },
  {
   "cell_type": "code",
   "execution_count": 56,
   "id": "2109a840",
   "metadata": {},
   "outputs": [],
   "source": [
    "# predict and evaluate on train set\n",
    "y_train_pred = optimized_GBM.predict(prepared_data)"
   ]
  },
  {
   "cell_type": "code",
   "execution_count": 57,
   "id": "4496fd6f",
   "metadata": {},
   "outputs": [
    {
     "data": {
      "text/plain": [
       "array([[51230,  8493],\n",
       "       [ 9619, 79727]], dtype=int64)"
      ]
     },
     "execution_count": 57,
     "metadata": {},
     "output_type": "execute_result"
    }
   ],
   "source": [
    "# Confusion Matrix \n",
    "cnf_matrix = metrics.confusion_matrix(y_train, y_train_pred)\n",
    "cnf_matrix"
   ]
  },
  {
   "cell_type": "code",
   "execution_count": 58,
   "id": "c1245382",
   "metadata": {},
   "outputs": [
    {
     "name": "stdout",
     "output_type": "stream",
     "text": [
      "Precision: 0.9037293130809341\n",
      "Recall: 0.8923398921048508\n",
      "Accuracy: 0.8784992184827161\n"
     ]
    }
   ],
   "source": [
    "print(\"Precision:\",metrics.precision_score(y_train, y_train_pred))\n",
    "print(\"Recall:\",metrics.recall_score(y_train, y_train_pred))\n",
    "print(\"Accuracy:\",metrics.accuracy_score(y_train, y_train_pred))"
   ]
  },
  {
   "cell_type": "code",
   "execution_count": 60,
   "id": "871376af",
   "metadata": {},
   "outputs": [],
   "source": [
    "# predict and evaluate on test set\n",
    "y_test_pred =optimized_GBM.predict(prepared_data_test)"
   ]
  },
  {
   "cell_type": "code",
   "execution_count": 61,
   "id": "306c768c",
   "metadata": {},
   "outputs": [
    {
     "data": {
      "text/plain": [
       "array([[ 9249,  5750],\n",
       "       [ 2558, 19711]], dtype=int64)"
      ]
     },
     "execution_count": 61,
     "metadata": {},
     "output_type": "execute_result"
    }
   ],
   "source": [
    "cnf_matrix = metrics.confusion_matrix(y_test, y_test_pred)\n",
    "cnf_matrix"
   ]
  },
  {
   "cell_type": "code",
   "execution_count": 62,
   "id": "9808eb59",
   "metadata": {},
   "outputs": [
    {
     "name": "stdout",
     "output_type": "stream",
     "text": [
      "Precision: 0.7741644083107497\n",
      "Recall: 0.8851317975661233\n",
      "Accuracy: 0.7770741655039176\n"
     ]
    }
   ],
   "source": [
    "print(\"Precision:\",metrics.precision_score(y_test, y_test_pred))\n",
    "print(\"Recall:\",metrics.recall_score(y_test, y_test_pred))\n",
    "print(\"Accuracy:\",metrics.accuracy_score(y_test, y_test_pred))"
   ]
  },
  {
   "cell_type": "markdown",
   "id": "624a11e5-4b7d-437e-8ff2-27690f02cefe",
   "metadata": {},
   "source": [
    "#### Comment on time\n",
    "* As we expect the more hyperparameters we use, the highest the fit time will be. \n",
    "* We have so far the highest time, but it does not mean that the model is not good due to the previous point.\n",
    "\n",
    "#### Comment on model performance\n",
    "* In fact, XGBoost has really high scores for both train and test. \n",
    "* Given that our metric of choice is precision, if we focus just on it we see that the train scores is really good, as it should be given the good general model performance on learning the data.\n",
    "* As for the test, it is also good but slightly less than the train."
   ]
  },
  {
   "cell_type": "markdown",
   "id": "3b390e55-5085-423c-9813-13ca752c1f1f",
   "metadata": {},
   "source": [
    "# **<center><span style=\"background:palegreen\">Random Forest Classifier</span><center>**"
   ]
  },
  {
   "cell_type": "markdown",
   "id": "66dd47d6-772c-45ca-b715-37cd5dc71c7b",
   "metadata": {},
   "source": [
    "We are using random forest as one of the model alternatives, since it is an estimator that fits a number of decision tree classifiers on different sub-samples of the data, using averaging to improve the predictive metrics (in our case, precision) and control over-fitting cases. Thus, our hypothesis is that Random Forest will have a better performance than decision tree. Another reason is that with this model, we can control the size of each sub-sample with certain parameters, otherwise the whole dataset size is used for building each tree, which is rather a time-consuming procedure. \n",
    "\n",
    "Also, there are more advantages in favor of this model:\n",
    "* Random forest can decorrelate tree with specific sub-samples and highly correlated features\n",
    "* Minimized individual errors and reduces variance\n",
    "* Controlling error of unbalanced dataset: in our case we don’t have that much of unbalance, but still the successful projects are much more than the unsuccessful ones\n",
    "* Little impact on outliers: any mislabeled data that we didn’t notice in the exploratory analysis will not impact greatly this model \n",
    "* Deals with overfitting and more regularization taking every time a different sample of instances \n",
    "* Helps in understanding the importance of each feature in the dataset\n",
    "\n",
    "However, there are some disadvantages:\n",
    "* Features need to be statistically important and have predictive power\n",
    "* Predictions between trees should correlate\n",
    "* Process that is hidden and the instructor can only check on its performance and outcomes\n",
    "\n",
    "**Expectations:** <br> Since we believe we have created good features and believe that trees will not tend to over correlate, we are expecting higher results in the random forest than the decision tree.\n"
   ]
  },
  {
   "cell_type": "code",
   "execution_count": 230,
   "id": "6a295900-479f-4e4c-a4ef-740bfe3422f7",
   "metadata": {},
   "outputs": [
    {
     "name": "stdout",
     "output_type": "stream",
     "text": [
      "The fit time for Random Forest is: 17.367259979248047\n"
     ]
    }
   ],
   "source": [
    "start_time = time.time()\n",
    "clf=RandomForestClassifier(n_estimators=10)\n",
    "clf.fit(prepared_data, y_train)\n",
    "end_time = time.time()\n",
    "print(f\"The fit time for Random Forest is: {end_time-start_time}\")\n",
    "#not inserting max_depth, not to constrain the algorithm"
   ]
  },
  {
   "cell_type": "code",
   "execution_count": 231,
   "id": "99fa64fe-a5e0-4183-ac9c-45fd14873a3a",
   "metadata": {},
   "outputs": [
    {
     "name": "stdout",
     "output_type": "stream",
     "text": [
      "[[59386   337]\n",
      " [ 1184 88162]]\n",
      "[[0.8 0.2]\n",
      " [0.  1. ]\n",
      " [0.  1. ]\n",
      " ...\n",
      " [0.3 0.7]\n",
      " [0.  1. ]\n",
      " [1.  0. ]]\n",
      "Precision: 0.9961920473677669\n",
      "Recall: 0.9867481476507063\n",
      "Accuracy: 0.9897966713401176\n"
     ]
    }
   ],
   "source": [
    "#predicting on train\n",
    "y_fores_pred = clf.predict(prepared_data)\n",
    "cn = confusion_matrix(y_train, y_fores_pred)\n",
    "print(cn)\n",
    "predicted_proba = clf.predict_proba(prepared_data)\n",
    "print(predicted_proba)\n",
    "\n",
    "print(\"Precision:\",metrics.precision_score(y_train, y_fores_pred))\n",
    "print(\"Recall:\",metrics.recall_score(y_train, y_fores_pred))\n",
    "print(\"Accuracy:\",metrics.accuracy_score(y_train, y_fores_pred))"
   ]
  },
  {
   "cell_type": "code",
   "execution_count": 232,
   "id": "2a581466-0352-451d-ab7c-35879628491f",
   "metadata": {},
   "outputs": [
    {
     "name": "stdout",
     "output_type": "stream",
     "text": [
      "[[10785  4214]\n",
      " [ 4446 17823]]\n",
      "[[0.5 0.5]\n",
      " [0.5 0.5]\n",
      " [0.3 0.7]\n",
      " ...\n",
      " [0.  1. ]\n",
      " [0.2 0.8]\n",
      " [0.3 0.7]]\n",
      "Precision: 0.8087761492036121\n",
      "Recall: 0.8003502626970228\n",
      "Accuracy: 0.7676290651497263\n"
     ]
    }
   ],
   "source": [
    "#predicting on test\n",
    "y_fores_pred_test = clf.predict(prepared_data_test)\n",
    "cn = confusion_matrix(y_test, y_fores_pred_test)\n",
    "print(cn)\n",
    "predicted_proba = clf.predict_proba(prepared_data_test)\n",
    "print(predicted_proba)\n",
    "\n",
    "print(\"Precision:\",metrics.precision_score(y_test, y_fores_pred_test))\n",
    "print(\"Recall:\",metrics.recall_score(y_test, y_fores_pred_test))\n",
    "print(\"Accuracy:\",metrics.accuracy_score(y_test, y_fores_pred_test))"
   ]
  },
  {
   "cell_type": "markdown",
   "id": "45056144",
   "metadata": {},
   "source": [
    "- As we did with decision tree, we can retreieve feature importance from Random forest. Because we have better scores for this model than in decision tree, we are a little more confident about the relevance of these features to predict succesful projects"
   ]
  },
  {
   "cell_type": "code",
   "execution_count": 272,
   "id": "53204900",
   "metadata": {},
   "outputs": [
    {
     "name": "stdout",
     "output_type": "stream",
     "text": [
      "Top 10 most important features according to Random Forest: \n"
     ]
    },
    {
     "data": {
      "text/html": [
       "<div>\n",
       "<style scoped>\n",
       "    .dataframe tbody tr th:only-of-type {\n",
       "        vertical-align: middle;\n",
       "    }\n",
       "\n",
       "    .dataframe tbody tr th {\n",
       "        vertical-align: top;\n",
       "    }\n",
       "\n",
       "    .dataframe thead th {\n",
       "        text-align: right;\n",
       "    }\n",
       "</style>\n",
       "<table border=\"1\" class=\"dataframe\">\n",
       "  <thead>\n",
       "    <tr style=\"text-align: right;\">\n",
       "      <th></th>\n",
       "      <th>0</th>\n",
       "    </tr>\n",
       "  </thead>\n",
       "  <tbody>\n",
       "    <tr>\n",
       "      <th>fx_rate_goal_projectname_len_static_usd_rate_delta_created_launch_delta_launch_deadline_1</th>\n",
       "      <td>0.135234</td>\n",
       "    </tr>\n",
       "    <tr>\n",
       "      <th>fx_rate_goal_projectname_len_static_usd_rate_delta_created_launch_delta_launch_deadline_4</th>\n",
       "      <td>0.103488</td>\n",
       "    </tr>\n",
       "    <tr>\n",
       "      <th>fx_rate_goal_projectname_len_static_usd_rate_delta_created_launch_delta_launch_deadline_2</th>\n",
       "      <td>0.083379</td>\n",
       "    </tr>\n",
       "    <tr>\n",
       "      <th>fx_rate_goal_projectname_len_static_usd_rate_delta_created_launch_delta_launch_deadline_5</th>\n",
       "      <td>0.067514</td>\n",
       "    </tr>\n",
       "    <tr>\n",
       "      <th>fx_rate_goal_projectname_len_static_usd_rate_delta_created_launch_delta_launch_deadline_3</th>\n",
       "      <td>0.016784</td>\n",
       "    </tr>\n",
       "    <tr>\n",
       "      <th>country_sub_category_usd_type_currency_Category_launched_month_deadline_month_created_month_x4_food</th>\n",
       "      <td>0.014309</td>\n",
       "    </tr>\n",
       "    <tr>\n",
       "      <th>country_sub_category_usd_type_currency_Category_launched_month_deadline_month_created_month_x1_Food</th>\n",
       "      <td>0.012012</td>\n",
       "    </tr>\n",
       "    <tr>\n",
       "      <th>country_sub_category_usd_type_currency_Category_launched_month_deadline_month_created_month_x1_Web</th>\n",
       "      <td>0.011324</td>\n",
       "    </tr>\n",
       "    <tr>\n",
       "      <th>country_sub_category_usd_type_currency_Category_launched_month_deadline_month_created_month_x1_Documentary</th>\n",
       "      <td>0.010508</td>\n",
       "    </tr>\n",
       "    <tr>\n",
       "      <th>country_sub_category_usd_type_currency_Category_launched_month_deadline_month_created_month_x1_Product Design</th>\n",
       "      <td>0.009769</td>\n",
       "    </tr>\n",
       "    <tr>\n",
       "      <th>country_sub_category_usd_type_currency_Category_launched_month_deadline_month_created_month_x1_Shorts</th>\n",
       "      <td>0.009703</td>\n",
       "    </tr>\n",
       "  </tbody>\n",
       "</table>\n",
       "</div>"
      ],
      "text/plain": [
       "                                                           0\n",
       "fx_rate_goal_projectname_len_static_usd_rate_de...  0.135234\n",
       "fx_rate_goal_projectname_len_static_usd_rate_de...  0.103488\n",
       "fx_rate_goal_projectname_len_static_usd_rate_de...  0.083379\n",
       "fx_rate_goal_projectname_len_static_usd_rate_de...  0.067514\n",
       "fx_rate_goal_projectname_len_static_usd_rate_de...  0.016784\n",
       "country_sub_category_usd_type_currency_Category...  0.014309\n",
       "country_sub_category_usd_type_currency_Category...  0.012012\n",
       "country_sub_category_usd_type_currency_Category...  0.011324\n",
       "country_sub_category_usd_type_currency_Category...  0.010508\n",
       "country_sub_category_usd_type_currency_Category...  0.009769\n",
       "country_sub_category_usd_type_currency_Category...  0.009703"
      ]
     },
     "execution_count": 272,
     "metadata": {},
     "output_type": "execute_result"
    }
   ],
   "source": [
    "# get importances\n",
    "feature_importance_rf = pd.DataFrame(clf.feature_importances_).T\n",
    "feature_importance_rf.columns = alt_pipeline.transformed_names_\n",
    "print(\"Top 10 most important features according to Random Forest: \")\n",
    "feature_importance_rf.T.sort_values (by = 0, ascending = False)[:11] "
   ]
  },
  {
   "cell_type": "markdown",
   "id": "b47f8927",
   "metadata": {},
   "source": [
    "- Similarly to previous models, some important features include subcategory, goal, the difference between created and launched, and the project name length.\n",
    "- In this case, not only Product Design and Documentary were chosen, but Food category seems to have some importance in the model"
   ]
  },
  {
   "cell_type": "markdown",
   "id": "0779d902-4d37-462c-8262-2629caa708a1",
   "metadata": {},
   "source": [
    "#### Comment on time:\n",
    "* From all the models, Random Forest is the one that took less time to fit the variables. This is explained by the selection of specific sub-samples for each tree, rather than the whole dataset. Conclusion: random forest is less time-consuming, even if it consists of various decision trees.\n",
    "\n",
    "#### Comment on model performance\n",
    "* Once again, we are presented with a model that preforms really good on the train test and worse on the test. However, the test scores are better compared to the decision tree ones, as expected, thus our hypothesis is confirmed. \n",
    "* Generally having very high train and test scores, concluding we are not facing any underfitting issues here.\n",
    "* Receiving very high test scores, with small differences between test and train, gives us the right to conclude that we are not facing overfitting issues. As it is normal, for the model to perform a bit worse on unknown data, than on already known ones.\n",
    "* Random forest classifier is a model with overall very good fit time and good scorings, eliminating any overfitting or underfitting possibilities.\n"
   ]
  },
  {
   "cell_type": "markdown",
   "id": "95f70071-85fa-4d13-bc65-98561274f376",
   "metadata": {},
   "source": [
    "## **<center><span style=\"color:forestgreen\">Finetuning Random Forest Classifier</span><center>**"
   ]
  },
  {
   "cell_type": "code",
   "execution_count": 262,
   "id": "ecf778a1-c495-4179-b6d5-b8436ee8db4d",
   "metadata": {},
   "outputs": [],
   "source": [
    "param_dict = {\"criterion\": [\"gini\", \"entropy\"], \n",
    "             \"min_samples_split\": range(1,10),\n",
    "             \"min_samples_leaf\": range(1,5)}"
   ]
  },
  {
   "cell_type": "code",
   "execution_count": 57,
   "id": "ced3e267-f9b1-4a0a-b84d-d0b2e36f8135",
   "metadata": {},
   "outputs": [],
   "source": [
    "start_time = time.time()"
   ]
  },
  {
   "cell_type": "code",
   "execution_count": 263,
   "id": "42a2e121-e32f-459d-b1be-56dddabc1bc9",
   "metadata": {},
   "outputs": [],
   "source": [
    "gr_search_rf = GridSearchCV(estimator=clf, param_grid=param_dict, \n",
    "                          cv=5, scoring='precision')"
   ]
  },
  {
   "cell_type": "code",
   "execution_count": 264,
   "id": "4ced4b13-c44b-43bb-a02a-552bfea745bd",
   "metadata": {},
   "outputs": [
    {
     "data": {
      "text/plain": [
       "GridSearchCV(cv=5, estimator=RandomForestClassifier(n_estimators=10),\n",
       "             param_grid={'criterion': ['gini', 'entropy'],\n",
       "                         'min_samples_leaf': range(1, 5),\n",
       "                         'min_samples_split': range(1, 10)},\n",
       "             scoring='precision')"
      ]
     },
     "execution_count": 264,
     "metadata": {},
     "output_type": "execute_result"
    }
   ],
   "source": [
    "gr_search_rf.fit(prepared_data, y_train)"
   ]
  },
  {
   "cell_type": "code",
   "execution_count": 265,
   "id": "e86a8969-310b-4d66-9f1e-573fbb141381",
   "metadata": {},
   "outputs": [
    {
     "name": "stdout",
     "output_type": "stream",
     "text": [
      "The fit time for Random Forest grid search is: 6897.186331748962\n"
     ]
    }
   ],
   "source": [
    "end_time = time.time()\n",
    "print(f\"The fit time for Random Forest grid search is: {end_time-start_time}\")"
   ]
  },
  {
   "cell_type": "code",
   "execution_count": 266,
   "id": "eec1ecff-78c5-4c0b-b047-95e9c771db7f",
   "metadata": {},
   "outputs": [
    {
     "name": "stdout",
     "output_type": "stream",
     "text": [
      "{'criterion': 'entropy', 'min_samples_leaf': 1, 'min_samples_split': 2}\n"
     ]
    }
   ],
   "source": [
    "best_parameter = gr_search_rf.best_params_\n",
    "print(best_parameter)"
   ]
  },
  {
   "cell_type": "code",
   "execution_count": 267,
   "id": "e1c31c9a-0a1e-4dc7-a483-7676fb0bfd45",
   "metadata": {},
   "outputs": [
    {
     "name": "stdout",
     "output_type": "stream",
     "text": [
      "[[59413   310]\n",
      " [ 1118 88228]]\n",
      "Precision: 0.996498678533511\n",
      "Recall: 0.9874868488796364\n",
      "Accuracy: 0.9904205435066983\n"
     ]
    }
   ],
   "source": [
    "#predicting on the train data\n",
    "y_pred_rf_gr_search = gr_search_rf.predict(prepared_data)\n",
    "\n",
    "cn = confusion_matrix(y_train, y_pred_rf_gr_search)\n",
    "print(cn)\n",
    "\n",
    "print(\"Precision:\",metrics.precision_score(y_train, y_pred_rf_gr_search))\n",
    "print(\"Recall:\",metrics.recall_score(y_train, y_pred_rf_gr_search))\n",
    "print(\"Accuracy:\",metrics.accuracy_score(y_train, y_pred_rf_gr_search))"
   ]
  },
  {
   "cell_type": "code",
   "execution_count": 268,
   "id": "ca932af5-5c1a-4194-a9f0-5ddde076eb71",
   "metadata": {},
   "outputs": [
    {
     "name": "stdout",
     "output_type": "stream",
     "text": [
      "[[10773  4226]\n",
      " [ 4364 17905]]\n",
      "Precision: 0.8090461343816366\n",
      "Recall: 0.8040325115631596\n",
      "Accuracy: 0.7695073521519803\n"
     ]
    }
   ],
   "source": [
    "#predicting on the test data\n",
    "\n",
    "y_pred_rf_gr_search = gr_search_rf.predict(prepared_data_test)\n",
    "\n",
    "cn = confusion_matrix(y_test, y_pred_rf_gr_search)\n",
    "print(cn)\n",
    "\n",
    "print(\"Precision:\",metrics.precision_score(y_test, y_pred_rf_gr_search))\n",
    "print(\"Recall:\",metrics.recall_score(y_test, y_pred_rf_gr_search))\n",
    "print(\"Accuracy:\",metrics.accuracy_score(y_test, y_pred_rf_gr_search))"
   ]
  },
  {
   "cell_type": "code",
   "execution_count": 274,
   "id": "ff19cf9d",
   "metadata": {},
   "outputs": [
    {
     "name": "stdout",
     "output_type": "stream",
     "text": [
      "Top 10 most important features according to Random Forest (optimized): \n"
     ]
    },
    {
     "data": {
      "text/html": [
       "<div>\n",
       "<style scoped>\n",
       "    .dataframe tbody tr th:only-of-type {\n",
       "        vertical-align: middle;\n",
       "    }\n",
       "\n",
       "    .dataframe tbody tr th {\n",
       "        vertical-align: top;\n",
       "    }\n",
       "\n",
       "    .dataframe thead th {\n",
       "        text-align: right;\n",
       "    }\n",
       "</style>\n",
       "<table border=\"1\" class=\"dataframe\">\n",
       "  <thead>\n",
       "    <tr style=\"text-align: right;\">\n",
       "      <th></th>\n",
       "      <th>0</th>\n",
       "    </tr>\n",
       "  </thead>\n",
       "  <tbody>\n",
       "    <tr>\n",
       "      <th>fx_rate_goal_projectname_len_static_usd_rate_delta_created_launch_delta_launch_deadline_1</th>\n",
       "      <td>0.129402</td>\n",
       "    </tr>\n",
       "    <tr>\n",
       "      <th>fx_rate_goal_projectname_len_static_usd_rate_delta_created_launch_delta_launch_deadline_4</th>\n",
       "      <td>0.095787</td>\n",
       "    </tr>\n",
       "    <tr>\n",
       "      <th>fx_rate_goal_projectname_len_static_usd_rate_delta_created_launch_delta_launch_deadline_2</th>\n",
       "      <td>0.083051</td>\n",
       "    </tr>\n",
       "    <tr>\n",
       "      <th>fx_rate_goal_projectname_len_static_usd_rate_delta_created_launch_delta_launch_deadline_5</th>\n",
       "      <td>0.067619</td>\n",
       "    </tr>\n",
       "    <tr>\n",
       "      <th>fx_rate_goal_projectname_len_static_usd_rate_delta_created_launch_delta_launch_deadline_3</th>\n",
       "      <td>0.018471</td>\n",
       "    </tr>\n",
       "    <tr>\n",
       "      <th>country_sub_category_usd_type_currency_Category_launched_month_deadline_month_created_month_x1_Product Design</th>\n",
       "      <td>0.013117</td>\n",
       "    </tr>\n",
       "    <tr>\n",
       "      <th>country_sub_category_usd_type_currency_Category_launched_month_deadline_month_created_month_x1_Shorts</th>\n",
       "      <td>0.012355</td>\n",
       "    </tr>\n",
       "    <tr>\n",
       "      <th>country_sub_category_usd_type_currency_Category_launched_month_deadline_month_created_month_x1_Documentary</th>\n",
       "      <td>0.012310</td>\n",
       "    </tr>\n",
       "    <tr>\n",
       "      <th>country_sub_category_usd_type_currency_Category_launched_month_deadline_month_created_month_x1_Video Games</th>\n",
       "      <td>0.011561</td>\n",
       "    </tr>\n",
       "    <tr>\n",
       "      <th>country_sub_category_usd_type_currency_Category_launched_month_deadline_month_created_month_x1_Indie Rock</th>\n",
       "      <td>0.010734</td>\n",
       "    </tr>\n",
       "    <tr>\n",
       "      <th>country_sub_category_usd_type_currency_Category_launched_month_deadline_month_created_month_x1_Tabletop Games</th>\n",
       "      <td>0.010464</td>\n",
       "    </tr>\n",
       "  </tbody>\n",
       "</table>\n",
       "</div>"
      ],
      "text/plain": [
       "                                                           0\n",
       "fx_rate_goal_projectname_len_static_usd_rate_de...  0.129402\n",
       "fx_rate_goal_projectname_len_static_usd_rate_de...  0.095787\n",
       "fx_rate_goal_projectname_len_static_usd_rate_de...  0.083051\n",
       "fx_rate_goal_projectname_len_static_usd_rate_de...  0.067619\n",
       "fx_rate_goal_projectname_len_static_usd_rate_de...  0.018471\n",
       "country_sub_category_usd_type_currency_Category...  0.013117\n",
       "country_sub_category_usd_type_currency_Category...  0.012355\n",
       "country_sub_category_usd_type_currency_Category...  0.012310\n",
       "country_sub_category_usd_type_currency_Category...  0.011561\n",
       "country_sub_category_usd_type_currency_Category...  0.010734\n",
       "country_sub_category_usd_type_currency_Category...  0.010464"
      ]
     },
     "execution_count": 274,
     "metadata": {},
     "output_type": "execute_result"
    }
   ],
   "source": [
    "# get importances\n",
    "feature_importance_best_rf = pd.DataFrame(gr_search_rf.best_estimator_.feature_importances_).T\n",
    "feature_importance_best_rf.columns = alt_pipeline.transformed_names_\n",
    "print(\"Top 10 most important features according to Random Forest (optimized): \")\n",
    "feature_importance_best_rf.T.sort_values (by = 0, ascending = False)[:11] "
   ]
  },
  {
   "cell_type": "markdown",
   "id": "62fb848b",
   "metadata": {},
   "source": [
    "- After tuning our random forest, we can see that Product Design and Documentary remained important, and Video Games is now considered relevant. Morevoer, the goal, difference between created and launched, and project name lenght also stayed as the top relevant features."
   ]
  },
  {
   "cell_type": "markdown",
   "id": "548c49d6-99a2-4075-92a7-521a82bbff27",
   "metadata": {},
   "source": [
    "#### Comment on time:\n",
    "* It was expectable that the by using the grid search it would take longer, however, the amount of hyperparameters that we feed the model with justify the 45 minutes of fit time. \n",
    "* All in all, even if it is a little time consuming, when compared to the previous ones and possible future models, it is good. \n",
    "\n",
    "#### Comment on model performance:\n",
    "* We believe that these are one of the best scores obatined.\n",
    "* When we look at the previous grid-searches applied in other models, the train and test scores were not as high as with the Random Forest\n",
    "* We can conclude that with our best parameters, we obtained one of the best models, and even though it takes a little more time, the trade-off time-scores is justifiable"
   ]
  },
  {
   "cell_type": "markdown",
   "id": "14957233-43d3-4bc4-8742-4608f5f20a3d",
   "metadata": {},
   "source": [
    "# **<center><span style=\"background:palegreen\">Support Vector Classifier</span><center>**"
   ]
  },
  {
   "cell_type": "markdown",
   "id": "38dbf1ea-ef77-4c94-bfaa-7e28b3b7a44b",
   "metadata": {},
   "source": [
    "Support vector machine might be a helpful classifier in some cases, so we will test how it performs on our data. \n",
    "\n",
    "Some of the advantages of the SVM algorithm:\n",
    "* Handles non-linear data efficiently with the kernel trick.\n",
    "* We can change the regularization parameter to prevent overfitting our data\n",
    "* Support vectors remain usually the same with small changes of the data, so the model is stable, meaning we won’t expect to see highly different results if change does not change that much.\n",
    "\n",
    "Some disadvantages:\n",
    "* For our problem at hand, SVM might not be suitable. Because we have a large dataset, this algorithm takes a long time to train given the way it operates (by using the kernel trick, the algorithm transforms the data in a way that makes it separable and then finds the support vectors – data points that reduce the margin of our classifying “line” between our 2 classes.\n",
    "* While there are many parameters to tune, doing so it is computationally and time costly. \n",
    "* Unfortunately, given the way that it classifies the data, is very hard to interpret the results – not easy to determine what variables are having what impact, especially if we have many features. This is not recommended for business problems, unlike tree-based models, where we can visualize the parameters and values that are used for classification.\n"
   ]
  },
  {
   "cell_type": "markdown",
   "id": "d6739d6c-e80d-45db-a84e-2b4a44127674",
   "metadata": {},
   "source": [
    "**Expectations:** <br> While we expect relatively good predictions, the training time of this model would make it one of the worst options.<br> If we were able to fine tune the model, we might get better results. However, the time alone in training would be already costly, thus finding best hyperparameters might not be feasible.\n"
   ]
  },
  {
   "cell_type": "code",
   "execution_count": 88,
   "id": "e5fcd116-d57a-45a0-b103-1461f27ccf78",
   "metadata": {},
   "outputs": [
    {
     "name": "stdout",
     "output_type": "stream",
     "text": [
      "The fit time for SVC is: 31359.05060005188\n"
     ]
    }
   ],
   "source": [
    "start_time = time.time()\n",
    "clf_svc = SVC(random_state = 42) # all other params default\n",
    "clf_svc.fit(prepared_data, y_train)\n",
    "end_time = time.time()\n",
    "print(f\"The fit time for SVC is: {end_time-start_time}\")"
   ]
  },
  {
   "cell_type": "code",
   "execution_count": 89,
   "id": "0ee6ef07",
   "metadata": {},
   "outputs": [],
   "source": [
    "#predicting on the train\n",
    "predicted_y = clf_svc.predict(prepared_data)"
   ]
  },
  {
   "cell_type": "code",
   "execution_count": 100,
   "id": "ced72260",
   "metadata": {},
   "outputs": [],
   "source": [
    "#calculating our metric of choice\n",
    "tn, fp, fn, tp = confusion_matrix(y_train, predicted_y).ravel()\n",
    "precision_score = tp / (tp + fp)"
   ]
  },
  {
   "cell_type": "code",
   "execution_count": 101,
   "id": "802e8ea6",
   "metadata": {},
   "outputs": [
    {
     "name": "stdout",
     "output_type": "stream",
     "text": [
      "The precision score for the train data is 0.861765550926591\n"
     ]
    }
   ],
   "source": [
    "print(f\"The precision score for the train data is {precision_score}\")"
   ]
  },
  {
   "cell_type": "code",
   "execution_count": 97,
   "id": "610b33b4",
   "metadata": {},
   "outputs": [],
   "source": [
    "#predicting on the test\n",
    "predicted_y_test = clf_svc.predict(prepared_data_test)"
   ]
  },
  {
   "cell_type": "code",
   "execution_count": 98,
   "id": "f1bd428e",
   "metadata": {},
   "outputs": [],
   "source": [
    "#calculating our metric of choice\n",
    "tn, fp, fn, tp = confusion_matrix(y_test, predicted_y_test).ravel()\n",
    "precision_score = tp / (tp + fp)"
   ]
  },
  {
   "cell_type": "code",
   "execution_count": 99,
   "id": "0b2f0b07",
   "metadata": {},
   "outputs": [
    {
     "name": "stdout",
     "output_type": "stream",
     "text": [
      "The precision score for the test data is 0.8426166426166426\n"
     ]
    }
   ],
   "source": [
    "print(f\"The precision score for the test data is {precision_score}\")"
   ]
  },
  {
   "cell_type": "markdown",
   "id": "aeefb1c4",
   "metadata": {},
   "source": [
    "#### Comment on time:\n",
    "* Regarding time, as we expected, the SVC took a long time (around 9 hours). As explained earlier, this is because of how the SVM algorithm finds the patterns. \n",
    "* This would be a disadvantage if model needs to be constantly trained and improved for business purposes.\n",
    "\n",
    "#### Comment on model performance\n",
    "* In terms of score, our precision in both train and test data was over 80%. This is a good sign because it indicates the model is generalizing well, since our precision score in test data was only 2 % less than in the train data (84 vs 86%)\n",
    "* Overall, given the time the model took for training, we would have liked to see higher results (at least 90%). We acknowledge that some hyperparameter tuning would be ideal in this situation, since the parameters used were the default ones. \n",
    "* Yet, this would be computationally and time expensive to perform."
   ]
  },
  {
   "cell_type": "markdown",
   "id": "0235fe41",
   "metadata": {},
   "source": [
    "# **<center><span style=\"background:palegreen\">AdaBoost Classifier</span><center>**"
   ]
  },
  {
   "cell_type": "markdown",
   "id": "2b8bbbc7-fbc2-4df8-af8d-093b38588fc1",
   "metadata": {},
   "source": [
    "Just like other Boosting algorithms, ADABoost is a set of the low accurate classifier to create a highly accurate classifier. It will be able to track the model who failed the accurate prediction and provide a good fit by minimising training error. A single classifier may not be able to reliably forecast an object's class, but we may develop a powerful model by combining numerous weak classifiers, each learning from the others' incorrectly classified items. The default value of the ADABoost classifier is the DecisionTree Classifier, although it is possible to change the base learner also to SVC. However, we opt to not try ADABoost with SVC as base learner, since we expect to have the largest fit time of the models and we already have performed models with good scores, meaning, that if we consider the ratio of time and scores, it is not worth it to perform such model.\n",
    "\n",
    "AdaBoost has a lot of advantages: \n",
    "* it is easier to use with less need for tweaking parameters unlike algorithms like SVM. \n",
    "* less affected by the overfitting problem.\n",
    "* It could be because of the reason that parameters are not jointly optimised \n",
    "* improve the accuracy of your weak classifiers \n",
    "\n",
    "However, there are a  few Disadvantages of AdaBoost are :\n",
    "* important to ensure that you have quality data. \n",
    "* extremely sensitive to Noisy data and outliers \n",
    "\n",
    "**Expectations:** <br>\n",
    "Given that we have low noisy data and timeliness of result is not the main concern, we expect to have better results with AdaBoost model. \n",
    "We also expect  our model to not overfit on the train data, and as concesquence to have good score results for precision."
   ]
  },
  {
   "cell_type": "code",
   "execution_count": 83,
   "id": "53ff639a",
   "metadata": {},
   "outputs": [
    {
     "name": "stdout",
     "output_type": "stream",
     "text": [
      "The fit time for ADABoost with Decision Tree is: 290.76871609687805\n"
     ]
    }
   ],
   "source": [
    "start_time = time.time()\n",
    "\n",
    "# The following code trains an AdaBoost classifier based on 200 Decision Stumps:\n",
    "ada_clf = AdaBoostClassifier(DecisionTreeClassifier(max_depth=1), \n",
    "                             n_estimators=200,\n",
    "                             algorithm=\"SAMME.R\", \n",
    "                             learning_rate=0.5, \n",
    "                             random_state=42)\n",
    "\n",
    "ada_clf.fit(prepared_data, y_train)\n",
    "\n",
    "end_time = time.time()\n",
    "print(f\"The fit time for ADABoost with Decision Tree is: {end_time-start_time}\")"
   ]
  },
  {
   "cell_type": "code",
   "execution_count": 84,
   "id": "a8fdf59b",
   "metadata": {},
   "outputs": [],
   "source": [
    "#Predict the response for test dataset \n",
    "y_pred = ada_clf.predict(prepared_data)"
   ]
  },
  {
   "cell_type": "code",
   "execution_count": 85,
   "id": "ce7beba1",
   "metadata": {},
   "outputs": [
    {
     "name": "stdout",
     "output_type": "stream",
     "text": [
      "Precision Score: 0.8285684820845413\n"
     ]
    }
   ],
   "source": [
    "tn, fp, fn, tp = confusion_matrix(y_train, y_pred).ravel()\n",
    "precision_score = tp / (tp + fp)\n",
    "print(\"Precision Score:\", precision_score)"
   ]
  },
  {
   "cell_type": "code",
   "execution_count": 86,
   "id": "22febe5c",
   "metadata": {},
   "outputs": [],
   "source": [
    "#Predict the response for test dataset \n",
    "y_pred_test = ada_clf.predict(prepared_data_test)"
   ]
  },
  {
   "cell_type": "code",
   "execution_count": 87,
   "id": "2c27b1c8",
   "metadata": {},
   "outputs": [
    {
     "name": "stdout",
     "output_type": "stream",
     "text": [
      "Precision Score: 0.7620479544195616\n"
     ]
    }
   ],
   "source": [
    "tn, fp, fn, tp = confusion_matrix(y_test, y_pred_test).ravel()\n",
    "precision_score = tp / (tp + fp)\n",
    "print(\"Precision Score:\", precision_score)"
   ]
  },
  {
   "cell_type": "markdown",
   "id": "129a2e37",
   "metadata": {},
   "source": [
    "#### Comment on time\n",
    "* Besides the really fast fit time of Random Forest and Decision Tree, this model performs well.\n",
    "* It's time is normally a little longer than some other models due to the amount of estimators that we fed the model with\n",
    "* However, if we take a broad grasp through all the fitting times, we conclude that ADABoost has a really good performance (thus the reason of not performing the ADABoost - SVC as it was already stated)\n",
    "\n",
    "#### Comment on model performance\n",
    "* For this model we just present the precision score, since it is our chosen metric of evaluation to better understand other situations such as overfitting.\n",
    "* Given the train and test scores for precision, we denote that with this model our data doesn't overfit as we were already expecting given the model properties.\n",
    "* The fact that our data is not noisy and doesn't have much outliers, helped to achieve a better model."
   ]
  },
  {
   "cell_type": "markdown",
   "id": "2d00d846",
   "metadata": {},
   "source": [
    "# **<center><span style=\"background:palegreen\">Neural Network</span><center>**"
   ]
  },
  {
   "cell_type": "markdown",
   "id": "99e5370c-3517-4ad3-a705-4d86e7bce8fd",
   "metadata": {},
   "source": [
    "For further explanation, we have decided to try out a Neural Network model, specifically the MLPClassifier, which performs task classification but is simple enough to use it promptly\n",
    "\n",
    "Some of the advantage of the Neural Network:\n",
    "* Flexible and able to handle large data, as it splits the data into layers\n",
    "* After fitting, is quick to predict\n",
    "* Provides good results\n",
    "\n",
    "Some of the disadvantages of the Neural Network:\n",
    "* In essence, Neural Networks are a black box models, namely, the results are difficult to interpret as there is no particular way to understand which features influence the dependent variable the most\n",
    "* Since it is a non-linear model, it is prone to overfitting\n",
    "\n",
    "**Expectations:** <br> We expect to obtain a model that does not necessarily have the lowest fitting time, however, has one of the best results\n"
   ]
  },
  {
   "cell_type": "code",
   "execution_count": 49,
   "id": "79c34ca0",
   "metadata": {},
   "outputs": [
    {
     "name": "stdout",
     "output_type": "stream",
     "text": [
      "The fit time for neural networks is: 56.662028074264526\n"
     ]
    }
   ],
   "source": [
    "start_time = time.time()\n",
    "clf = MLPClassifier(solver='lbfgs', alpha=1e-5, hidden_layer_sizes=(5, 2), random_state=1)\n",
    "clf.fit(prepared_data, y_train)\n",
    "end_time = time.time()\n",
    "print(f\"The fit time for neural networks is: {end_time-start_time}\")"
   ]
  },
  {
   "cell_type": "code",
   "execution_count": 50,
   "id": "dfd53257",
   "metadata": {},
   "outputs": [],
   "source": [
    "# Predicting and evaluating on the train set"
   ]
  },
  {
   "cell_type": "code",
   "execution_count": 51,
   "id": "62532699",
   "metadata": {},
   "outputs": [],
   "source": [
    "y_train_pred = clf.predict(prepared_data)"
   ]
  },
  {
   "cell_type": "code",
   "execution_count": 52,
   "id": "c5877962",
   "metadata": {},
   "outputs": [
    {
     "data": {
      "text/plain": [
       "array([[44802, 14921],\n",
       "       [17039, 72307]])"
      ]
     },
     "execution_count": 52,
     "metadata": {},
     "output_type": "execute_result"
    }
   ],
   "source": [
    "# Confusion Matrix \n",
    "cnf_matrix = metrics.confusion_matrix(y_train, y_train_pred)\n",
    "cnf_matrix"
   ]
  },
  {
   "cell_type": "code",
   "execution_count": 53,
   "id": "7868e769",
   "metadata": {},
   "outputs": [
    {
     "name": "stdout",
     "output_type": "stream",
     "text": [
      "Precision: 0.8289425413857936\n",
      "Recall: 0.8092919660645133\n",
      "Accuracy: 0.7856026403880082\n"
     ]
    }
   ],
   "source": [
    "print(\"Precision:\",metrics.precision_score(y_train, y_train_pred))\n",
    "print(\"Recall:\",metrics.recall_score(y_train, y_train_pred))\n",
    "print(\"Accuracy:\",metrics.accuracy_score(y_train, y_train_pred))"
   ]
  },
  {
   "cell_type": "code",
   "execution_count": 54,
   "id": "ea95c938",
   "metadata": {},
   "outputs": [],
   "source": [
    "# Predicting and evaluating on the train set"
   ]
  },
  {
   "cell_type": "code",
   "execution_count": 55,
   "id": "29b90397",
   "metadata": {},
   "outputs": [],
   "source": [
    "y_test_pred =clf.predict(prepared_data_test)"
   ]
  },
  {
   "cell_type": "code",
   "execution_count": 56,
   "id": "93f5af10",
   "metadata": {},
   "outputs": [
    {
     "data": {
      "text/plain": [
       "array([[11214,  3785],\n",
       "       [ 4332, 17937]])"
      ]
     },
     "execution_count": 56,
     "metadata": {},
     "output_type": "execute_result"
    }
   ],
   "source": [
    "cnf_matrix = metrics.confusion_matrix(y_test, y_test_pred)\n",
    "cnf_matrix"
   ]
  },
  {
   "cell_type": "code",
   "execution_count": 57,
   "id": "2a5053af",
   "metadata": {},
   "outputs": [
    {
     "name": "stdout",
     "output_type": "stream",
     "text": [
      "Precision: 0.8257526931221802\n",
      "Recall: 0.8054694867304324\n",
      "Accuracy: 0.7821992057529248\n"
     ]
    }
   ],
   "source": [
    "print(\"Precision:\",metrics.precision_score(y_test, y_test_pred))\n",
    "print(\"Recall:\",metrics.recall_score(y_test, y_test_pred))\n",
    "print(\"Accuracy:\",metrics.accuracy_score(y_test, y_test_pred))"
   ]
  },
  {
   "cell_type": "code",
   "execution_count": 58,
   "id": "87110868",
   "metadata": {},
   "outputs": [],
   "source": [
    "# Pros: provides quick prediction and quite accurate scores"
   ]
  },
  {
   "cell_type": "markdown",
   "id": "de87110c",
   "metadata": {},
   "source": [
    "#### Comment on time:\n",
    "* As expected, the fitting time is not as long as some other models that took hours to fit, however, not as quick as Decision Tree or Random Forest. \n",
    "* Nevertheless, the model is relatively quick to fit, given the good results\n",
    "\n",
    "#### Comment on model performance\n",
    "* The model performance is among the best of the models, with precision above 80%. \n",
    "* As expected, Neural network models provide better scoring, however, a drawback is that it is difficult to identify afterwards what features have the biggest influence in our dependent variable, that is, whether the project will be successful or not.\n"
   ]
  },
  {
   "cell_type": "markdown",
   "id": "48779343-2713-4bd1-b670-77860b549cf9",
   "metadata": {},
   "source": [
    "# **<center><span style=\"color:limegreen\">Evaluation</span><center>**"
   ]
  },
  {
   "cell_type": "markdown",
   "id": "80f9c25c-adc3-4075-878d-0a4bb1ba2a9a",
   "metadata": {},
   "source": [
    "### 1) Interpretability\n",
    "| Model | White Box | Black Box | Explanation |\n",
    "| ----------- | ----------- | ----------- | ----------- |\n",
    "| Logistic Regression | X | | <center> Significantly easier to explain and <br> interpret but provide less predictive capacity <center>|\n",
    "| Decision Tree | X |  |<center>Able to produce \"understandable\" rules and <br> the decision tree can be visualized<center> |\n",
    "| XGBoost |  | X |<center>Hard to explain in simple terms how <br> the predictions were made<center> |\n",
    "| Random Forest Classifier |  | X |<center>It is infeasible to gain a full understanding of <br> the decision process by examining <br> each individual tree.<center> |\n",
    "| SVC |  | X | <center>Difficult to understand its <br> internal workings<center>|\n",
    "| ADABoost |  | X |<center>Due to is internal structure and system <br> difficult to analyse mathematically<center> |\n",
    "| Neural Networks | | X | <center>They generate their own questions and rules <br> and lack of transparency regarding how they do it.<center>|\n",
    "\n",
    "### 2) Scalability \n",
    "Overall, most of the chosen models are good when used to build/predict on a lot of data. It is important to highlight that when using a Decision Tree model you must be aware of the instability of the model, given that any change on the train set can lead to a complete change of the model performance. As for the SVC, it is not proper when using a lot of data because the training complexity of Sit is highly dependent on the size of data set. However, it is not relevant in our project due to not having a lot of data points.\n",
    "    \n",
    "\n",
    "### 3) Speed\n",
    "| Fit time < 300s | Fit time > 300s|\n",
    "| ----------- | ----------- |\n",
    "| Logisic Regression | Decision Tree |\n",
    "| ADABoost|XGBoost |\n",
    "| Neural Networks | SVC |\n",
    "|  | Random Forest Classifier |\n",
    "\n",
    "### 4) Accuracy\n",
    "Our goal is to find out wether our project is succefull and 80% confidence rate is sufficient and trustworthy enough to invest in the project. Although there is no officialy benchmark for the appropriate margin of safety according to INN money 80% probability of success is enough. Anything that falls below 80% is a risky investment. <br> *source: https://money.cnn.com/2014/10/21/retirement/monte-carlo-success-rate/*\n",
    "\n",
    "| Train scores > 0.8 | Train scores < 0.8 | Test scores > 0.8 | Test scores < 0.8 |\n",
    "| ----------- | ----------- | ----------- | ----------- |\n",
    "|  Logistic Regression  | Decision Tree   | Logistic Regression   | ADABoost |\n",
    "|  Random Forest Classifier |   |  Random Forest Classifier | Decision Tree  |\n",
    "|  ADABoost |   |  Neural Networks | XGBoost |\n",
    "|  Neural Networks |   |  SVC  |  |\n",
    "| XGBoost |   |   |   |\n",
    "| SVC |   |   |   |"
   ]
  },
  {
   "cell_type": "markdown",
   "id": "2442dff9-32cc-44dc-b329-7fc5eea94831",
   "metadata": {},
   "source": [
    "# **<center><span style=\"color:limegreen\">Conclusion</span><center>**"
   ]
  },
  {
   "cell_type": "markdown",
   "id": "39287cc5",
   "metadata": {},
   "source": [
    "Given our evalution, and the threshold upon the success of prediction, we believe we are left with 4 model choices: Logistic Regression, Random Forest Classifier, SVC, and neural Network. <br> Moreover, it is extremelly important to have a balance between the good scores and the time that it takes the model to fit, thus we autmatically exclude the SVC from the chosen model due to being a really time consuming one. <br> On the other hand, the interpretability is also an important measure to be taken into account, and the fact that Neural networks models can't extract any business information we can't extract recommendations to potential project creators/investors. <br> This leaves us with two options: Logistic Regression with fine-tuned parameters and Random Forest Classifier also with fine-tuned parameters. Between these two models that provide similar good results we are choosing the Random Forest Classifier with an outlook for the future. Beyond the fact that ensembled methods are always better than doing one model, the Random Forest Classifier ensures that whatever data we might get in the future will be handled. <br> For instance, we might need to feed our model with additional data that includes missing values or outliers. Our model will still be able to mantain accuracy since it can handle missing data and it is not sensitive to outliers."
   ]
  }
 ],
 "metadata": {
  "kernelspec": {
   "display_name": "Python 3",
   "language": "python",
   "name": "python3"
  },
  "language_info": {
   "codemirror_mode": {
    "name": "ipython",
    "version": 3
   },
   "file_extension": ".py",
   "mimetype": "text/x-python",
   "name": "python",
   "nbconvert_exporter": "python",
   "pygments_lexer": "ipython3",
   "version": "3.8.8"
  }
 },
 "nbformat": 4,
 "nbformat_minor": 5
}
